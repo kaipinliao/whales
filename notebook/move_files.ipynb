{
 "cells": [
  {
   "cell_type": "code",
   "execution_count": null,
   "metadata": {
    "collapsed": true
   },
   "outputs": [],
   "source": [
    "import glob, os\n",
    "import numpy as np\n",
    "import pandas as pd\n",
    "from PIL import Image\n",
    "import matplotlib.pyplot as plt\n",
    "\n",
    "# read label csv\n",
    "READ_PATH = 'C:/Users/Jared Bauman/Desktop/kaggle/whales'\n",
    "os.chdir(READ_PATH)\n",
    "df = pd.read_csv('train.csv')"
   ]
  },
  {
   "cell_type": "markdown",
   "metadata": {},
   "source": [
    "**Move images into subdirectories by label**"
   ]
  },
  {
   "cell_type": "code",
   "execution_count": null,
   "metadata": {
    "collapsed": true
   },
   "outputs": [],
   "source": [
    "# get unique whales\n",
    "whales = df['Id'].drop_duplicates().values\n",
    "\n",
    "os.chdir('train')\n",
    "print(os.getcwd())\n",
    "\n",
    "# create subfolder for each label\n",
    "for w in whales:\n",
    "    try:\n",
    "        os.mkdir(w)\n",
    "    except FileExistsError:\n",
    "        pass "
   ]
  },
  {
   "cell_type": "code",
   "execution_count": null,
   "metadata": {
    "collapsed": true
   },
   "outputs": [],
   "source": [
    "# move images to the correct subdirectory\n",
    "d = dict(zip(df['Image'].values, df['Id'].values))\n",
    "files = glob.glob('*')\n",
    "for f in files:\n",
    "    os.rename(READ_PATH+'train/'+f, READ_PATH+'train/'+d[f]+'/'+f)"
   ]
  },
  {
   "cell_type": "code",
   "execution_count": null,
   "metadata": {
    "collapsed": true
   },
   "outputs": [],
   "source": []
  }
 ],
 "metadata": {
  "kernelspec": {
   "display_name": "Python 3",
   "language": "python",
   "name": "python3"
  },
  "language_info": {
   "codemirror_mode": {
    "name": "ipython",
    "version": 3
   },
   "file_extension": ".py",
   "mimetype": "text/x-python",
   "name": "python",
   "nbconvert_exporter": "python",
   "pygments_lexer": "ipython3",
   "version": "3.6.2"
  }
 },
 "nbformat": 4,
 "nbformat_minor": 2
}
