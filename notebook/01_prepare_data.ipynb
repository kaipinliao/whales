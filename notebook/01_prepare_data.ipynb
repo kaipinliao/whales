{
 "cells": [
  {
   "cell_type": "code",
   "execution_count": 78,
   "metadata": {
    "collapsed": true
   },
   "outputs": [],
   "source": [
    "# prepare training set based on specific conditions\n",
    "# TRAIN images are in TRAIN_PATH\n",
    "# out-of-sample 20% TEST images are in TEST_PATH"
   ]
  },
  {
   "cell_type": "code",
   "execution_count": 62,
   "metadata": {
    "collapsed": true
   },
   "outputs": [],
   "source": [
    "import glob, os\n",
    "import shutil\n",
    "import numpy as np\n",
    "import pandas as pd\n",
    "from PIL import Image\n",
    "import matplotlib.pyplot as plt\n",
    "import math\n",
    "from numpy import newaxis\n",
    "from tqdm import tqdm\n",
    "from sklearn.model_selection import train_test_split\n",
    "%matplotlib inline"
   ]
  },
  {
   "cell_type": "code",
   "execution_count": 2,
   "metadata": {
    "collapsed": true
   },
   "outputs": [],
   "source": [
    "version_number = '0_0'"
   ]
  },
  {
   "cell_type": "code",
   "execution_count": 64,
   "metadata": {
    "collapsed": true
   },
   "outputs": [],
   "source": [
    "CSV_PATH   = 'C:/Users/KaiPin Liao/Documents/kaggle_whales/data/'\n",
    "READ_PATH  = 'C:/Users/KaiPin Liao/Documents/kaggle_whales/data/train_black_and_white/'\n",
    "TRAIN_PATH = 'C:/Users/KaiPin Liao/Documents/kaggle_whales/data/train_' + version_number + '/'\n",
    "TEST_PATH  = 'C:/Users/KaiPin Liao/Documents/kaggle_whales/data/test_' + version_number + '/'"
   ]
  },
  {
   "cell_type": "code",
   "execution_count": 9,
   "metadata": {
    "collapsed": true
   },
   "outputs": [],
   "source": [
    "def create_folder(directory):\n",
    "    if not os.path.exists(directory):\n",
    "        os.makedirs(directory)\n",
    "    else:\n",
    "        print(directory, '\\talready exists!')"
   ]
  },
  {
   "cell_type": "code",
   "execution_count": 10,
   "metadata": {},
   "outputs": [
    {
     "name": "stdout",
     "output_type": "stream",
     "text": [
      "C:/Users/KaiPin Liao/Documents/kaggle_whales/data/train_0_0/ \talready exists!\n",
      "C:/Users/KaiPin Liao/Documents/kaggle_whales/data/test_0_0/ \talready exists!\n"
     ]
    }
   ],
   "source": [
    "create_folder(TRAIN_PATH)\n",
    "create_folder(TEST_PATH)"
   ]
  },
  {
   "cell_type": "code",
   "execution_count": 13,
   "metadata": {},
   "outputs": [
    {
     "name": "stdout",
     "output_type": "stream",
     "text": [
      "There are  25361 pictures.\n",
      "There are  5005 unique whales.\n",
      "806 whales have more than 5 images. 0.16103896103896104\n"
     ]
    }
   ],
   "source": [
    "# get whales with more than 5 samples\n",
    "\n",
    "# read label csv\n",
    "df = pd.read_csv(CSV_PATH + 'train.csv')\n",
    "print('There are ', len(df), 'pictures.')\n",
    "\n",
    "# get unique whales\n",
    "whales = df['Id'].drop_duplicates().values\n",
    "print('There are ', len(whales), 'unique whales.')\n",
    "\n",
    "# there are on average ~5 unique pictures per whale. What does this look like distributionally?\n",
    "count = df.groupby('Id').count().sort_values('Image', ascending=False).reset_index()\n",
    "\n",
    "# yikes 806 whales have >= five images... this will be tough!\n",
    "print(len(count[count['Image']>=5]), 'whales have more than 5 images.', len(count[count['Image']>=5]) / len(whales))"
   ]
  },
  {
   "cell_type": "code",
   "execution_count": 14,
   "metadata": {},
   "outputs": [
    {
     "data": {
      "text/html": [
       "<div>\n",
       "<style scoped>\n",
       "    .dataframe tbody tr th:only-of-type {\n",
       "        vertical-align: middle;\n",
       "    }\n",
       "\n",
       "    .dataframe tbody tr th {\n",
       "        vertical-align: top;\n",
       "    }\n",
       "\n",
       "    .dataframe thead th {\n",
       "        text-align: right;\n",
       "    }\n",
       "</style>\n",
       "<table border=\"1\" class=\"dataframe\">\n",
       "  <thead>\n",
       "    <tr style=\"text-align: right;\">\n",
       "      <th></th>\n",
       "      <th>Id</th>\n",
       "      <th>Image</th>\n",
       "    </tr>\n",
       "  </thead>\n",
       "  <tbody>\n",
       "    <tr>\n",
       "      <th>0</th>\n",
       "      <td>new_whale</td>\n",
       "      <td>9664</td>\n",
       "    </tr>\n",
       "    <tr>\n",
       "      <th>1</th>\n",
       "      <td>w_23a388d</td>\n",
       "      <td>73</td>\n",
       "    </tr>\n",
       "    <tr>\n",
       "      <th>2</th>\n",
       "      <td>w_9b5109b</td>\n",
       "      <td>65</td>\n",
       "    </tr>\n",
       "    <tr>\n",
       "      <th>3</th>\n",
       "      <td>w_9c506f6</td>\n",
       "      <td>62</td>\n",
       "    </tr>\n",
       "    <tr>\n",
       "      <th>4</th>\n",
       "      <td>w_0369a5c</td>\n",
       "      <td>61</td>\n",
       "    </tr>\n",
       "  </tbody>\n",
       "</table>\n",
       "</div>"
      ],
      "text/plain": [
       "          Id  Image\n",
       "0  new_whale   9664\n",
       "1  w_23a388d     73\n",
       "2  w_9b5109b     65\n",
       "3  w_9c506f6     62\n",
       "4  w_0369a5c     61"
      ]
     },
     "execution_count": 14,
     "metadata": {},
     "output_type": "execute_result"
    }
   ],
   "source": [
    "count.head()"
   ]
  },
  {
   "cell_type": "markdown",
   "metadata": {},
   "source": [
    "## select whales having >= 5 sample images and whales != 'new_whale'"
   ]
  },
  {
   "cell_type": "code",
   "execution_count": 42,
   "metadata": {},
   "outputs": [
    {
     "name": "stdout",
     "output_type": "stream",
     "text": [
      "8258 images\n"
     ]
    }
   ],
   "source": [
    "# unique list of 805 whales that satisfy above conditions\n",
    "train_whale_list = count.loc[(count['Image'] >=5) & (count['Id'] != 'new_whale')]\n",
    "print(train_whale_list['Image'].sum(), 'images')\n",
    "train_whale_list = train_whale_list['Id'].unique()"
   ]
  },
  {
   "cell_type": "code",
   "execution_count": 54,
   "metadata": {},
   "outputs": [
    {
     "data": {
      "text/plain": [
       "8258"
      ]
     },
     "execution_count": 54,
     "metadata": {},
     "output_type": "execute_result"
    }
   ],
   "source": [
    "train_image = df.loc[df['Id'].isin(train_whale_list)]\n",
    "train_image_list = train_image['Image'].unique()\n",
    "train_image_list = [x[:-4] for x in train_image_list]\n",
    "len(train_image_list)"
   ]
  },
  {
   "cell_type": "code",
   "execution_count": 59,
   "metadata": {
    "collapsed": true
   },
   "outputs": [],
   "source": [
    "# leave 20% for out-of-sample test\n",
    "X_train, X_test, y_train, y_test = train_test_split(train_image['Image'], train_image['Id'], test_size=0.2, random_state=999)"
   ]
  },
  {
   "cell_type": "code",
   "execution_count": 73,
   "metadata": {
    "collapsed": true
   },
   "outputs": [],
   "source": [
    "X_train_list = [x[:-4] for x in X_train]\n",
    "X_test_list  = [x[:-4] for x in X_test]"
   ]
  },
  {
   "cell_type": "code",
   "execution_count": 76,
   "metadata": {},
   "outputs": [
    {
     "name": "stderr",
     "output_type": "stream",
     "text": [
      "100%|████████████████████████████████████████████████████████████████████████████| 25361/25361 [06:07<00:00, 69.07it/s]\n"
     ]
    }
   ],
   "source": [
    "for filename in tqdm(os.listdir(READ_PATH)):\n",
    "    if filename[:9] in X_train_list:\n",
    "        shutil.copy( READ_PATH + filename, TRAIN_PATH + filename[:9] + '.jpg')\n",
    "    elif filename[:9] in X_test_list:\n",
    "        shutil.copy( READ_PATH + filename, TEST_PATH + filename[:9] + '.jpg')"
   ]
  },
  {
   "cell_type": "code",
   "execution_count": 77,
   "metadata": {},
   "outputs": [
    {
     "name": "stdout",
     "output_type": "stream",
     "text": [
      "6606\n",
      "1652\n",
      "8258\n"
     ]
    }
   ],
   "source": [
    "print(len([name for name in os.listdir(TRAIN_PATH)]))\n",
    "print(len([name for name in os.listdir(TEST_PATH)]))\n",
    "print(len([name for name in os.listdir(TEST_PATH)]) + len([name for name in os.listdir(TRAIN_PATH)]))"
   ]
  },
  {
   "cell_type": "code",
   "execution_count": null,
   "metadata": {
    "collapsed": true
   },
   "outputs": [],
   "source": []
  }
 ],
 "metadata": {
  "kernelspec": {
   "display_name": "Python 3",
   "language": "python",
   "name": "python3"
  },
  "language_info": {
   "codemirror_mode": {
    "name": "ipython",
    "version": 3
   },
   "file_extension": ".py",
   "mimetype": "text/x-python",
   "name": "python",
   "nbconvert_exporter": "python",
   "pygments_lexer": "ipython3",
   "version": "3.6.2"
  }
 },
 "nbformat": 4,
 "nbformat_minor": 2
}
