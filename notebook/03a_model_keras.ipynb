{
 "cells": [
  {
   "cell_type": "code",
   "execution_count": null,
   "metadata": {
    "collapsed": true
   },
   "outputs": [],
   "source": [
    "# https://blog.keras.io/building-powerful-image-classification-models-using-very-little-data.html"
   ]
  },
  {
   "cell_type": "code",
   "execution_count": 1,
   "metadata": {},
   "outputs": [
    {
     "name": "stderr",
     "output_type": "stream",
     "text": [
      "C:\\Anaconda3\\lib\\site-packages\\h5py\\__init__.py:36: FutureWarning: Conversion of the second argument of issubdtype from `float` to `np.floating` is deprecated. In future, it will be treated as `np.float64 == np.dtype(float).type`.\n",
      "  from ._conv import register_converters as _register_converters\n",
      "Using TensorFlow backend.\n"
     ]
    }
   ],
   "source": [
    "import keras\n",
    "import os\n",
    "import numpy as np\n",
    "from tqdm import tqdm\n",
    "from keras.preprocessing.image import ImageDataGenerator, array_to_img, img_to_array, load_img\n",
    "import matplotlib.pyplot as plt\n",
    "\n",
    "from keras.models import Sequential\n",
    "from keras.layers import Conv2D, MaxPooling2D\n",
    "from keras.layers import Activation, Dropout, Flatten, Dense"
   ]
  },
  {
   "cell_type": "code",
   "execution_count": 23,
   "metadata": {
    "collapsed": true
   },
   "outputs": [],
   "source": [
    "target_height = 64\n",
    "target_width  = 64\n",
    "target_channel = 3"
   ]
  },
  {
   "cell_type": "code",
   "execution_count": 24,
   "metadata": {
    "collapsed": true
   },
   "outputs": [],
   "source": [
    "data_version_number = '0_1'"
   ]
  },
  {
   "cell_type": "code",
   "execution_count": 25,
   "metadata": {
    "collapsed": true
   },
   "outputs": [],
   "source": [
    "TRAIN_PATH = 'C:/Users/KaiPin Liao/Documents/kaggle_whales/data/train_' + data_version_number + '/'\n",
    "VALIDATION_PATH = 'C:/Users/KaiPin Liao/Documents/kaggle_whales/data/validation_' + data_version_number + '/'\n",
    "TEST_PATH  = 'C:/Users/KaiPin Liao/Documents/kaggle_whales/data/test_' + data_version_number + '/'"
   ]
  },
  {
   "cell_type": "code",
   "execution_count": 26,
   "metadata": {
    "collapsed": true
   },
   "outputs": [],
   "source": [
    "model = Sequential()\n",
    "model.add(Conv2D(32, (3, 3), input_shape=(target_height, target_width, target_channel)))\n",
    "model.add(Activation('relu'))\n",
    "model.add(MaxPooling2D(pool_size=(2, 2)))\n",
    "\n",
    "model.add(Conv2D(32, (3, 3)))\n",
    "model.add(Activation('relu'))\n",
    "model.add(MaxPooling2D(pool_size=(2, 2)))\n",
    "\n",
    "model.add(Conv2D(64, (3, 3)))\n",
    "model.add(Activation('relu'))\n",
    "model.add(MaxPooling2D(pool_size=(2, 2)))\n",
    "\n",
    "# the model so far outputs 3D feature maps (height, width, features)\n",
    "\n",
    "model.add(Flatten())  # this converts our 3D feature maps to 1D feature vectors\n",
    "model.add(Dense(64))\n",
    "model.add(Activation('relu'))\n",
    "model.add(Dropout(0.5))\n",
    "model.add(Dense(10))\n",
    "model.add(Activation('sigmoid'))\n",
    "\n",
    "model.compile(loss='categorical_crossentropy',\n",
    "              optimizer='rmsprop',\n",
    "              metrics=['accuracy'])"
   ]
  },
  {
   "cell_type": "code",
   "execution_count": 27,
   "metadata": {
    "collapsed": true
   },
   "outputs": [],
   "source": [
    "train_datagen = ImageDataGenerator()\n",
    "test_datagen = ImageDataGenerator()\n",
    "\n",
    "history = keras.callbacks.History()"
   ]
  },
  {
   "cell_type": "code",
   "execution_count": 28,
   "metadata": {},
   "outputs": [
    {
     "name": "stdout",
     "output_type": "stream",
     "text": [
      "Found 342 images belonging to 10 classes.\n",
      "Found 114 images belonging to 10 classes.\n"
     ]
    }
   ],
   "source": [
    "train_generator = train_datagen.flow_from_directory(TRAIN_PATH, \n",
    "                                                    target_size = (target_height, target_width)\n",
    "#                                                     color_mode = 'grayscale'\n",
    "                                                   )\n",
    "\n",
    "validation_generator = test_datagen.flow_from_directory(VALIDATION_PATH, \n",
    "                                                    target_size = (target_height, target_width)\n",
    "#                                                     color_mode = 'grayscale'\n",
    "                                                   )"
   ]
  },
  {
   "cell_type": "code",
   "execution_count": 29,
   "metadata": {},
   "outputs": [
    {
     "name": "stdout",
     "output_type": "stream",
     "text": [
      "Epoch 1/50\n",
      "11/11 [==============================] - ETA: 12s - loss: 5.8253 - acc: 0.06 - ETA: 6s - loss: 7.0365 - acc: 0.0938 - ETA: 4s - loss: 7.1755 - acc: 0.108 - ETA: 4s - loss: 6.9372 - acc: 0.104 - ETA: 3s - loss: 7.0201 - acc: 0.108 - ETA: 3s - loss: 6.8287 - acc: 0.126 - ETA: 2s - loss: 6.6780 - acc: 0.117 - ETA: 1s - loss: 6.7003 - acc: 0.126 - ETA: 1s - loss: 6.4455 - acc: 0.126 - ETA: 0s - loss: 6.3590 - acc: 0.132 - 9s 792ms/step - loss: 6.1588 - acc: 0.1289 - val_loss: 6.8285 - val_acc: 0.0789\n",
      "Epoch 2/50\n",
      "11/11 [==============================] - ETA: 2s - loss: 5.5724 - acc: 0.093 - ETA: 2s - loss: 4.2332 - acc: 0.140 - ETA: 2s - loss: 4.9508 - acc: 0.125 - ETA: 1s - loss: 4.7758 - acc: 0.132 - ETA: 1s - loss: 4.7258 - acc: 0.118 - ETA: 1s - loss: 4.5186 - acc: 0.144 - ETA: 1s - loss: 4.5425 - acc: 0.137 - ETA: 1s - loss: 4.5170 - acc: 0.123 - ETA: 0s - loss: 4.5122 - acc: 0.124 - ETA: 0s - loss: 4.5567 - acc: 0.117 - 7s 648ms/step - loss: 4.4698 - acc: 0.1182 - val_loss: 5.2812 - val_acc: 0.1228\n",
      "Epoch 3/50\n",
      "11/11 [==============================] - ETA: 2s - loss: 5.1127 - acc: 0.062 - ETA: 2s - loss: 5.1170 - acc: 0.109 - ETA: 2s - loss: 4.5393 - acc: 0.114 - ETA: 2s - loss: 4.9005 - acc: 0.085 - ETA: 1s - loss: 4.6753 - acc: 0.106 - ETA: 1s - loss: 4.5348 - acc: 0.109 - ETA: 1s - loss: 4.4296 - acc: 0.098 - ETA: 1s - loss: 4.6891 - acc: 0.097 - ETA: 0s - loss: 4.6877 - acc: 0.107 - ETA: 0s - loss: 4.5972 - acc: 0.106 - 7s 596ms/step - loss: 4.5623 - acc: 0.1049 - val_loss: 5.2812 - val_acc: 0.1228\n",
      "Epoch 4/50\n",
      "11/11 [==============================] - ETA: 2s - loss: 5.7496 - acc: 0.062 - ETA: 2s - loss: 4.5383 - acc: 0.093 - ETA: 1s - loss: 4.7680 - acc: 0.104 - ETA: 1s - loss: 5.0307 - acc: 0.093 - ETA: 1s - loss: 5.1364 - acc: 0.081 - ETA: 1s - loss: 4.9158 - acc: 0.083 - ETA: 1s - loss: 4.9474 - acc: 0.075 - ETA: 0s - loss: 4.9867 - acc: 0.077 - ETA: 0s - loss: 5.0618 - acc: 0.083 - ETA: 0s - loss: 4.9836 - acc: 0.093 - 6s 510ms/step - loss: 4.9276 - acc: 0.1020 - val_loss: 5.2812 - val_acc: 0.1228\n",
      "Epoch 5/50\n",
      "11/11 [==============================] - ETA: 2s - loss: 4.2223 - acc: 0.125 - ETA: 2s - loss: 3.8477 - acc: 0.093 - ETA: 1s - loss: 4.1218 - acc: 0.104 - ETA: 1s - loss: 4.0903 - acc: 0.132 - ETA: 1s - loss: 4.2996 - acc: 0.118 - ETA: 1s - loss: 4.2870 - acc: 0.104 - ETA: 1s - loss: 4.2830 - acc: 0.098 - ETA: 1s - loss: 4.2287 - acc: 0.101 - ETA: 0s - loss: 4.2805 - acc: 0.100 - ETA: 0s - loss: 4.3139 - acc: 0.099 - 6s 531ms/step - loss: 4.3093 - acc: 0.0992 - val_loss: 5.2663 - val_acc: 0.1228\n",
      "Epoch 6/50\n",
      "11/11 [==============================] - ETA: 3s - loss: 5.3923 - acc: 0.093 - ETA: 2s - loss: 4.4274 - acc: 0.125 - ETA: 2s - loss: 4.4681 - acc: 0.114 - ETA: 1s - loss: 4.6349 - acc: 0.109 - ETA: 1s - loss: 4.7230 - acc: 0.106 - ETA: 1s - loss: 4.7716 - acc: 0.099 - ETA: 1s - loss: 4.7587 - acc: 0.097 - ETA: 1s - loss: 4.7685 - acc: 0.093 - ETA: 0s - loss: 4.8335 - acc: 0.090 - ETA: 0s - loss: 4.7714 - acc: 0.087 - 6s 533ms/step - loss: 4.8088 - acc: 0.0878 - val_loss: 3.7847 - val_acc: 0.1228\n",
      "Epoch 7/50\n",
      "11/11 [==============================] - ETA: 2s - loss: 3.3950 - acc: 0.093 - ETA: 2s - loss: 3.8878 - acc: 0.093 - ETA: 1s - loss: 3.4283 - acc: 0.093 - ETA: 1s - loss: 3.7286 - acc: 0.104 - ETA: 1s - loss: 3.7786 - acc: 0.121 - ETA: 1s - loss: 3.8268 - acc: 0.121 - ETA: 1s - loss: 3.6418 - acc: 0.113 - ETA: 0s - loss: 3.7232 - acc: 0.106 - ETA: 0s - loss: 3.6369 - acc: 0.108 - ETA: 0s - loss: 3.6992 - acc: 0.101 - 6s 542ms/step - loss: 3.8272 - acc: 0.0975 - val_loss: 3.7848 - val_acc: 0.1228\n",
      "Epoch 8/50\n",
      "11/11 [==============================] - ETA: 2s - loss: 3.5591 - acc: 0.031 - ETA: 2s - loss: 4.0990 - acc: 0.125 - ETA: 1s - loss: 3.9844 - acc: 0.135 - ETA: 1s - loss: 4.3821 - acc: 0.125 - ETA: 1s - loss: 4.0859 - acc: 0.125 - ETA: 1s - loss: 3.8853 - acc: 0.119 - ETA: 1s - loss: 3.8347 - acc: 0.120 - ETA: 1s - loss: 4.1627 - acc: 0.121 - ETA: 0s - loss: 4.2800 - acc: 0.114 - ETA: 0s - loss: 4.3754 - acc: 0.112 - 6s 549ms/step - loss: 4.4385 - acc: 0.1106 - val_loss: 3.7847 - val_acc: 0.1228\n",
      "Epoch 9/50\n",
      "11/11 [==============================] - ETA: 2s - loss: 5.2513 - acc: 0.062 - ETA: 2s - loss: 5.1725 - acc: 0.046 - ETA: 1s - loss: 4.8644 - acc: 0.083 - ETA: 1s - loss: 4.6148 - acc: 0.101 - ETA: 1s - loss: 4.3725 - acc: 0.106 - ETA: 1s - loss: 4.4416 - acc: 0.104 - ETA: 1s - loss: 4.3802 - acc: 0.095 - ETA: 0s - loss: 4.1823 - acc: 0.099 - ETA: 0s - loss: 4.2541 - acc: 0.088 - ETA: 0s - loss: 4.0885 - acc: 0.088 - 5s 466ms/step - loss: 4.1947 - acc: 0.0923 - val_loss: 2.3026 - val_acc: 0.1140\n",
      "Epoch 10/50\n",
      "11/11 [==============================] - ETA: 2s - loss: 3.5601 - acc: 0.031 - ETA: 2s - loss: 3.5087 - acc: 0.062 - ETA: 1s - loss: 3.5169 - acc: 0.104 - ETA: 1s - loss: 3.5387 - acc: 0.109 - ETA: 1s - loss: 3.4407 - acc: 0.125 - ETA: 1s - loss: 3.2956 - acc: 0.140 - ETA: 0s - loss: 3.2392 - acc: 0.142 - ETA: 0s - loss: 3.1841 - acc: 0.128 - ETA: 0s - loss: 3.2096 - acc: 0.125 - ETA: 0s - loss: 3.1427 - acc: 0.135 - 4s 393ms/step - loss: 3.0841 - acc: 0.1369 - val_loss: 2.3044 - val_acc: 0.1316\n",
      "Epoch 11/50\n",
      "11/11 [==============================] - ETA: 2s - loss: 2.9747 - acc: 0.031 - ETA: 2s - loss: 2.7462 - acc: 0.078 - ETA: 1s - loss: 2.6569 - acc: 0.114 - ETA: 1s - loss: 2.6273 - acc: 0.093 - ETA: 1s - loss: 2.6319 - acc: 0.102 - ETA: 1s - loss: 2.5836 - acc: 0.106 - ETA: 1s - loss: 2.5884 - acc: 0.108 - ETA: 1s - loss: 2.5770 - acc: 0.106 - ETA: 0s - loss: 2.5494 - acc: 0.112 - ETA: 0s - loss: 2.5348 - acc: 0.107 - 5s 486ms/step - loss: 2.5133 - acc: 0.1004 - val_loss: 2.2919 - val_acc: 0.1667\n",
      "Epoch 12/50\n",
      "11/11 [==============================] - ETA: 1s - loss: 2.2982 - acc: 0.093 - ETA: 1s - loss: 2.4742 - acc: 0.078 - ETA: 1s - loss: 2.4427 - acc: 0.072 - ETA: 1s - loss: 2.4004 - acc: 0.117 - ETA: 1s - loss: 2.3380 - acc: 0.139 - ETA: 1s - loss: 2.3520 - acc: 0.147 - ETA: 0s - loss: 2.3995 - acc: 0.139 - ETA: 0s - loss: 2.4130 - acc: 0.130 - ETA: 0s - loss: 2.4067 - acc: 0.136 - ETA: 0s - loss: 2.3924 - acc: 0.135 - 5s 431ms/step - loss: 2.3744 - acc: 0.1369 - val_loss: 2.2519 - val_acc: 0.2193\n",
      "Epoch 13/50\n",
      "11/11 [==============================] - ETA: 2s - loss: 2.1747 - acc: 0.045 - ETA: 1s - loss: 2.3210 - acc: 0.100 - ETA: 1s - loss: 2.3589 - acc: 0.108 - ETA: 1s - loss: 2.3151 - acc: 0.128 - ETA: 1s - loss: 2.3271 - acc: 0.121 - ETA: 1s - loss: 2.3140 - acc: 0.117 - ETA: 1s - loss: 2.3078 - acc: 0.127 - ETA: 0s - loss: 2.3044 - acc: 0.130 - ETA: 0s - loss: 2.2856 - acc: 0.137 - ETA: 0s - loss: 2.2743 - acc: 0.135 - 5s 498ms/step - loss: 2.2660 - acc: 0.1265 - val_loss: 2.2011 - val_acc: 0.2368\n",
      "Epoch 14/50\n",
      "11/11 [==============================] - ETA: 1s - loss: 2.1535 - acc: 0.250 - ETA: 1s - loss: 2.3224 - acc: 0.171 - ETA: 1s - loss: 2.2625 - acc: 0.177 - ETA: 1s - loss: 2.2616 - acc: 0.179 - ETA: 1s - loss: 2.2708 - acc: 0.156 - ETA: 1s - loss: 2.2522 - acc: 0.171 - ETA: 1s - loss: 2.2476 - acc: 0.174 - ETA: 0s - loss: 2.2322 - acc: 0.171 - ETA: 0s - loss: 2.2143 - acc: 0.187 - ETA: 0s - loss: 2.2046 - acc: 0.191 - 6s 563ms/step - loss: 2.1869 - acc: 0.1882 - val_loss: 2.2180 - val_acc: 0.1491\n",
      "Epoch 15/50\n",
      "11/11 [==============================] - ETA: 2s - loss: 1.8937 - acc: 0.409 - ETA: 2s - loss: 2.3039 - acc: 0.298 - ETA: 2s - loss: 2.3710 - acc: 0.292 - ETA: 2s - loss: 2.3562 - acc: 0.242 - ETA: 1s - loss: 2.3347 - acc: 0.238 - ETA: 1s - loss: 2.3124 - acc: 0.234 - ETA: 1s - loss: 2.2831 - acc: 0.223 - ETA: 1s - loss: 2.2523 - acc: 0.230 - ETA: 0s - loss: 2.2624 - acc: 0.236 - ETA: 0s - loss: 2.2527 - acc: 0.231 - 8s 736ms/step - loss: 2.2478 - acc: 0.2242 - val_loss: 2.0720 - val_acc: 0.2719\n",
      "Epoch 16/50\n",
      "11/11 [==============================] - ETA: 2s - loss: 1.9906 - acc: 0.375 - ETA: 2s - loss: 1.9792 - acc: 0.278 - ETA: 1s - loss: 1.9888 - acc: 0.289 - ETA: 1s - loss: 1.9895 - acc: 0.295 - ETA: 1s - loss: 1.9937 - acc: 0.311 - ETA: 1s - loss: 1.9961 - acc: 0.290 - ETA: 1s - loss: 1.9960 - acc: 0.276 - ETA: 1s - loss: 2.0109 - acc: 0.264 - ETA: 1s - loss: 2.0407 - acc: 0.259 - ETA: 0s - loss: 2.0397 - acc: 0.261 - 8s 702ms/step - loss: 2.0374 - acc: 0.2496 - val_loss: 2.0002 - val_acc: 0.4035\n"
     ]
    },
    {
     "name": "stdout",
     "output_type": "stream",
     "text": [
      "Epoch 17/50\n",
      "11/11 [==============================] - ETA: 2s - loss: 1.9874 - acc: 0.468 - ETA: 2s - loss: 1.9080 - acc: 0.468 - ETA: 2s - loss: 1.9611 - acc: 0.406 - ETA: 1s - loss: 1.9197 - acc: 0.382 - ETA: 1s - loss: 1.9285 - acc: 0.368 - ETA: 1s - loss: 1.9246 - acc: 0.364 - ETA: 1s - loss: 1.9389 - acc: 0.366 - ETA: 1s - loss: 1.9202 - acc: 0.371 - ETA: 0s - loss: 1.8997 - acc: 0.392 - ETA: 0s - loss: 1.9008 - acc: 0.380 - 9s 786ms/step - loss: 1.8981 - acc: 0.3631 - val_loss: 1.8616 - val_acc: 0.4123\n",
      "Epoch 18/50\n",
      "11/11 [==============================] - ETA: 2s - loss: 1.7059 - acc: 0.250 - ETA: 2s - loss: 1.6844 - acc: 0.296 - ETA: 2s - loss: 1.7730 - acc: 0.343 - ETA: 2s - loss: 1.7885 - acc: 0.351 - ETA: 1s - loss: 1.8016 - acc: 0.326 - ETA: 1s - loss: 1.8365 - acc: 0.334 - ETA: 1s - loss: 1.8424 - acc: 0.345 - ETA: 1s - loss: 1.8362 - acc: 0.348 - ETA: 1s - loss: 1.8312 - acc: 0.358 - ETA: 0s - loss: 1.8250 - acc: 0.372 - 10s 879ms/step - loss: 1.8292 - acc: 0.3676 - val_loss: 1.8493 - val_acc: 0.3684\n",
      "Epoch 19/50\n",
      "11/11 [==============================] - ETA: 2s - loss: 1.6789 - acc: 0.437 - ETA: 2s - loss: 1.6817 - acc: 0.453 - ETA: 2s - loss: 1.6478 - acc: 0.468 - ETA: 2s - loss: 1.6711 - acc: 0.445 - ETA: 1s - loss: 1.6765 - acc: 0.431 - ETA: 1s - loss: 1.7006 - acc: 0.411 - ETA: 1s - loss: 1.6854 - acc: 0.428 - ETA: 1s - loss: 1.6636 - acc: 0.445 - ETA: 1s - loss: 1.6483 - acc: 0.444 - ETA: 0s - loss: 1.6348 - acc: 0.440 - 8s 762ms/step - loss: 1.6159 - acc: 0.4317 - val_loss: 2.1592 - val_acc: 0.3596\n",
      "Epoch 20/50\n",
      "11/11 [==============================] - ETA: 1s - loss: 2.0350 - acc: 0.318 - ETA: 1s - loss: 1.9924 - acc: 0.331 - ETA: 1s - loss: 1.9351 - acc: 0.324 - ETA: 1s - loss: 1.8514 - acc: 0.415 - ETA: 1s - loss: 1.7935 - acc: 0.419 - ETA: 1s - loss: 1.7434 - acc: 0.417 - ETA: 1s - loss: 1.7189 - acc: 0.433 - ETA: 1s - loss: 1.7067 - acc: 0.442 - ETA: 0s - loss: 1.6958 - acc: 0.448 - ETA: 0s - loss: 1.6968 - acc: 0.447 - 7s 597ms/step - loss: 1.6896 - acc: 0.4440 - val_loss: 1.7277 - val_acc: 0.4123\n",
      "Epoch 21/50\n",
      "11/11 [==============================] - ETA: 2s - loss: 1.7244 - acc: 0.406 - ETA: 2s - loss: 1.6955 - acc: 0.359 - ETA: 2s - loss: 1.6370 - acc: 0.427 - ETA: 2s - loss: 1.6335 - acc: 0.406 - ETA: 1s - loss: 1.6121 - acc: 0.406 - ETA: 2s - loss: 1.5816 - acc: 0.411 - ETA: 2s - loss: 1.5714 - acc: 0.428 - ETA: 1s - loss: 1.5639 - acc: 0.441 - ETA: 1s - loss: 1.5525 - acc: 0.447 - ETA: 0s - loss: 1.5602 - acc: 0.446 - 9s 846ms/step - loss: 1.5633 - acc: 0.4573 - val_loss: 1.7545 - val_acc: 0.4825\n",
      "Epoch 22/50\n",
      "11/11 [==============================] - ETA: 2s - loss: 1.4841 - acc: 0.625 - ETA: 2s - loss: 1.5744 - acc: 0.515 - ETA: 1s - loss: 1.5607 - acc: 0.510 - ETA: 1s - loss: 1.5533 - acc: 0.500 - ETA: 1s - loss: 1.5301 - acc: 0.512 - ETA: 1s - loss: 1.5192 - acc: 0.489 - ETA: 1s - loss: 1.6416 - acc: 0.473 - ETA: 1s - loss: 1.6067 - acc: 0.492 - ETA: 1s - loss: 1.5808 - acc: 0.506 - ETA: 0s - loss: 1.5776 - acc: 0.512 - 10s 879ms/step - loss: 1.5909 - acc: 0.5154 - val_loss: 2.0798 - val_acc: 0.3772\n",
      "Epoch 23/50\n",
      "11/11 [==============================] - ETA: 2s - loss: 1.5965 - acc: 0.500 - ETA: 1s - loss: 1.4042 - acc: 0.568 - ETA: 1s - loss: 1.4050 - acc: 0.545 - ETA: 1s - loss: 1.3456 - acc: 0.581 - ETA: 1s - loss: 1.3825 - acc: 0.564 - ETA: 1s - loss: 1.4056 - acc: 0.548 - ETA: 1s - loss: 1.4159 - acc: 0.532 - ETA: 1s - loss: 1.4398 - acc: 0.524 - ETA: 0s - loss: 1.4436 - acc: 0.532 - ETA: 0s - loss: 1.4448 - acc: 0.529 - 8s 685ms/step - loss: 1.4439 - acc: 0.5235 - val_loss: 1.6221 - val_acc: 0.4825\n",
      "Epoch 24/50\n",
      "11/11 [==============================] - ETA: 2s - loss: 1.4877 - acc: 0.500 - ETA: 2s - loss: 1.5562 - acc: 0.421 - ETA: 2s - loss: 1.5031 - acc: 0.447 - ETA: 1s - loss: 1.5070 - acc: 0.484 - ETA: 1s - loss: 1.4776 - acc: 0.518 - ETA: 1s - loss: 1.4355 - acc: 0.541 - ETA: 1s - loss: 1.4394 - acc: 0.522 - ETA: 1s - loss: 1.3943 - acc: 0.525 - ETA: 0s - loss: 1.3326 - acc: 0.550 - ETA: 0s - loss: 1.3406 - acc: 0.551 - 7s 649ms/step - loss: 1.3368 - acc: 0.5581 - val_loss: 1.6236 - val_acc: 0.5789\n",
      "Epoch 25/50\n",
      "11/11 [==============================] - ETA: 2s - loss: 1.3160 - acc: 0.656 - ETA: 2s - loss: 1.2874 - acc: 0.687 - ETA: 2s - loss: 1.3632 - acc: 0.614 - ETA: 1s - loss: 1.3650 - acc: 0.554 - ETA: 1s - loss: 1.3361 - acc: 0.562 - ETA: 1s - loss: 1.3418 - acc: 0.567 - ETA: 1s - loss: 1.3667 - acc: 0.558 - ETA: 1s - loss: 1.3908 - acc: 0.528 - ETA: 0s - loss: 1.3846 - acc: 0.524 - ETA: 0s - loss: 1.3553 - acc: 0.534 - 6s 588ms/step - loss: 1.3406 - acc: 0.5522 - val_loss: 1.5443 - val_acc: 0.5263\n",
      "Epoch 26/50\n",
      "11/11 [==============================] - ETA: 2s - loss: 1.3295 - acc: 0.625 - ETA: 2s - loss: 1.2420 - acc: 0.625 - ETA: 2s - loss: 1.2162 - acc: 0.562 - ETA: 1s - loss: 1.1806 - acc: 0.593 - ETA: 1s - loss: 1.3054 - acc: 0.575 - ETA: 1s - loss: 1.3835 - acc: 0.583 - ETA: 1s - loss: 1.3622 - acc: 0.584 - ETA: 1s - loss: 1.3300 - acc: 0.593 - ETA: 0s - loss: 1.3177 - acc: 0.588 - ETA: 0s - loss: 1.2796 - acc: 0.598 - 7s 662ms/step - loss: 1.2712 - acc: 0.5952 - val_loss: 1.4677 - val_acc: 0.5000\n",
      "Epoch 27/50\n",
      "11/11 [==============================] - ETA: 1s - loss: 1.0834 - acc: 0.656 - ETA: 1s - loss: 0.9807 - acc: 0.750 - ETA: 1s - loss: 1.0637 - acc: 0.708 - ETA: 1s - loss: 1.0313 - acc: 0.726 - ETA: 1s - loss: 1.0539 - acc: 0.693 - ETA: 1s - loss: 1.0664 - acc: 0.687 - ETA: 1s - loss: 1.1572 - acc: 0.665 - ETA: 1s - loss: 1.1645 - acc: 0.621 - ETA: 0s - loss: 1.1738 - acc: 0.622 - ETA: 0s - loss: 1.1570 - acc: 0.626 - 7s 676ms/step - loss: 1.1325 - acc: 0.6374 - val_loss: 1.7230 - val_acc: 0.5000\n",
      "Epoch 28/50\n",
      "11/11 [==============================] - ETA: 3s - loss: 0.8551 - acc: 0.718 - ETA: 2s - loss: 0.8921 - acc: 0.687 - ETA: 2s - loss: 0.9026 - acc: 0.708 - ETA: 2s - loss: 1.0085 - acc: 0.671 - ETA: 1s - loss: 1.0417 - acc: 0.656 - ETA: 1s - loss: 1.0512 - acc: 0.666 - ETA: 1s - loss: 1.1068 - acc: 0.668 - ETA: 0s - loss: 1.0797 - acc: 0.667 - ETA: 0s - loss: 1.0631 - acc: 0.679 - ETA: 0s - loss: 1.1237 - acc: 0.665 - 6s 539ms/step - loss: 1.1511 - acc: 0.6528 - val_loss: 1.7074 - val_acc: 0.5175\n",
      "Epoch 29/50\n",
      "11/11 [==============================] - ETA: 2s - loss: 1.2774 - acc: 0.625 - ETA: 2s - loss: 1.1379 - acc: 0.609 - ETA: 2s - loss: 1.1212 - acc: 0.604 - ETA: 1s - loss: 1.1189 - acc: 0.612 - ETA: 1s - loss: 1.0770 - acc: 0.639 - ETA: 1s - loss: 1.0578 - acc: 0.637 - ETA: 1s - loss: 1.0310 - acc: 0.648 - ETA: 1s - loss: 0.9988 - acc: 0.665 - ETA: 0s - loss: 1.0100 - acc: 0.661 - ETA: 0s - loss: 1.0335 - acc: 0.663 - 7s 607ms/step - loss: 1.0519 - acc: 0.6659 - val_loss: 1.5228 - val_acc: 0.5702\n",
      "Epoch 30/50\n",
      "11/11 [==============================] - ETA: 2s - loss: 0.9386 - acc: 0.718 - ETA: 2s - loss: 0.9556 - acc: 0.656 - ETA: 1s - loss: 0.9552 - acc: 0.666 - ETA: 1s - loss: 0.9235 - acc: 0.687 - ETA: 1s - loss: 0.9237 - acc: 0.706 - ETA: 1s - loss: 0.8771 - acc: 0.718 - ETA: 1s - loss: 0.8869 - acc: 0.709 - ETA: 1s - loss: 0.9674 - acc: 0.691 - ETA: 0s - loss: 0.9693 - acc: 0.691 - ETA: 0s - loss: 0.9501 - acc: 0.699 - 6s 584ms/step - loss: 0.9483 - acc: 0.6837 - val_loss: 1.6584 - val_acc: 0.5702\n",
      "Epoch 31/50\n",
      "11/11 [==============================] - ETA: 2s - loss: 0.7665 - acc: 0.772 - ETA: 2s - loss: 0.9613 - acc: 0.698 - ETA: 2s - loss: 0.8955 - acc: 0.715 - ETA: 2s - loss: 0.8692 - acc: 0.740 - ETA: 1s - loss: 0.9221 - acc: 0.735 - ETA: 1s - loss: 0.9211 - acc: 0.743 - ETA: 1s - loss: 0.9414 - acc: 0.735 - ETA: 1s - loss: 0.9714 - acc: 0.733 - ETA: 0s - loss: 0.9754 - acc: 0.728 - ETA: 0s - loss: 0.9778 - acc: 0.714 - 8s 713ms/step - loss: 0.9732 - acc: 0.7150 - val_loss: 1.6652 - val_acc: 0.5439\n",
      "Epoch 32/50\n",
      "11/11 [==============================] - ETA: 2s - loss: 0.6544 - acc: 0.812 - ETA: 2s - loss: 0.6139 - acc: 0.828 - ETA: 2s - loss: 0.6391 - acc: 0.770 - ETA: 1s - loss: 0.7645 - acc: 0.782 - ETA: 1s - loss: 0.8110 - acc: 0.763 - ETA: 2s - loss: 0.8097 - acc: 0.766 - ETA: 2s - loss: 0.8221 - acc: 0.764 - ETA: 1s - loss: 0.8073 - acc: 0.774 - ETA: 1s - loss: 0.8025 - acc: 0.771 - ETA: 0s - loss: 0.9378 - acc: 0.759 - 9s 806ms/step - loss: 0.9634 - acc: 0.7504 - val_loss: 1.4497 - val_acc: 0.6228\n"
     ]
    },
    {
     "name": "stdout",
     "output_type": "stream",
     "text": [
      "Epoch 33/50\n",
      "11/11 [==============================] - ETA: 2s - loss: 0.7837 - acc: 0.843 - ETA: 2s - loss: 0.8109 - acc: 0.812 - ETA: 1s - loss: 0.8907 - acc: 0.770 - ETA: 1s - loss: 0.8566 - acc: 0.781 - ETA: 1s - loss: 0.8187 - acc: 0.768 - ETA: 1s - loss: 0.7999 - acc: 0.784 - ETA: 1s - loss: 0.7684 - acc: 0.793 - ETA: 1s - loss: 0.7573 - acc: 0.787 - ETA: 0s - loss: 0.7448 - acc: 0.786 - ETA: 0s - loss: 0.7668 - acc: 0.786 - 6s 585ms/step - loss: 0.7433 - acc: 0.7886 - val_loss: 1.7580 - val_acc: 0.5877\n",
      "Epoch 34/50\n",
      "11/11 [==============================] - ETA: 2s - loss: 0.5848 - acc: 0.781 - ETA: 1s - loss: 0.5442 - acc: 0.812 - ETA: 1s - loss: 0.5880 - acc: 0.802 - ETA: 1s - loss: 0.7511 - acc: 0.781 - ETA: 1s - loss: 0.7664 - acc: 0.768 - ETA: 1s - loss: 0.7236 - acc: 0.786 - ETA: 1s - loss: 0.7192 - acc: 0.790 - ETA: 1s - loss: 0.7680 - acc: 0.781 - ETA: 0s - loss: 0.7620 - acc: 0.781 - ETA: 0s - loss: 0.7820 - acc: 0.775 - 6s 577ms/step - loss: 0.7688 - acc: 0.7708 - val_loss: 1.6694 - val_acc: 0.6140\n",
      "Epoch 35/50\n",
      "11/11 [==============================] - ETA: 2s - loss: 0.9878 - acc: 0.750 - ETA: 2s - loss: 0.8298 - acc: 0.796 - ETA: 2s - loss: 0.7460 - acc: 0.833 - ETA: 1s - loss: 0.7428 - acc: 0.796 - ETA: 1s - loss: 0.6849 - acc: 0.825 - ETA: 2s - loss: 0.7155 - acc: 0.812 - ETA: 1s - loss: 0.6846 - acc: 0.800 - ETA: 1s - loss: 0.6940 - acc: 0.786 - ETA: 1s - loss: 0.7075 - acc: 0.785 - ETA: 0s - loss: 0.6842 - acc: 0.797 - 9s 842ms/step - loss: 0.6670 - acc: 0.7992 - val_loss: 1.5800 - val_acc: 0.6316\n",
      "Epoch 36/50\n",
      "11/11 [==============================] - ETA: 2s - loss: 0.5925 - acc: 0.812 - ETA: 2s - loss: 0.6945 - acc: 0.796 - ETA: 1s - loss: 0.6688 - acc: 0.812 - ETA: 1s - loss: 0.6290 - acc: 0.843 - ETA: 1s - loss: 0.6175 - acc: 0.825 - ETA: 2s - loss: 0.5915 - acc: 0.828 - ETA: 1s - loss: 0.5906 - acc: 0.834 - ETA: 1s - loss: 0.5960 - acc: 0.827 - ETA: 1s - loss: 0.6079 - acc: 0.811 - ETA: 0s - loss: 0.6701 - acc: 0.792 - 9s 834ms/step - loss: 0.6801 - acc: 0.7862 - val_loss: 1.4581 - val_acc: 0.5877\n",
      "Epoch 37/50\n",
      "11/11 [==============================] - ETA: 2s - loss: 0.6577 - acc: 0.843 - ETA: 1s - loss: 0.4799 - acc: 0.876 - ETA: 1s - loss: 0.4643 - acc: 0.844 - ETA: 1s - loss: 0.5459 - acc: 0.813 - ETA: 1s - loss: 0.5661 - acc: 0.800 - ETA: 1s - loss: 0.5737 - acc: 0.802 - ETA: 1s - loss: 0.5631 - acc: 0.812 - ETA: 1s - loss: 0.5407 - acc: 0.816 - ETA: 0s - loss: 0.5247 - acc: 0.819 - ETA: 0s - loss: 0.5144 - acc: 0.819 - 6s 585ms/step - loss: 0.5471 - acc: 0.8011 - val_loss: 1.7017 - val_acc: 0.5702\n",
      "Epoch 38/50\n",
      "11/11 [==============================] - ETA: 2s - loss: 1.1655 - acc: 0.718 - ETA: 2s - loss: 0.8264 - acc: 0.781 - ETA: 2s - loss: 0.8342 - acc: 0.748 - ETA: 1s - loss: 0.7581 - acc: 0.772 - ETA: 1s - loss: 0.7548 - acc: 0.780 - ETA: 1s - loss: 0.7348 - acc: 0.780 - ETA: 1s - loss: 0.7175 - acc: 0.789 - ETA: 0s - loss: 0.6922 - acc: 0.796 - ETA: 0s - loss: 0.6866 - acc: 0.801 - ETA: 0s - loss: 0.6762 - acc: 0.799 - 6s 570ms/step - loss: 0.7512 - acc: 0.7981 - val_loss: 1.9510 - val_acc: 0.5702\n",
      "Epoch 39/50\n",
      "11/11 [==============================] - ETA: 1s - loss: 0.4783 - acc: 0.906 - ETA: 1s - loss: 0.5143 - acc: 0.875 - ETA: 1s - loss: 0.5836 - acc: 0.864 - ETA: 1s - loss: 0.5980 - acc: 0.867 - ETA: 1s - loss: 0.6752 - acc: 0.856 - ETA: 1s - loss: 0.6349 - acc: 0.864 - ETA: 1s - loss: 0.6235 - acc: 0.864 - ETA: 1s - loss: 0.6056 - acc: 0.861 - ETA: 0s - loss: 0.5869 - acc: 0.859 - ETA: 0s - loss: 0.5887 - acc: 0.858 - 8s 753ms/step - loss: 0.5807 - acc: 0.8569 - val_loss: 1.4420 - val_acc: 0.6404\n",
      "Epoch 40/50\n",
      "11/11 [==============================] - ETA: 3s - loss: 0.4395 - acc: 0.906 - ETA: 2s - loss: 0.3471 - acc: 0.907 - ETA: 2s - loss: 0.3278 - acc: 0.917 - ETA: 1s - loss: 0.4504 - acc: 0.883 - ETA: 1s - loss: 0.4802 - acc: 0.888 - ETA: 1s - loss: 0.4663 - acc: 0.885 - ETA: 1s - loss: 0.4739 - acc: 0.888 - ETA: 1s - loss: 0.4717 - acc: 0.891 - ETA: 0s - loss: 0.5847 - acc: 0.871 - ETA: 0s - loss: 0.6160 - acc: 0.869 - 7s 670ms/step - loss: 0.6096 - acc: 0.8638 - val_loss: 1.8649 - val_acc: 0.6316\n",
      "Epoch 41/50\n",
      "11/11 [==============================] - ETA: 2s - loss: 0.9839 - acc: 0.781 - ETA: 2s - loss: 0.8888 - acc: 0.812 - ETA: 2s - loss: 0.7416 - acc: 0.854 - ETA: 1s - loss: 0.7028 - acc: 0.875 - ETA: 1s - loss: 0.6565 - acc: 0.868 - ETA: 1s - loss: 0.7109 - acc: 0.864 - ETA: 1s - loss: 0.6737 - acc: 0.870 - ETA: 0s - loss: 0.6580 - acc: 0.871 - ETA: 0s - loss: 0.6106 - acc: 0.875 - ETA: 0s - loss: 0.6129 - acc: 0.865 - 5s 474ms/step - loss: 0.5838 - acc: 0.8752 - val_loss: 1.7274 - val_acc: 0.7018\n",
      "Epoch 42/50\n",
      "11/11 [==============================] - ETA: 2s - loss: 0.2676 - acc: 0.906 - ETA: 2s - loss: 0.3381 - acc: 0.843 - ETA: 1s - loss: 0.4525 - acc: 0.804 - ETA: 1s - loss: 0.4916 - acc: 0.799 - ETA: 1s - loss: 0.4834 - acc: 0.795 - ETA: 1s - loss: 0.4329 - acc: 0.819 - ETA: 1s - loss: 0.4086 - acc: 0.831 - ETA: 0s - loss: 0.4433 - acc: 0.840 - ETA: 0s - loss: 0.4365 - acc: 0.837 - ETA: 0s - loss: 0.4654 - acc: 0.832 - 5s 478ms/step - loss: 0.4627 - acc: 0.8391 - val_loss: 1.8128 - val_acc: 0.6316\n",
      "Epoch 43/50\n",
      "11/11 [==============================] - ETA: 1s - loss: 0.6044 - acc: 0.909 - ETA: 1s - loss: 0.5630 - acc: 0.892 - ETA: 1s - loss: 0.4860 - acc: 0.875 - ETA: 1s - loss: 0.5045 - acc: 0.883 - ETA: 1s - loss: 0.4621 - acc: 0.894 - ETA: 1s - loss: 0.4899 - acc: 0.891 - ETA: 1s - loss: 0.4708 - acc: 0.893 - ETA: 0s - loss: 0.4561 - acc: 0.891 - ETA: 0s - loss: 0.4586 - acc: 0.885 - ETA: 0s - loss: 0.4438 - acc: 0.884 - 5s 443ms/step - loss: 0.4383 - acc: 0.8809 - val_loss: 1.8166 - val_acc: 0.6404\n",
      "Epoch 44/50\n",
      "11/11 [==============================] - ETA: 2s - loss: 0.1657 - acc: 0.937 - ETA: 2s - loss: 0.4371 - acc: 0.875 - ETA: 1s - loss: 0.3929 - acc: 0.885 - ETA: 1s - loss: 0.4267 - acc: 0.875 - ETA: 1s - loss: 0.4381 - acc: 0.863 - ETA: 1s - loss: 0.4270 - acc: 0.865 - ETA: 0s - loss: 0.4236 - acc: 0.871 - ETA: 0s - loss: 0.4026 - acc: 0.883 - ETA: 0s - loss: 0.3956 - acc: 0.875 - ETA: 0s - loss: 0.4006 - acc: 0.878 - 5s 430ms/step - loss: 0.4074 - acc: 0.8785 - val_loss: 2.2853 - val_acc: 0.5965\n",
      "Epoch 45/50\n",
      "11/11 [==============================] - ETA: 2s - loss: 0.6379 - acc: 0.937 - ETA: 1s - loss: 0.4848 - acc: 0.900 - ETA: 1s - loss: 0.5459 - acc: 0.892 - ETA: 1s - loss: 0.5579 - acc: 0.887 - ETA: 1s - loss: 0.5356 - acc: 0.872 - ETA: 1s - loss: 0.4948 - acc: 0.883 - ETA: 1s - loss: 0.4702 - acc: 0.882 - ETA: 0s - loss: 0.4344 - acc: 0.893 - ETA: 0s - loss: 0.4015 - acc: 0.901 - ETA: 0s - loss: 0.3850 - acc: 0.905 - 5s 464ms/step - loss: 0.4114 - acc: 0.8854 - val_loss: 1.6179 - val_acc: 0.6053\n",
      "Epoch 46/50\n",
      "11/11 [==============================] - ETA: 2s - loss: 0.3192 - acc: 0.843 - ETA: 2s - loss: 0.3045 - acc: 0.890 - ETA: 2s - loss: 0.2494 - acc: 0.916 - ETA: 1s - loss: 0.2693 - acc: 0.926 - ETA: 1s - loss: 0.2825 - acc: 0.928 - ETA: 1s - loss: 0.2537 - acc: 0.940 - ETA: 1s - loss: 0.2296 - acc: 0.948 - ETA: 1s - loss: 0.2350 - acc: 0.943 - ETA: 0s - loss: 0.2755 - acc: 0.935 - ETA: 0s - loss: 0.3243 - acc: 0.917 - 6s 573ms/step - loss: 0.3495 - acc: 0.9134 - val_loss: 2.4207 - val_acc: 0.5526\n",
      "Epoch 47/50\n",
      "11/11 [==============================] - ETA: 2s - loss: 0.6226 - acc: 0.875 - ETA: 2s - loss: 0.5838 - acc: 0.869 - ETA: 1s - loss: 0.5069 - acc: 0.892 - ETA: 1s - loss: 0.4743 - acc: 0.887 - ETA: 1s - loss: 0.4380 - acc: 0.891 - ETA: 1s - loss: 0.4222 - acc: 0.888 - ETA: 1s - loss: 0.4094 - acc: 0.895 - ETA: 1s - loss: 0.3933 - acc: 0.897 - ETA: 0s - loss: 0.3682 - acc: 0.901 - ETA: 0s - loss: 0.3510 - acc: 0.908 - 9s 820ms/step - loss: 0.3349 - acc: 0.9110 - val_loss: 1.8253 - val_acc: 0.6842\n",
      "Epoch 48/50\n",
      "11/11 [==============================] - ETA: 3s - loss: 0.4403 - acc: 0.875 - ETA: 2s - loss: 0.3974 - acc: 0.875 - ETA: 2s - loss: 0.4168 - acc: 0.875 - ETA: 2s - loss: 0.4405 - acc: 0.882 - ETA: 1s - loss: 0.4202 - acc: 0.868 - ETA: 1s - loss: 0.3999 - acc: 0.880 - ETA: 1s - loss: 0.4175 - acc: 0.875 - ETA: 1s - loss: 0.3939 - acc: 0.884 - ETA: 0s - loss: 0.4049 - acc: 0.883 - ETA: 0s - loss: 0.3931 - acc: 0.886 - 7s 679ms/step - loss: 0.3898 - acc: 0.8934 - val_loss: 1.7528 - val_acc: 0.6754\n"
     ]
    },
    {
     "name": "stdout",
     "output_type": "stream",
     "text": [
      "Epoch 49/50\n",
      "11/11 [==============================] - ETA: 2s - loss: 0.4255 - acc: 0.875 - ETA: 2s - loss: 0.4502 - acc: 0.859 - ETA: 1s - loss: 0.4290 - acc: 0.822 - ETA: 1s - loss: 0.3779 - acc: 0.843 - ETA: 1s - loss: 0.3947 - acc: 0.856 - ETA: 1s - loss: 0.3721 - acc: 0.854 - ETA: 1s - loss: 0.3527 - acc: 0.853 - ETA: 0s - loss: 0.3640 - acc: 0.855 - ETA: 0s - loss: 0.3572 - acc: 0.868 - ETA: 0s - loss: 0.3385 - acc: 0.875 - 6s 513ms/step - loss: 0.3252 - acc: 0.8809 - val_loss: 1.8519 - val_acc: 0.6316\n",
      "Epoch 50/50\n",
      "11/11 [==============================] - ETA: 2s - loss: 0.2781 - acc: 0.875 - ETA: 2s - loss: 0.3048 - acc: 0.875 - ETA: 1s - loss: 0.2778 - acc: 0.875 - ETA: 1s - loss: 0.3115 - acc: 0.851 - ETA: 1s - loss: 0.3081 - acc: 0.868 - ETA: 1s - loss: 0.3098 - acc: 0.875 - ETA: 1s - loss: 0.3095 - acc: 0.870 - ETA: 0s - loss: 0.2902 - acc: 0.882 - ETA: 0s - loss: 0.2756 - acc: 0.892 - ETA: 0s - loss: 0.2667 - acc: 0.896 - 6s 508ms/step - loss: 0.2623 - acc: 0.8899 - val_loss: 2.2836 - val_acc: 0.7105\n"
     ]
    }
   ],
   "source": [
    "history = model.fit_generator(train_generator, \n",
    "                              validation_data = validation_generator,\n",
    "                              epochs = 50,\n",
    "                              callbacks=[history]\n",
    "                             )"
   ]
  },
  {
   "cell_type": "code",
   "execution_count": 30,
   "metadata": {},
   "outputs": [
    {
     "name": "stdout",
     "output_type": "stream",
     "text": [
      "dict_keys(['val_loss', 'val_acc', 'loss', 'acc'])\n"
     ]
    },
    {
     "data": {
      "image/png": "[encoded data removed]",
      "text/plain": [
       "<matplotlib.figure.Figure at 0x23aca990c88>"
      ]
     },
     "metadata": {},
     "output_type": "display_data"
    },
    {
     "data": {
      "image/png": "[encoded data removed]",
      "text/plain": [
       "<matplotlib.figure.Figure at 0x23ac62b2240>"
      ]
     },
     "metadata": {},
     "output_type": "display_data"
    }
   ],
   "source": [
    "# list all data in history\n",
    "print(history.history.keys())\n",
    "\n",
    "# summarize history for accuracy\n",
    "plt.plot(history.history['acc'])\n",
    "plt.plot(history.history['val_acc'])\n",
    "plt.title('model accuracy')\n",
    "plt.ylabel('accuracy')\n",
    "plt.xlabel('epoch')\n",
    "plt.legend(['train', 'test'], loc='upper left')\n",
    "# plt.legend(['train'], loc='upper left')\n",
    "plt.show()\n",
    "\n",
    "# summarize history for loss\n",
    "plt.plot(history.history['loss'])\n",
    "plt.plot(history.history['val_loss'])\n",
    "plt.title('model loss')\n",
    "plt.ylabel('loss')\n",
    "plt.xlabel('epoch')\n",
    "plt.legend(['train', 'test'], loc='upper left')\n",
    "# plt.legend(['train'], loc='upper left')\n",
    "plt.show()"
   ]
  },
  {
   "cell_type": "code",
   "execution_count": 31,
   "metadata": {},
   "outputs": [
    {
     "data": {
      "text/plain": [
       "[6.124140365779051,\n",
       " 4.496220129972313,\n",
       " 4.510300856584694,\n",
       " 4.91869022135149,\n",
       " 4.3011205293978865,\n",
       " 4.81219856641446,\n",
       " 3.8057886926751388,\n",
       " 4.41726331264652,\n",
       " 4.199552078693234,\n",
       " 3.098654459791574,\n",
       " 2.509614510842931,\n",
       " 2.3820483489343296,\n",
       " 2.268481184864602,\n",
       " 2.188745707796331,\n",
       " 2.2572999035405834,\n",
       " 2.0392471098760416,\n",
       " 1.8977407286738792,\n",
       " 1.8285077886971814,\n",
       " 1.6169014067677727,\n",
       " 1.680379715579295,\n",
       " 1.566061208122655,\n",
       " 1.5872413826267622,\n",
       " 1.4501062150587116,\n",
       " 1.343688794743945,\n",
       " 1.3347210333361264,\n",
       " 1.2725507578654596,\n",
       " 1.1294228451990942,\n",
       " 1.1433884762881095,\n",
       " 1.05028924537681,\n",
       " 0.9529147468812285,\n",
       " 0.9787506788794758,\n",
       " 0.9586487869073076,\n",
       " 0.7443014404229951,\n",
       " 0.7724117246287608,\n",
       " 0.6714553364187653,\n",
       " 0.6813606804574442,\n",
       " 0.5536935183039883,\n",
       " 0.7485506255724277,\n",
       " 0.5813547989778352,\n",
       " 0.619128732304824,\n",
       " 0.5932528008843025,\n",
       " 0.4568427658220481,\n",
       " 0.433827989631229,\n",
       " 0.40537433038678083,\n",
       " 0.41350192633288646,\n",
       " 0.3500421760026474,\n",
       " 0.3292547422542907,\n",
       " 0.3940840908135587,\n",
       " 0.32156579972010607,\n",
       " 0.26347855509024615]"
      ]
     },
     "execution_count": 31,
     "metadata": {},
     "output_type": "execute_result"
    }
   ],
   "source": [
    "history.history['loss']"
   ]
  },
  {
   "cell_type": "code",
   "execution_count": null,
   "metadata": {
    "collapsed": true
   },
   "outputs": [],
   "source": []
  }
 ],
 "metadata": {
  "kernelspec": {
   "display_name": "Python 3",
   "language": "python",
   "name": "python3"
  },
  "language_info": {
   "codemirror_mode": {
    "name": "ipython",
    "version": 3
   },
   "file_extension": ".py",
   "mimetype": "text/x-python",
   "name": "python",
   "nbconvert_exporter": "python",
   "pygments_lexer": "ipython3",
   "version": "3.6.2"
  }
 },
 "nbformat": 4,
 "nbformat_minor": 2
}
