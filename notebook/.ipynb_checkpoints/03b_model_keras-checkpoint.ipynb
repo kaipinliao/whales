{
 "cells": [
  {
   "cell_type": "code",
   "execution_count": null,
   "metadata": {
    "collapsed": true
   },
   "outputs": [],
   "source": [
    "# https://blog.keras.io/building-powerful-image-classification-models-using-very-little-data.html"
   ]
  },
  {
   "cell_type": "code",
   "execution_count": 1,
   "metadata": {},
   "outputs": [
    {
     "name": "stderr",
     "output_type": "stream",
     "text": [
      "C:\\Anaconda3\\lib\\site-packages\\h5py\\__init__.py:36: FutureWarning: Conversion of the second argument of issubdtype from `float` to `np.floating` is deprecated. In future, it will be treated as `np.float64 == np.dtype(float).type`.\n",
      "  from ._conv import register_converters as _register_converters\n",
      "Using TensorFlow backend.\n"
     ]
    }
   ],
   "source": [
    "import keras\n",
    "import os\n",
    "import numpy as np\n",
    "from tqdm import tqdm\n",
    "from keras.preprocessing.image import ImageDataGenerator, array_to_img, img_to_array, load_img\n",
    "import matplotlib.pyplot as plt\n",
    "\n",
    "from keras.models import Sequential\n",
    "from keras.layers import Conv2D, MaxPooling2D\n",
    "from keras.layers import Activation, Dropout, Flatten, Dense"
   ]
  },
  {
   "cell_type": "code",
   "execution_count": 2,
   "metadata": {
    "collapsed": true
   },
   "outputs": [],
   "source": [
    "target_height = 64\n",
    "target_width  = 64\n",
    "target_channel = 3"
   ]
  },
  {
   "cell_type": "code",
   "execution_count": 3,
   "metadata": {
    "collapsed": true
   },
   "outputs": [],
   "source": [
    "data_version_number = '0_1'"
   ]
  },
  {
   "cell_type": "code",
   "execution_count": 4,
   "metadata": {
    "collapsed": true
   },
   "outputs": [],
   "source": [
    "TRAIN_PATH = 'C:/Users/KaiPin Liao/Documents/kaggle_whales/data/train_' + data_version_number + '/'\n",
    "VALIDATION_PATH = 'C:/Users/KaiPin Liao/Documents/kaggle_whales/data/validation_' + data_version_number + '/'\n",
    "TEST_PATH  = 'C:/Users/KaiPin Liao/Documents/kaggle_whales/data/test_' + data_version_number + '/'"
   ]
  },
  {
   "cell_type": "code",
   "execution_count": 11,
   "metadata": {
    "collapsed": true
   },
   "outputs": [],
   "source": [
    "model = Sequential()\n",
    "model.add(Conv2D(64, (3, 3), input_shape=(target_height, target_width, target_channel)))\n",
    "model.add(Activation('relu'))\n",
    "model.add(MaxPooling2D(pool_size=(2, 2)))\n",
    "\n",
    "model.add(Conv2D(64, (3, 3)))\n",
    "model.add(Activation('relu'))\n",
    "model.add(MaxPooling2D(pool_size=(2, 2)))\n",
    "\n",
    "model.add(Conv2D(128, (3, 3)))\n",
    "model.add(Activation('relu'))\n",
    "model.add(MaxPooling2D(pool_size=(2, 2)))\n",
    "\n",
    "model.add(Conv2D(64, (3, 3)))\n",
    "model.add(Activation('relu'))\n",
    "model.add(MaxPooling2D(pool_size=(2, 2)))\n",
    "\n",
    "# the model so far outputs 3D feature maps (height, width, features)\n",
    "\n",
    "model.add(Flatten())  # this converts our 3D feature maps to 1D feature vectors\n",
    "model.add(Dense(64))\n",
    "model.add(Activation('relu'))\n",
    "model.add(Dropout(0.5))\n",
    "model.add(Dense(10))\n",
    "model.add(Activation('sigmoid'))\n",
    "\n",
    "model.compile(loss='categorical_crossentropy',\n",
    "              optimizer='rmsprop',\n",
    "              metrics=['accuracy'])"
   ]
  },
  {
   "cell_type": "code",
   "execution_count": 21,
   "metadata": {},
   "outputs": [
    {
     "name": "stdout",
     "output_type": "stream",
     "text": [
      "_________________________________________________________________\n",
      "Layer (type)                 Output Shape              Param #   \n",
      "=================================================================\n",
      "conv2d_4 (Conv2D)            (None, 62, 62, 64)        1792      \n",
      "_________________________________________________________________\n",
      "activation_6 (Activation)    (None, 62, 62, 64)        0         \n",
      "_________________________________________________________________\n",
      "max_pooling2d_4 (MaxPooling2 (None, 31, 31, 64)        0         \n",
      "_________________________________________________________________\n",
      "conv2d_5 (Conv2D)            (None, 29, 29, 64)        36928     \n",
      "_________________________________________________________________\n",
      "activation_7 (Activation)    (None, 29, 29, 64)        0         \n",
      "_________________________________________________________________\n",
      "max_pooling2d_5 (MaxPooling2 (None, 14, 14, 64)        0         \n",
      "_________________________________________________________________\n",
      "conv2d_6 (Conv2D)            (None, 12, 12, 128)       73856     \n",
      "_________________________________________________________________\n",
      "activation_8 (Activation)    (None, 12, 12, 128)       0         \n",
      "_________________________________________________________________\n",
      "max_pooling2d_6 (MaxPooling2 (None, 6, 6, 128)         0         \n",
      "_________________________________________________________________\n",
      "conv2d_7 (Conv2D)            (None, 4, 4, 64)          73792     \n",
      "_________________________________________________________________\n",
      "activation_9 (Activation)    (None, 4, 4, 64)          0         \n",
      "_________________________________________________________________\n",
      "max_pooling2d_7 (MaxPooling2 (None, 2, 2, 64)          0         \n",
      "_________________________________________________________________\n",
      "flatten_2 (Flatten)          (None, 256)               0         \n",
      "_________________________________________________________________\n",
      "dense_3 (Dense)              (None, 64)                16448     \n",
      "_________________________________________________________________\n",
      "activation_10 (Activation)   (None, 64)                0         \n",
      "_________________________________________________________________\n",
      "dropout_2 (Dropout)          (None, 64)                0         \n",
      "_________________________________________________________________\n",
      "dense_4 (Dense)              (None, 10)                650       \n",
      "_________________________________________________________________\n",
      "activation_11 (Activation)   (None, 10)                0         \n",
      "=================================================================\n",
      "Total params: 203,466\n",
      "Trainable params: 203,466\n",
      "Non-trainable params: 0\n",
      "_________________________________________________________________\n",
      "None\n"
     ]
    }
   ],
   "source": [
    "print(model.summary())"
   ]
  },
  {
   "cell_type": "code",
   "execution_count": 12,
   "metadata": {
    "collapsed": true
   },
   "outputs": [],
   "source": [
    "train_datagen = ImageDataGenerator()\n",
    "test_datagen = ImageDataGenerator()\n",
    "\n",
    "history = keras.callbacks.History()"
   ]
  },
  {
   "cell_type": "code",
   "execution_count": 13,
   "metadata": {},
   "outputs": [
    {
     "name": "stdout",
     "output_type": "stream",
     "text": [
      "Found 342 images belonging to 10 classes.\n",
      "Found 114 images belonging to 10 classes.\n"
     ]
    }
   ],
   "source": [
    "train_generator = train_datagen.flow_from_directory(TRAIN_PATH, \n",
    "                                                    target_size = (target_height, target_width)\n",
    "#                                                     color_mode = 'grayscale'\n",
    "                                                   )\n",
    "\n",
    "validation_generator = test_datagen.flow_from_directory(VALIDATION_PATH, \n",
    "                                                    target_size = (target_height, target_width)\n",
    "#                                                     color_mode = 'grayscale'\n",
    "                                                   )"
   ]
  },
  {
   "cell_type": "code",
   "execution_count": 14,
   "metadata": {},
   "outputs": [
    {
     "name": "stdout",
     "output_type": "stream",
     "text": [
      "Epoch 1/50\n",
      "11/11 [==============================] - ETA: 9s - loss: 8.0973 - acc: 0.0000e+0 - ETA: 6s - loss: 6.3589 - acc: 0.0625    - ETA: 5s - loss: 6.7869 - acc: 0.062 - ETA: 4s - loss: 6.8696 - acc: 0.070 - ETA: 3s - loss: 7.4087 - acc: 0.068 - ETA: 3s - loss: 7.6597 - acc: 0.083 - ETA: 2s - loss: 7.6497 - acc: 0.080 - ETA: 1s - loss: 7.7372 - acc: 0.078 - ETA: 1s - loss: 7.9484 - acc: 0.074 - ETA: 0s - loss: 8.0948 - acc: 0.073 - 8s 754ms/step - loss: 7.9277 - acc: 0.0724 - val_loss: 7.6982 - val_acc: 0.1228\n",
      "Epoch 2/50\n",
      "11/11 [==============================] - ETA: 5s - loss: 9.8603 - acc: 0.031 - ETA: 4s - loss: 9.1832 - acc: 0.062 - ETA: 3s - loss: 8.9690 - acc: 0.072 - ETA: 3s - loss: 8.6249 - acc: 0.093 - ETA: 2s - loss: 9.0868 - acc: 0.075 - ETA: 2s - loss: 8.7052 - acc: 0.072 - ETA: 1s - loss: 8.4802 - acc: 0.080 - ETA: 1s - loss: 8.2626 - acc: 0.093 - ETA: 1s - loss: 8.0238 - acc: 0.093 - ETA: 0s - loss: 8.0901 - acc: 0.093 - 10s 881ms/step - loss: 8.0042 - acc: 0.0911 - val_loss: 6.4125 - val_acc: 0.1228\n",
      "Epoch 3/50\n",
      "11/11 [==============================] - ETA: 5s - loss: 8.1173 - acc: 0.062 - ETA: 5s - loss: 6.5413 - acc: 0.140 - ETA: 4s - loss: 7.0642 - acc: 0.114 - ETA: 3s - loss: 7.2214 - acc: 0.108 - ETA: 3s - loss: 7.5763 - acc: 0.111 - ETA: 2s - loss: 7.4381 - acc: 0.108 - ETA: 2s - loss: 7.2908 - acc: 0.111 - ETA: 1s - loss: 7.3372 - acc: 0.109 - ETA: 1s - loss: 7.1687 - acc: 0.114 - ETA: 0s - loss: 6.8696 - acc: 0.112 - 10s 916ms/step - loss: 6.8627 - acc: 0.1020 - val_loss: 4.7823 - val_acc: 0.1228\n",
      "Epoch 4/50\n",
      "11/11 [==============================] - ETA: 7s - loss: 7.6024 - acc: 0.031 - ETA: 5s - loss: 7.6671 - acc: 0.083 - ETA: 4s - loss: 7.2401 - acc: 0.055 - ETA: 4s - loss: 7.2599 - acc: 0.065 - ETA: 3s - loss: 6.8035 - acc: 0.077 - ETA: 3s - loss: 6.7389 - acc: 0.090 - ETA: 2s - loss: 6.6340 - acc: 0.104 - ETA: 2s - loss: 6.5427 - acc: 0.099 - ETA: 1s - loss: 6.3506 - acc: 0.098 - ETA: 0s - loss: 6.3208 - acc: 0.101 - 10s 945ms/step - loss: 6.2671 - acc: 0.0947 - val_loss: 4.7887 - val_acc: 0.1228\n",
      "Epoch 5/50\n",
      "11/11 [==============================] - ETA: 5s - loss: 5.4987 - acc: 0.062 - ETA: 4s - loss: 5.0810 - acc: 0.031 - ETA: 4s - loss: 5.1189 - acc: 0.041 - ETA: 3s - loss: 5.4781 - acc: 0.054 - ETA: 3s - loss: 5.3031 - acc: 0.075 - ETA: 2s - loss: 5.3742 - acc: 0.083 - ETA: 2s - loss: 5.1660 - acc: 0.084 - ETA: 1s - loss: 5.1331 - acc: 0.089 - ETA: 1s - loss: 5.2819 - acc: 0.083 - ETA: 0s - loss: 5.0364 - acc: 0.102 - 9s 816ms/step - loss: 4.8834 - acc: 0.0992 - val_loss: 2.5081 - val_acc: 0.1053\n",
      "Epoch 6/50\n",
      "11/11 [==============================] - ETA: 5s - loss: 2.8705 - acc: 0.093 - ETA: 4s - loss: 2.6833 - acc: 0.115 - ETA: 3s - loss: 2.6116 - acc: 0.118 - ETA: 3s - loss: 2.5804 - acc: 0.104 - ETA: 2s - loss: 2.5558 - acc: 0.108 - ETA: 2s - loss: 2.5263 - acc: 0.090 - ETA: 2s - loss: 2.5029 - acc: 0.095 - ETA: 1s - loss: 2.4848 - acc: 0.103 - ETA: 1s - loss: 2.4756 - acc: 0.102 - ETA: 0s - loss: 2.4630 - acc: 0.104 - 11s 958ms/step - loss: 2.4478 - acc: 0.1061 - val_loss: 2.2763 - val_acc: 0.1053\n",
      "Epoch 7/50\n",
      "11/11 [==============================] - ETA: 5s - loss: 2.2059 - acc: 0.156 - ETA: 5s - loss: 2.2430 - acc: 0.125 - ETA: 4s - loss: 2.2709 - acc: 0.135 - ETA: 3s - loss: 2.2685 - acc: 0.132 - ETA: 3s - loss: 2.2653 - acc: 0.137 - ETA: 2s - loss: 2.2860 - acc: 0.156 - ETA: 2s - loss: 2.2768 - acc: 0.174 - ETA: 1s - loss: 2.2718 - acc: 0.171 - ETA: 1s - loss: 2.2745 - acc: 0.173 - ETA: 0s - loss: 2.2686 - acc: 0.174 - 9s 852ms/step - loss: 2.2815 - acc: 0.1699 - val_loss: 2.2476 - val_acc: 0.1667\n",
      "Epoch 8/50\n",
      "11/11 [==============================] - ETA: 4s - loss: 2.1967 - acc: 0.218 - ETA: 4s - loss: 2.2569 - acc: 0.140 - ETA: 3s - loss: 2.2379 - acc: 0.187 - ETA: 3s - loss: 2.2242 - acc: 0.187 - ETA: 2s - loss: 2.2260 - acc: 0.175 - ETA: 2s - loss: 2.2143 - acc: 0.177 - ETA: 2s - loss: 2.1992 - acc: 0.174 - ETA: 1s - loss: 2.1920 - acc: 0.175 - ETA: 1s - loss: 2.2065 - acc: 0.173 - ETA: 0s - loss: 2.1978 - acc: 0.169 - 8s 702ms/step - loss: 2.2023 - acc: 0.1744 - val_loss: 2.1961 - val_acc: 0.0702\n",
      "Epoch 9/50\n",
      "11/11 [==============================] - ETA: 4s - loss: 2.2808 - acc: 0.250 - ETA: 4s - loss: 2.2680 - acc: 0.187 - ETA: 3s - loss: 2.2536 - acc: 0.218 - ETA: 3s - loss: 2.2064 - acc: 0.250 - ETA: 2s - loss: 2.1673 - acc: 0.256 - ETA: 2s - loss: 2.1633 - acc: 0.234 - ETA: 1s - loss: 2.1798 - acc: 0.233 - ETA: 1s - loss: 2.1661 - acc: 0.231 - ETA: 0s - loss: 2.1701 - acc: 0.223 - ETA: 0s - loss: 2.1753 - acc: 0.207 - 7s 655ms/step - loss: 2.1580 - acc: 0.2224 - val_loss: 2.0800 - val_acc: 0.1316\n",
      "Epoch 10/50\n",
      "11/11 [==============================] - ETA: 4s - loss: 2.1173 - acc: 0.093 - ETA: 3s - loss: 2.0758 - acc: 0.140 - ETA: 3s - loss: 2.0313 - acc: 0.197 - ETA: 2s - loss: 2.0494 - acc: 0.205 - ETA: 2s - loss: 2.0816 - acc: 0.195 - ETA: 2s - loss: 2.1399 - acc: 0.199 - ETA: 1s - loss: 2.1637 - acc: 0.211 - ETA: 1s - loss: 2.1526 - acc: 0.212 - ETA: 0s - loss: 2.1455 - acc: 0.209 - ETA: 0s - loss: 2.1439 - acc: 0.219 - 7s 617ms/step - loss: 2.1503 - acc: 0.2195 - val_loss: 2.0989 - val_acc: 0.2193\n",
      "Epoch 11/50\n",
      "11/11 [==============================] - ETA: 5s - loss: 2.0630 - acc: 0.281 - ETA: 4s - loss: 2.0346 - acc: 0.281 - ETA: 3s - loss: 2.0497 - acc: 0.239 - ETA: 3s - loss: 2.0435 - acc: 0.236 - ETA: 2s - loss: 2.0573 - acc: 0.214 - ETA: 2s - loss: 2.0468 - acc: 0.215 - ETA: 1s - loss: 2.0664 - acc: 0.206 - ETA: 1s - loss: 2.0550 - acc: 0.200 - ETA: 0s - loss: 2.0530 - acc: 0.205 - ETA: 0s - loss: 2.0530 - acc: 0.204 - 7s 619ms/step - loss: 2.0482 - acc: 0.2053 - val_loss: 1.9886 - val_acc: 0.1842\n",
      "Epoch 12/50\n",
      "11/11 [==============================] - ETA: 4s - loss: 1.9130 - acc: 0.187 - ETA: 3s - loss: 1.9613 - acc: 0.234 - ETA: 3s - loss: 1.9839 - acc: 0.208 - ETA: 3s - loss: 2.0002 - acc: 0.203 - ETA: 2s - loss: 1.9910 - acc: 0.206 - ETA: 2s - loss: 1.9893 - acc: 0.208 - ETA: 1s - loss: 1.9759 - acc: 0.205 - ETA: 1s - loss: 1.9971 - acc: 0.183 - ETA: 0s - loss: 2.0549 - acc: 0.208 - ETA: 0s - loss: 2.0363 - acc: 0.231 - 7s 611ms/step - loss: 2.0354 - acc: 0.2442 - val_loss: 1.9523 - val_acc: 0.2193\n",
      "Epoch 13/50\n",
      "11/11 [==============================] - ETA: 4s - loss: 1.9356 - acc: 0.250 - ETA: 3s - loss: 1.9711 - acc: 0.265 - ETA: 3s - loss: 1.9505 - acc: 0.302 - ETA: 3s - loss: 2.0224 - acc: 0.257 - ETA: 2s - loss: 2.0298 - acc: 0.237 - ETA: 2s - loss: 2.0320 - acc: 0.229 - ETA: 1s - loss: 1.9963 - acc: 0.241 - ETA: 1s - loss: 1.9700 - acc: 0.265 - ETA: 1s - loss: 1.9509 - acc: 0.267 - ETA: 0s - loss: 1.9453 - acc: 0.259 - 8s 696ms/step - loss: 1.9439 - acc: 0.2444 - val_loss: 2.0513 - val_acc: 0.1667\n",
      "Epoch 14/50\n",
      "11/11 [==============================] - ETA: 5s - loss: 2.0390 - acc: 0.250 - ETA: 4s - loss: 2.4105 - acc: 0.171 - ETA: 4s - loss: 2.2065 - acc: 0.197 - ETA: 3s - loss: 2.1281 - acc: 0.226 - ETA: 3s - loss: 2.0657 - acc: 0.244 - ETA: 2s - loss: 2.0367 - acc: 0.245 - ETA: 2s - loss: 2.0207 - acc: 0.259 - ETA: 1s - loss: 2.0107 - acc: 0.262 - ETA: 1s - loss: 2.0780 - acc: 0.250 - ETA: 0s - loss: 2.0777 - acc: 0.247 - 8s 772ms/step - loss: 2.0697 - acc: 0.2504 - val_loss: 1.9980 - val_acc: 0.2018\n",
      "Epoch 15/50\n",
      "11/11 [==============================] - ETA: 4s - loss: 1.8865 - acc: 0.187 - ETA: 3s - loss: 1.8901 - acc: 0.171 - ETA: 3s - loss: 1.8330 - acc: 0.250 - ETA: 3s - loss: 1.8128 - acc: 0.265 - ETA: 2s - loss: 1.7792 - acc: 0.318 - ETA: 2s - loss: 1.8212 - acc: 0.302 - ETA: 1s - loss: 1.8139 - acc: 0.299 - ETA: 1s - loss: 1.8118 - acc: 0.312 - ETA: 1s - loss: 1.8066 - acc: 0.316 - ETA: 0s - loss: 1.8144 - acc: 0.316 - 8s 686ms/step - loss: 1.8663 - acc: 0.3159 - val_loss: 2.3546 - val_acc: 0.1491\n",
      "Epoch 16/50\n",
      "11/11 [==============================] - ETA: 4s - loss: 2.5801 - acc: 0.312 - ETA: 4s - loss: 2.1719 - acc: 0.328 - ETA: 3s - loss: 1.9953 - acc: 0.309 - ETA: 2s - loss: 1.9248 - acc: 0.333 - ETA: 2s - loss: 1.9231 - acc: 0.310 - ETA: 2s - loss: 1.8812 - acc: 0.311 - ETA: 1s - loss: 1.8608 - acc: 0.320 - ETA: 1s - loss: 1.8494 - acc: 0.323 - ETA: 0s - loss: 1.8686 - acc: 0.322 - ETA: 0s - loss: 1.8538 - acc: 0.327 - 7s 670ms/step - loss: 1.8793 - acc: 0.3147 - val_loss: 2.0302 - val_acc: 0.3333\n"
     ]
    },
    {
     "name": "stdout",
     "output_type": "stream",
     "text": [
      "Epoch 17/50\n",
      "11/11 [==============================] - ETA: 5s - loss: 1.9909 - acc: 0.156 - ETA: 4s - loss: 1.9256 - acc: 0.187 - ETA: 3s - loss: 1.8438 - acc: 0.229 - ETA: 3s - loss: 1.8486 - acc: 0.265 - ETA: 2s - loss: 1.8399 - acc: 0.275 - ETA: 2s - loss: 1.9289 - acc: 0.234 - ETA: 1s - loss: 1.8847 - acc: 0.281 - ETA: 1s - loss: 1.8424 - acc: 0.312 - ETA: 0s - loss: 1.8136 - acc: 0.323 - ETA: 0s - loss: 1.7908 - acc: 0.328 - 7s 668ms/step - loss: 1.7652 - acc: 0.3325 - val_loss: 1.9894 - val_acc: 0.3684\n",
      "Epoch 18/50\n",
      "11/11 [==============================] - ETA: 5s - loss: 2.3614 - acc: 0.312 - ETA: 4s - loss: 2.2300 - acc: 0.250 - ETA: 3s - loss: 2.0725 - acc: 0.270 - ETA: 3s - loss: 1.9545 - acc: 0.281 - ETA: 2s - loss: 1.8909 - acc: 0.306 - ETA: 2s - loss: 1.8922 - acc: 0.286 - ETA: 1s - loss: 1.8633 - acc: 0.312 - ETA: 1s - loss: 1.8337 - acc: 0.312 - ETA: 1s - loss: 1.8044 - acc: 0.316 - ETA: 0s - loss: 1.7747 - acc: 0.319 - 8s 724ms/step - loss: 1.8354 - acc: 0.3268 - val_loss: 2.0136 - val_acc: 0.2632\n",
      "Epoch 19/50\n",
      "11/11 [==============================] - ETA: 3s - loss: 1.7364 - acc: 0.181 - ETA: 3s - loss: 1.7379 - acc: 0.184 - ETA: 3s - loss: 1.7821 - acc: 0.227 - ETA: 2s - loss: 1.7513 - acc: 0.256 - ETA: 2s - loss: 1.7326 - acc: 0.298 - ETA: 2s - loss: 1.7080 - acc: 0.327 - ETA: 1s - loss: 1.7093 - acc: 0.338 - ETA: 1s - loss: 1.6860 - acc: 0.362 - ETA: 0s - loss: 1.6848 - acc: 0.360 - ETA: 0s - loss: 1.6667 - acc: 0.377 - 7s 668ms/step - loss: 1.6502 - acc: 0.3750 - val_loss: 1.9637 - val_acc: 0.3596\n",
      "Epoch 20/50\n",
      "11/11 [==============================] - ETA: 4s - loss: 1.6857 - acc: 0.375 - ETA: 4s - loss: 1.6667 - acc: 0.359 - ETA: 3s - loss: 1.7145 - acc: 0.333 - ETA: 3s - loss: 1.6764 - acc: 0.352 - ETA: 2s - loss: 1.6894 - acc: 0.344 - ETA: 2s - loss: 1.6510 - acc: 0.354 - ETA: 1s - loss: 1.6250 - acc: 0.379 - ETA: 1s - loss: 1.6437 - acc: 0.371 - ETA: 0s - loss: 1.6621 - acc: 0.375 - ETA: 0s - loss: 1.6951 - acc: 0.369 - 7s 659ms/step - loss: 1.7344 - acc: 0.3524 - val_loss: 1.8995 - val_acc: 0.2895\n",
      "Epoch 21/50\n",
      "11/11 [==============================] - ETA: 5s - loss: 1.5204 - acc: 0.625 - ETA: 4s - loss: 1.6123 - acc: 0.406 - ETA: 3s - loss: 1.6546 - acc: 0.427 - ETA: 3s - loss: 1.6685 - acc: 0.414 - ETA: 2s - loss: 1.6395 - acc: 0.412 - ETA: 2s - loss: 1.6115 - acc: 0.390 - ETA: 1s - loss: 1.5949 - acc: 0.388 - ETA: 1s - loss: 1.5539 - acc: 0.402 - ETA: 0s - loss: 1.5439 - acc: 0.413 - ETA: 0s - loss: 1.5768 - acc: 0.403 - 8s 683ms/step - loss: 1.5717 - acc: 0.4060 - val_loss: 1.9727 - val_acc: 0.2544\n",
      "Epoch 22/50\n",
      "11/11 [==============================] - ETA: 4s - loss: 1.9805 - acc: 0.406 - ETA: 3s - loss: 1.8279 - acc: 0.390 - ETA: 3s - loss: 1.7385 - acc: 0.385 - ETA: 2s - loss: 1.6916 - acc: 0.351 - ETA: 2s - loss: 1.6368 - acc: 0.387 - ETA: 2s - loss: 1.6455 - acc: 0.375 - ETA: 1s - loss: 1.6572 - acc: 0.361 - ETA: 1s - loss: 1.6555 - acc: 0.394 - ETA: 0s - loss: 1.6363 - acc: 0.409 - ETA: 0s - loss: 1.6358 - acc: 0.418 - 6s 580ms/step - loss: 1.6082 - acc: 0.4260 - val_loss: 1.8035 - val_acc: 0.3158\n",
      "Epoch 23/50\n",
      "11/11 [==============================] - ETA: 3s - loss: 1.3439 - acc: 0.500 - ETA: 3s - loss: 1.5312 - acc: 0.437 - ETA: 3s - loss: 1.4847 - acc: 0.447 - ETA: 2s - loss: 1.4674 - acc: 0.414 - ETA: 2s - loss: 1.4733 - acc: 0.425 - ETA: 2s - loss: 1.4574 - acc: 0.437 - ETA: 1s - loss: 1.4870 - acc: 0.437 - ETA: 1s - loss: 1.5221 - acc: 0.437 - ETA: 0s - loss: 1.5718 - acc: 0.434 - ETA: 0s - loss: 1.5765 - acc: 0.437 - 7s 627ms/step - loss: 1.5631 - acc: 0.4430 - val_loss: 1.8617 - val_acc: 0.3509\n",
      "Epoch 24/50\n",
      "11/11 [==============================] - ETA: 4s - loss: 1.3272 - acc: 0.375 - ETA: 3s - loss: 1.2689 - acc: 0.453 - ETA: 3s - loss: 1.3782 - acc: 0.406 - ETA: 3s - loss: 1.4091 - acc: 0.414 - ETA: 2s - loss: 1.4004 - acc: 0.437 - ETA: 2s - loss: 1.4641 - acc: 0.442 - ETA: 1s - loss: 1.4874 - acc: 0.424 - ETA: 1s - loss: 1.4563 - acc: 0.434 - ETA: 0s - loss: 1.4257 - acc: 0.455 - ETA: 0s - loss: 1.4193 - acc: 0.453 - 7s 633ms/step - loss: 1.4543 - acc: 0.4554 - val_loss: 1.9223 - val_acc: 0.4649\n",
      "Epoch 25/50\n",
      "11/11 [==============================] - ETA: 4s - loss: 1.4954 - acc: 0.562 - ETA: 3s - loss: 1.3832 - acc: 0.562 - ETA: 3s - loss: 1.3178 - acc: 0.593 - ETA: 2s - loss: 1.3111 - acc: 0.578 - ETA: 2s - loss: 1.3168 - acc: 0.568 - ETA: 1s - loss: 1.3204 - acc: 0.562 - ETA: 1s - loss: 1.2848 - acc: 0.560 - ETA: 1s - loss: 1.3162 - acc: 0.552 - ETA: 0s - loss: 1.3071 - acc: 0.553 - ETA: 0s - loss: 1.3339 - acc: 0.542 - 6s 576ms/step - loss: 1.3490 - acc: 0.5268 - val_loss: 1.9469 - val_acc: 0.3684\n",
      "Epoch 26/50\n",
      "11/11 [==============================] - ETA: 4s - loss: 1.4912 - acc: 0.562 - ETA: 3s - loss: 1.4898 - acc: 0.500 - ETA: 3s - loss: 1.4809 - acc: 0.500 - ETA: 2s - loss: 1.4143 - acc: 0.488 - ETA: 2s - loss: 1.4371 - acc: 0.478 - ETA: 1s - loss: 1.3832 - acc: 0.482 - ETA: 1s - loss: 1.3499 - acc: 0.489 - ETA: 1s - loss: 1.3358 - acc: 0.494 - ETA: 0s - loss: 1.3109 - acc: 0.494 - ETA: 0s - loss: 1.3148 - acc: 0.483 - 7s 601ms/step - loss: 1.3284 - acc: 0.4732 - val_loss: 2.0880 - val_acc: 0.4035\n",
      "Epoch 27/50\n",
      "11/11 [==============================] - ETA: 4s - loss: 1.2829 - acc: 0.531 - ETA: 3s - loss: 1.3532 - acc: 0.484 - ETA: 3s - loss: 1.4383 - acc: 0.474 - ETA: 2s - loss: 1.4246 - acc: 0.480 - ETA: 2s - loss: 1.4049 - acc: 0.522 - ETA: 2s - loss: 1.3695 - acc: 0.523 - ETA: 1s - loss: 1.3668 - acc: 0.506 - ETA: 1s - loss: 1.4093 - acc: 0.490 - ETA: 0s - loss: 1.4118 - acc: 0.481 - ETA: 0s - loss: 1.3970 - acc: 0.492 - 7s 622ms/step - loss: 1.3931 - acc: 0.4960 - val_loss: 2.0666 - val_acc: 0.4035\n",
      "Epoch 28/50\n",
      "11/11 [==============================] - ETA: 4s - loss: 1.4252 - acc: 0.500 - ETA: 4s - loss: 1.3159 - acc: 0.546 - ETA: 3s - loss: 1.2735 - acc: 0.593 - ETA: 3s - loss: 1.2340 - acc: 0.609 - ETA: 2s - loss: 1.1976 - acc: 0.612 - ETA: 2s - loss: 1.1868 - acc: 0.635 - ETA: 1s - loss: 1.2180 - acc: 0.633 - ETA: 1s - loss: 1.2104 - acc: 0.632 - ETA: 0s - loss: 1.2536 - acc: 0.614 - ETA: 0s - loss: 1.2582 - acc: 0.621 - 7s 628ms/step - loss: 1.3403 - acc: 0.5987 - val_loss: 2.1538 - val_acc: 0.3421\n",
      "Epoch 29/50\n",
      "11/11 [==============================] - ETA: 4s - loss: 1.2908 - acc: 0.593 - ETA: 3s - loss: 1.1670 - acc: 0.578 - ETA: 3s - loss: 1.1876 - acc: 0.593 - ETA: 2s - loss: 1.1349 - acc: 0.632 - ETA: 2s - loss: 1.1169 - acc: 0.615 - ETA: 1s - loss: 1.1149 - acc: 0.617 - ETA: 1s - loss: 1.1701 - acc: 0.609 - ETA: 1s - loss: 1.1671 - acc: 0.587 - ETA: 0s - loss: 1.1677 - acc: 0.595 - ETA: 0s - loss: 1.1707 - acc: 0.576 - 7s 591ms/step - loss: 1.1481 - acc: 0.5838 - val_loss: 1.8928 - val_acc: 0.3421\n",
      "Epoch 30/50\n",
      "11/11 [==============================] - ETA: 3s - loss: 0.7909 - acc: 0.681 - ETA: 3s - loss: 1.0140 - acc: 0.669 - ETA: 3s - loss: 1.1320 - acc: 0.612 - ETA: 3s - loss: 1.4254 - acc: 0.568 - ETA: 2s - loss: 1.3750 - acc: 0.536 - ETA: 2s - loss: 1.3398 - acc: 0.551 - ETA: 1s - loss: 1.3046 - acc: 0.543 - ETA: 1s - loss: 1.2916 - acc: 0.546 - ETA: 1s - loss: 1.2849 - acc: 0.537 - ETA: 0s - loss: 1.2667 - acc: 0.552 - 8s 713ms/step - loss: 1.2414 - acc: 0.5531 - val_loss: 1.9357 - val_acc: 0.3860\n",
      "Epoch 31/50\n",
      "11/11 [==============================] - ETA: 5s - loss: 1.2447 - acc: 0.562 - ETA: 4s - loss: 1.0339 - acc: 0.625 - ETA: 4s - loss: 1.0216 - acc: 0.645 - ETA: 3s - loss: 0.9565 - acc: 0.664 - ETA: 3s - loss: 1.0563 - acc: 0.631 - ETA: 2s - loss: 1.0561 - acc: 0.601 - ETA: 1s - loss: 1.0774 - acc: 0.596 - ETA: 1s - loss: 1.0781 - acc: 0.595 - ETA: 1s - loss: 1.0781 - acc: 0.592 - ETA: 0s - loss: 1.0899 - acc: 0.604 - 8s 703ms/step - loss: 1.0835 - acc: 0.6241 - val_loss: 2.0048 - val_acc: 0.3246\n",
      "Epoch 32/50\n",
      "11/11 [==============================] - ETA: 4s - loss: 0.9705 - acc: 0.656 - ETA: 3s - loss: 0.9550 - acc: 0.640 - ETA: 3s - loss: 1.1265 - acc: 0.604 - ETA: 3s - loss: 1.1170 - acc: 0.617 - ETA: 2s - loss: 1.1290 - acc: 0.606 - ETA: 2s - loss: 1.0856 - acc: 0.625 - ETA: 1s - loss: 1.0467 - acc: 0.642 - ETA: 1s - loss: 1.1033 - acc: 0.613 - ETA: 1s - loss: 1.1405 - acc: 0.597 - ETA: 0s - loss: 1.1626 - acc: 0.587 - 7s 678ms/step - loss: 1.1570 - acc: 0.5911 - val_loss: 1.9760 - val_acc: 0.3246\n"
     ]
    },
    {
     "name": "stdout",
     "output_type": "stream",
     "text": [
      "Epoch 33/50\n",
      "11/11 [==============================] - ETA: 4s - loss: 1.0779 - acc: 0.687 - ETA: 3s - loss: 1.0269 - acc: 0.661 - ETA: 3s - loss: 0.9786 - acc: 0.680 - ETA: 2s - loss: 0.9647 - acc: 0.682 - ETA: 2s - loss: 0.9057 - acc: 0.689 - ETA: 2s - loss: 0.8894 - acc: 0.658 - ETA: 1s - loss: 0.9151 - acc: 0.662 - ETA: 1s - loss: 0.9276 - acc: 0.649 - ETA: 1s - loss: 0.9270 - acc: 0.636 - ETA: 0s - loss: 0.9213 - acc: 0.638 - 7s 681ms/step - loss: 0.9451 - acc: 0.6260 - val_loss: 1.8108 - val_acc: 0.4035\n",
      "Epoch 34/50\n",
      "11/11 [==============================] - ETA: 4s - loss: 0.8888 - acc: 0.718 - ETA: 4s - loss: 0.8880 - acc: 0.671 - ETA: 3s - loss: 0.8442 - acc: 0.656 - ETA: 3s - loss: 0.9326 - acc: 0.648 - ETA: 2s - loss: 0.9616 - acc: 0.643 - ETA: 2s - loss: 0.9661 - acc: 0.651 - ETA: 1s - loss: 1.0435 - acc: 0.647 - ETA: 1s - loss: 1.0275 - acc: 0.644 - ETA: 0s - loss: 1.0142 - acc: 0.648 - ETA: 0s - loss: 1.0012 - acc: 0.643 - 7s 672ms/step - loss: 0.9816 - acc: 0.6443 - val_loss: 2.2389 - val_acc: 0.5088\n",
      "Epoch 35/50\n",
      "11/11 [==============================] - ETA: 4s - loss: 0.9381 - acc: 0.625 - ETA: 4s - loss: 0.9037 - acc: 0.671 - ETA: 3s - loss: 0.8857 - acc: 0.629 - ETA: 3s - loss: 1.0461 - acc: 0.620 - ETA: 2s - loss: 1.0423 - acc: 0.634 - ETA: 2s - loss: 1.0286 - acc: 0.637 - ETA: 1s - loss: 1.0144 - acc: 0.644 - ETA: 1s - loss: 1.0146 - acc: 0.654 - ETA: 0s - loss: 1.0056 - acc: 0.650 - ETA: 0s - loss: 1.0001 - acc: 0.648 - 8s 703ms/step - loss: 0.9803 - acc: 0.6550 - val_loss: 1.8542 - val_acc: 0.4561\n",
      "Epoch 36/50\n",
      "11/11 [==============================] - ETA: 4s - loss: 0.8553 - acc: 0.656 - ETA: 4s - loss: 0.8966 - acc: 0.593 - ETA: 3s - loss: 0.8702 - acc: 0.592 - ETA: 2s - loss: 0.8869 - acc: 0.608 - ETA: 2s - loss: 0.8566 - acc: 0.643 - ETA: 2s - loss: 0.8203 - acc: 0.661 - ETA: 1s - loss: 0.8549 - acc: 0.664 - ETA: 1s - loss: 0.8592 - acc: 0.663 - ETA: 0s - loss: 0.8732 - acc: 0.669 - ETA: 0s - loss: 0.8910 - acc: 0.665 - 8s 686ms/step - loss: 0.9475 - acc: 0.6590 - val_loss: 2.5560 - val_acc: 0.4035\n",
      "Epoch 37/50\n",
      "11/11 [==============================] - ETA: 5s - loss: 2.1353 - acc: 0.406 - ETA: 4s - loss: 1.6315 - acc: 0.500 - ETA: 3s - loss: 1.4100 - acc: 0.575 - ETA: 3s - loss: 1.3241 - acc: 0.580 - ETA: 2s - loss: 1.2006 - acc: 0.626 - ETA: 2s - loss: 1.1669 - acc: 0.642 - ETA: 1s - loss: 1.0912 - acc: 0.666 - ETA: 1s - loss: 1.0354 - acc: 0.680 - ETA: 0s - loss: 0.9944 - acc: 0.695 - ETA: 0s - loss: 1.0120 - acc: 0.679 - 8s 701ms/step - loss: 1.0022 - acc: 0.6796 - val_loss: 1.7621 - val_acc: 0.5526\n",
      "Epoch 38/50\n",
      "11/11 [==============================] - ETA: 4s - loss: 0.8934 - acc: 0.625 - ETA: 4s - loss: 0.7432 - acc: 0.734 - ETA: 3s - loss: 0.8000 - acc: 0.716 - ETA: 2s - loss: 0.8033 - acc: 0.725 - ETA: 2s - loss: 0.8404 - acc: 0.711 - ETA: 2s - loss: 0.9359 - acc: 0.691 - ETA: 1s - loss: 0.8807 - acc: 0.713 - ETA: 1s - loss: 0.9441 - acc: 0.694 - ETA: 0s - loss: 0.9273 - acc: 0.697 - ETA: 0s - loss: 0.9027 - acc: 0.702 - 8s 686ms/step - loss: 0.8814 - acc: 0.7126 - val_loss: 1.8579 - val_acc: 0.5000\n",
      "Epoch 39/50\n",
      "11/11 [==============================] - ETA: 4s - loss: 0.6273 - acc: 0.812 - ETA: 4s - loss: 0.7209 - acc: 0.765 - ETA: 3s - loss: 0.7190 - acc: 0.760 - ETA: 3s - loss: 0.8045 - acc: 0.718 - ETA: 2s - loss: 0.7898 - acc: 0.731 - ETA: 2s - loss: 0.7989 - acc: 0.718 - ETA: 1s - loss: 0.7859 - acc: 0.720 - ETA: 1s - loss: 0.7591 - acc: 0.739 - ETA: 0s - loss: 0.7737 - acc: 0.726 - ETA: 0s - loss: 0.7584 - acc: 0.741 - 7s 635ms/step - loss: 0.7474 - acc: 0.7451 - val_loss: 1.7304 - val_acc: 0.5263\n",
      "Epoch 40/50\n",
      "11/11 [==============================] - ETA: 4s - loss: 0.7911 - acc: 0.687 - ETA: 3s - loss: 0.7419 - acc: 0.684 - ETA: 2s - loss: 0.7245 - acc: 0.737 - ETA: 2s - loss: 0.6264 - acc: 0.764 - ETA: 2s - loss: 0.6745 - acc: 0.742 - ETA: 1s - loss: 0.7477 - acc: 0.723 - ETA: 1s - loss: 0.7291 - acc: 0.726 - ETA: 1s - loss: 0.7221 - acc: 0.733 - ETA: 0s - loss: 0.7355 - acc: 0.742 - ETA: 0s - loss: 0.7408 - acc: 0.752 - 7s 607ms/step - loss: 0.7846 - acc: 0.7383 - val_loss: 1.9351 - val_acc: 0.4474\n",
      "Epoch 41/50\n",
      "11/11 [==============================] - ETA: 4s - loss: 1.0721 - acc: 0.687 - ETA: 4s - loss: 0.9059 - acc: 0.734 - ETA: 3s - loss: 0.7784 - acc: 0.770 - ETA: 3s - loss: 0.7521 - acc: 0.765 - ETA: 2s - loss: 0.7634 - acc: 0.743 - ETA: 2s - loss: 0.7249 - acc: 0.748 - ETA: 1s - loss: 0.6998 - acc: 0.757 - ETA: 1s - loss: 0.6693 - acc: 0.776 - ETA: 0s - loss: 0.6734 - acc: 0.762 - ETA: 0s - loss: 0.7558 - acc: 0.736 - 7s 593ms/step - loss: 0.7795 - acc: 0.7292 - val_loss: 2.0632 - val_acc: 0.5263\n",
      "Epoch 42/50\n",
      "11/11 [==============================] - ETA: 4s - loss: 1.0017 - acc: 0.562 - ETA: 3s - loss: 0.7917 - acc: 0.667 - ETA: 3s - loss: 0.7765 - acc: 0.684 - ETA: 3s - loss: 0.7285 - acc: 0.716 - ETA: 2s - loss: 0.7202 - acc: 0.735 - ETA: 2s - loss: 0.6933 - acc: 0.753 - ETA: 1s - loss: 0.6832 - acc: 0.762 - ETA: 1s - loss: 0.6463 - acc: 0.784 - ETA: 0s - loss: 0.6570 - acc: 0.780 - ETA: 0s - loss: 0.6646 - acc: 0.771 - 7s 608ms/step - loss: 0.6988 - acc: 0.7691 - val_loss: 2.0750 - val_acc: 0.5088\n",
      "Epoch 43/50\n",
      "11/11 [==============================] - ETA: 4s - loss: 0.5632 - acc: 0.812 - ETA: 3s - loss: 0.6108 - acc: 0.765 - ETA: 3s - loss: 0.6061 - acc: 0.781 - ETA: 2s - loss: 0.5831 - acc: 0.804 - ETA: 2s - loss: 0.6290 - acc: 0.793 - ETA: 1s - loss: 0.6094 - acc: 0.797 - ETA: 1s - loss: 0.6203 - acc: 0.795 - ETA: 1s - loss: 0.6165 - acc: 0.789 - ETA: 0s - loss: 0.6042 - acc: 0.795 - ETA: 0s - loss: 0.6512 - acc: 0.791 - 7s 614ms/step - loss: 0.6385 - acc: 0.7959 - val_loss: 1.8498 - val_acc: 0.5088\n",
      "Epoch 44/50\n",
      "11/11 [==============================] - ETA: 4s - loss: 0.4158 - acc: 0.843 - ETA: 3s - loss: 0.3949 - acc: 0.828 - ETA: 3s - loss: 0.4217 - acc: 0.864 - ETA: 2s - loss: 0.4186 - acc: 0.875 - ETA: 2s - loss: 0.4318 - acc: 0.862 - ETA: 2s - loss: 0.4676 - acc: 0.843 - ETA: 1s - loss: 0.4794 - acc: 0.834 - ETA: 1s - loss: 0.5063 - acc: 0.828 - ETA: 0s - loss: 0.5360 - acc: 0.822 - ETA: 0s - loss: 0.5510 - acc: 0.818 - 6s 585ms/step - loss: 0.5464 - acc: 0.8227 - val_loss: 1.5856 - val_acc: 0.5439\n",
      "Epoch 45/50\n",
      "11/11 [==============================] - ETA: 4s - loss: 0.6323 - acc: 0.812 - ETA: 3s - loss: 0.6294 - acc: 0.781 - ETA: 3s - loss: 0.6038 - acc: 0.808 - ETA: 2s - loss: 0.5802 - acc: 0.809 - ETA: 2s - loss: 0.5629 - acc: 0.804 - ETA: 1s - loss: 0.5144 - acc: 0.815 - ETA: 1s - loss: 0.5011 - acc: 0.819 - ETA: 1s - loss: 0.4813 - acc: 0.834 - ETA: 0s - loss: 0.4794 - acc: 0.839 - ETA: 0s - loss: 0.4807 - acc: 0.833 - 7s 598ms/step - loss: 0.4979 - acc: 0.8284 - val_loss: 2.4545 - val_acc: 0.5088\n",
      "Epoch 46/50\n",
      "11/11 [==============================] - ETA: 4s - loss: 0.7598 - acc: 0.718 - ETA: 3s - loss: 0.7501 - acc: 0.734 - ETA: 3s - loss: 0.6438 - acc: 0.781 - ETA: 3s - loss: 0.6862 - acc: 0.804 - ETA: 2s - loss: 0.6530 - acc: 0.800 - ETA: 2s - loss: 0.6786 - acc: 0.791 - ETA: 1s - loss: 0.6517 - acc: 0.794 - ETA: 1s - loss: 0.6141 - acc: 0.808 - ETA: 0s - loss: 0.5764 - acc: 0.819 - ETA: 0s - loss: 0.5918 - acc: 0.823 - 7s 619ms/step - loss: 0.5810 - acc: 0.8284 - val_loss: 1.9833 - val_acc: 0.6053\n",
      "Epoch 47/50\n",
      "11/11 [==============================] - ETA: 4s - loss: 0.3293 - acc: 0.906 - ETA: 4s - loss: 0.4390 - acc: 0.890 - ETA: 3s - loss: 0.5079 - acc: 0.843 - ETA: 3s - loss: 0.5009 - acc: 0.851 - ETA: 2s - loss: 0.4685 - acc: 0.868 - ETA: 2s - loss: 0.4604 - acc: 0.875 - ETA: 1s - loss: 0.4615 - acc: 0.875 - ETA: 1s - loss: 0.4364 - acc: 0.884 - ETA: 0s - loss: 0.4344 - acc: 0.880 - ETA: 0s - loss: 0.4552 - acc: 0.867 - 8s 690ms/step - loss: 0.4769 - acc: 0.8507 - val_loss: 1.9480 - val_acc: 0.6053\n",
      "Epoch 48/50\n",
      "11/11 [==============================] - ETA: 4s - loss: 0.3722 - acc: 0.875 - ETA: 3s - loss: 0.3424 - acc: 0.914 - ETA: 3s - loss: 0.4420 - acc: 0.891 - ETA: 2s - loss: 0.4824 - acc: 0.879 - ETA: 2s - loss: 0.5083 - acc: 0.859 - ETA: 2s - loss: 0.4616 - acc: 0.877 - ETA: 1s - loss: 0.4352 - acc: 0.886 - ETA: 1s - loss: 0.4177 - acc: 0.888 - ETA: 0s - loss: 0.4202 - acc: 0.880 - ETA: 0s - loss: 0.4134 - acc: 0.879 - 8s 683ms/step - loss: 0.4033 - acc: 0.8849 - val_loss: 1.7438 - val_acc: 0.6754\n"
     ]
    },
    {
     "name": "stdout",
     "output_type": "stream",
     "text": [
      "Epoch 49/50\n",
      "11/11 [==============================] - ETA: 5s - loss: 0.3214 - acc: 0.906 - ETA: 4s - loss: 0.3297 - acc: 0.890 - ETA: 4s - loss: 0.3872 - acc: 0.875 - ETA: 3s - loss: 0.5523 - acc: 0.828 - ETA: 3s - loss: 0.6770 - acc: 0.806 - ETA: 2s - loss: 0.6641 - acc: 0.802 - ETA: 2s - loss: 0.6600 - acc: 0.790 - ETA: 1s - loss: 0.6333 - acc: 0.796 - ETA: 1s - loss: 0.6029 - acc: 0.799 - ETA: 0s - loss: 0.5827 - acc: 0.809 - 9s 806ms/step - loss: 0.5627 - acc: 0.8159 - val_loss: 1.6407 - val_acc: 0.6316\n",
      "Epoch 50/50\n",
      "11/11 [==============================] - ETA: 3s - loss: 0.2611 - acc: 0.909 - ETA: 3s - loss: 0.3391 - acc: 0.876 - ETA: 3s - loss: 0.2763 - acc: 0.907 - ETA: 3s - loss: 0.2722 - acc: 0.907 - ETA: 2s - loss: 0.2821 - acc: 0.900 - ETA: 2s - loss: 0.3592 - acc: 0.870 - ETA: 1s - loss: 0.3778 - acc: 0.870 - ETA: 1s - loss: 0.3820 - acc: 0.879 - ETA: 1s - loss: 0.3762 - acc: 0.878 - ETA: 0s - loss: 0.3854 - acc: 0.872 - 9s 774ms/step - loss: 0.3967 - acc: 0.8695 - val_loss: 2.0080 - val_acc: 0.5877\n"
     ]
    }
   ],
   "source": [
    "history = model.fit_generator(train_generator, \n",
    "                              validation_data = validation_generator,\n",
    "                              epochs = 50,\n",
    "                              callbacks=[history]\n",
    "                             )"
   ]
  },
  {
   "cell_type": "code",
   "execution_count": 15,
   "metadata": {},
   "outputs": [
    {
     "name": "stdout",
     "output_type": "stream",
     "text": [
      "dict_keys(['val_loss', 'val_acc', 'loss', 'acc'])\n"
     ]
    },
    {
     "data": {
      "image/png": "[encoded data removed]",
      "text/plain": [
       "<matplotlib.figure.Figure at 0x1af47aa8eb8>"
      ]
     },
     "metadata": {},
     "output_type": "display_data"
    },
    {
     "data": {
      "image/png": "[encoded data removed]",
      "text/plain": [
       "<matplotlib.figure.Figure at 0x1af4580cd30>"
      ]
     },
     "metadata": {},
     "output_type": "display_data"
    }
   ],
   "source": [
    "# list all data in history\n",
    "print(history.history.keys())\n",
    "\n",
    "# summarize history for accuracy\n",
    "plt.plot(history.history['acc'])\n",
    "plt.plot(history.history['val_acc'])\n",
    "plt.title('model accuracy')\n",
    "plt.ylabel('accuracy')\n",
    "plt.xlabel('epoch')\n",
    "plt.legend(['train', 'test'], loc='upper left')\n",
    "# plt.legend(['train'], loc='upper left')\n",
    "plt.show()\n",
    "\n",
    "# summarize history for loss\n",
    "plt.plot(history.history['loss'])\n",
    "plt.plot(history.history['val_loss'])\n",
    "plt.title('model loss')\n",
    "plt.ylabel('loss')\n",
    "plt.xlabel('epoch')\n",
    "plt.legend(['train', 'test'], loc='upper left')\n",
    "# plt.legend(['train'], loc='upper left')\n",
    "plt.show()"
   ]
  },
  {
   "cell_type": "code",
   "execution_count": 16,
   "metadata": {},
   "outputs": [
    {
     "data": {
      "text/plain": [
       "[7.881919793915331,\n",
       " 7.925883176033957,\n",
       " 6.8405193724827456,\n",
       " 6.227945166024548,\n",
       " 4.909301799640321,\n",
       " 2.4464697991198268,\n",
       " 2.283248431501333,\n",
       " 2.2044990662245723,\n",
       " 2.1547631436621235,\n",
       " 2.1515780150541786,\n",
       " 2.0487790079841837,\n",
       " 2.0224752314606604,\n",
       " 1.9442821538936326,\n",
       " 2.0765232273012573,\n",
       " 1.8657693953541985,\n",
       " 1.8856790581641838,\n",
       " 1.770049344029343,\n",
       " 1.8407331956060309,\n",
       " 1.6479196485720182,\n",
       " 1.7389825833471197,\n",
       " 1.5746033240480033,\n",
       " 1.607613279805546,\n",
       " 1.566777103128489,\n",
       " 1.4496326669614914,\n",
       " 1.3564188550090233,\n",
       " 1.3314688129034655,\n",
       " 1.3873686065450745,\n",
       " 1.3414234320322673,\n",
       " 1.1508883300580477,\n",
       " 1.2534006558663664,\n",
       " 1.0842599548094454,\n",
       " 1.1515220626752976,\n",
       " 0.9443087372166371,\n",
       " 0.9836042432757149,\n",
       " 0.9837567011515299,\n",
       " 0.9509865606737415,\n",
       " 1.00312760629152,\n",
       " 0.8805139821175246,\n",
       " 0.7484325017148291,\n",
       " 0.7870824110438253,\n",
       " 0.7861000686361078,\n",
       " 0.7018771621218899,\n",
       " 0.6418808587113319,\n",
       " 0.5477022654131839,\n",
       " 0.4964777081333406,\n",
       " 0.5770071100073251,\n",
       " 0.48268553283479476,\n",
       " 0.4057151732737558,\n",
       " 0.5681057506137424,\n",
       " 0.4003766527649952]"
      ]
     },
     "execution_count": 16,
     "metadata": {},
     "output_type": "execute_result"
    }
   ],
   "source": [
    "history.history['loss']"
   ]
  },
  {
   "cell_type": "code",
   "execution_count": 19,
   "metadata": {},
   "outputs": [
    {
     "ename": "ImportError",
     "evalue": "Failed to import `pydot`. Please install `pydot`. For example with `pip install pydot`.",
     "output_type": "error",
     "traceback": [
      "\u001b[1;31m---------------------------------------------------------------------------\u001b[0m",
      "\u001b[1;31mImportError\u001b[0m                               Traceback (most recent call last)",
      "\u001b[1;32m<ipython-input-19-fbb1b8fae547>\u001b[0m in \u001b[0;36m<module>\u001b[1;34m()\u001b[0m\n\u001b[0;32m      1\u001b[0m \u001b[1;32mfrom\u001b[0m \u001b[0mkeras\u001b[0m\u001b[1;33m.\u001b[0m\u001b[0mutils\u001b[0m \u001b[1;32mimport\u001b[0m \u001b[0mplot_model\u001b[0m\u001b[1;33m\u001b[0m\u001b[0m\n\u001b[1;32m----> 2\u001b[1;33m \u001b[0mplot_model\u001b[0m\u001b[1;33m(\u001b[0m\u001b[0mmodel\u001b[0m\u001b[1;33m)\u001b[0m\u001b[1;33m\u001b[0m\u001b[0m\n\u001b[0m",
      "\u001b[1;32mC:\\Anaconda3\\lib\\site-packages\\keras\\utils\\vis_utils.py\u001b[0m in \u001b[0;36mplot_model\u001b[1;34m(model, to_file, show_shapes, show_layer_names, rankdir)\u001b[0m\n\u001b[0;32m    132\u001b[0m             \u001b[1;34m'LR'\u001b[0m \u001b[0mcreates\u001b[0m \u001b[0ma\u001b[0m \u001b[0mhorizontal\u001b[0m \u001b[0mplot\u001b[0m\u001b[1;33m.\u001b[0m\u001b[1;33m\u001b[0m\u001b[0m\n\u001b[0;32m    133\u001b[0m     \"\"\"\n\u001b[1;32m--> 134\u001b[1;33m     \u001b[0mdot\u001b[0m \u001b[1;33m=\u001b[0m \u001b[0mmodel_to_dot\u001b[0m\u001b[1;33m(\u001b[0m\u001b[0mmodel\u001b[0m\u001b[1;33m,\u001b[0m \u001b[0mshow_shapes\u001b[0m\u001b[1;33m,\u001b[0m \u001b[0mshow_layer_names\u001b[0m\u001b[1;33m,\u001b[0m \u001b[0mrankdir\u001b[0m\u001b[1;33m)\u001b[0m\u001b[1;33m\u001b[0m\u001b[0m\n\u001b[0m\u001b[0;32m    135\u001b[0m     \u001b[0m_\u001b[0m\u001b[1;33m,\u001b[0m \u001b[0mextension\u001b[0m \u001b[1;33m=\u001b[0m \u001b[0mos\u001b[0m\u001b[1;33m.\u001b[0m\u001b[0mpath\u001b[0m\u001b[1;33m.\u001b[0m\u001b[0msplitext\u001b[0m\u001b[1;33m(\u001b[0m\u001b[0mto_file\u001b[0m\u001b[1;33m)\u001b[0m\u001b[1;33m\u001b[0m\u001b[0m\n\u001b[0;32m    136\u001b[0m     \u001b[1;32mif\u001b[0m \u001b[1;32mnot\u001b[0m \u001b[0mextension\u001b[0m\u001b[1;33m:\u001b[0m\u001b[1;33m\u001b[0m\u001b[0m\n",
      "\u001b[1;32mC:\\Anaconda3\\lib\\site-packages\\keras\\utils\\vis_utils.py\u001b[0m in \u001b[0;36mmodel_to_dot\u001b[1;34m(model, show_shapes, show_layer_names, rankdir)\u001b[0m\n\u001b[0;32m     53\u001b[0m     \u001b[1;32mfrom\u001b[0m \u001b[1;33m.\u001b[0m\u001b[1;33m.\u001b[0m\u001b[0mmodels\u001b[0m \u001b[1;32mimport\u001b[0m \u001b[0mSequential\u001b[0m\u001b[1;33m\u001b[0m\u001b[0m\n\u001b[0;32m     54\u001b[0m \u001b[1;33m\u001b[0m\u001b[0m\n\u001b[1;32m---> 55\u001b[1;33m     \u001b[0m_check_pydot\u001b[0m\u001b[1;33m(\u001b[0m\u001b[1;33m)\u001b[0m\u001b[1;33m\u001b[0m\u001b[0m\n\u001b[0m\u001b[0;32m     56\u001b[0m     \u001b[0mdot\u001b[0m \u001b[1;33m=\u001b[0m \u001b[0mpydot\u001b[0m\u001b[1;33m.\u001b[0m\u001b[0mDot\u001b[0m\u001b[1;33m(\u001b[0m\u001b[1;33m)\u001b[0m\u001b[1;33m\u001b[0m\u001b[0m\n\u001b[0;32m     57\u001b[0m     \u001b[0mdot\u001b[0m\u001b[1;33m.\u001b[0m\u001b[0mset\u001b[0m\u001b[1;33m(\u001b[0m\u001b[1;34m'rankdir'\u001b[0m\u001b[1;33m,\u001b[0m \u001b[0mrankdir\u001b[0m\u001b[1;33m)\u001b[0m\u001b[1;33m\u001b[0m\u001b[0m\n",
      "\u001b[1;32mC:\\Anaconda3\\lib\\site-packages\\keras\\utils\\vis_utils.py\u001b[0m in \u001b[0;36m_check_pydot\u001b[1;34m()\u001b[0m\n\u001b[0;32m     18\u001b[0m     \u001b[1;32mif\u001b[0m \u001b[0mpydot\u001b[0m \u001b[1;32mis\u001b[0m \u001b[1;32mNone\u001b[0m\u001b[1;33m:\u001b[0m\u001b[1;33m\u001b[0m\u001b[0m\n\u001b[0;32m     19\u001b[0m         raise ImportError(\n\u001b[1;32m---> 20\u001b[1;33m             \u001b[1;34m'Failed to import `pydot`. '\u001b[0m\u001b[1;33m\u001b[0m\u001b[0m\n\u001b[0m\u001b[0;32m     21\u001b[0m             \u001b[1;34m'Please install `pydot`. '\u001b[0m\u001b[1;33m\u001b[0m\u001b[0m\n\u001b[0;32m     22\u001b[0m             'For example with `pip install pydot`.')\n",
      "\u001b[1;31mImportError\u001b[0m: Failed to import `pydot`. Please install `pydot`. For example with `pip install pydot`."
     ]
    }
   ],
   "source": [
    "from keras.utils import plot_model\n",
    "plot_model(model)"
   ]
  },
  {
   "cell_type": "code",
   "execution_count": 20,
   "metadata": {},
   "outputs": [
    {
     "name": "stdout",
     "output_type": "stream",
     "text": [
      "_________________________________________________________________\n",
      "Layer (type)                 Output Shape              Param #   \n",
      "=================================================================\n",
      "conv2d_4 (Conv2D)            (None, 62, 62, 64)        1792      \n",
      "_________________________________________________________________\n",
      "activation_6 (Activation)    (None, 62, 62, 64)        0         \n",
      "_________________________________________________________________\n",
      "max_pooling2d_4 (MaxPooling2 (None, 31, 31, 64)        0         \n",
      "_________________________________________________________________\n",
      "conv2d_5 (Conv2D)            (None, 29, 29, 64)        36928     \n",
      "_________________________________________________________________\n",
      "activation_7 (Activation)    (None, 29, 29, 64)        0         \n",
      "_________________________________________________________________\n",
      "max_pooling2d_5 (MaxPooling2 (None, 14, 14, 64)        0         \n",
      "_________________________________________________________________\n",
      "conv2d_6 (Conv2D)            (None, 12, 12, 128)       73856     \n",
      "_________________________________________________________________\n",
      "activation_8 (Activation)    (None, 12, 12, 128)       0         \n",
      "_________________________________________________________________\n",
      "max_pooling2d_6 (MaxPooling2 (None, 6, 6, 128)         0         \n",
      "_________________________________________________________________\n",
      "conv2d_7 (Conv2D)            (None, 4, 4, 64)          73792     \n",
      "_________________________________________________________________\n",
      "activation_9 (Activation)    (None, 4, 4, 64)          0         \n",
      "_________________________________________________________________\n",
      "max_pooling2d_7 (MaxPooling2 (None, 2, 2, 64)          0         \n",
      "_________________________________________________________________\n",
      "flatten_2 (Flatten)          (None, 256)               0         \n",
      "_________________________________________________________________\n",
      "dense_3 (Dense)              (None, 64)                16448     \n",
      "_________________________________________________________________\n",
      "activation_10 (Activation)   (None, 64)                0         \n",
      "_________________________________________________________________\n",
      "dropout_2 (Dropout)          (None, 64)                0         \n",
      "_________________________________________________________________\n",
      "dense_4 (Dense)              (None, 10)                650       \n",
      "_________________________________________________________________\n",
      "activation_11 (Activation)   (None, 10)                0         \n",
      "=================================================================\n",
      "Total params: 203,466\n",
      "Trainable params: 203,466\n",
      "Non-trainable params: 0\n",
      "_________________________________________________________________\n",
      "None\n"
     ]
    }
   ],
   "source": []
  },
  {
   "cell_type": "code",
   "execution_count": null,
   "metadata": {
    "collapsed": true
   },
   "outputs": [],
   "source": []
  }
 ],
 "metadata": {
  "kernelspec": {
   "display_name": "Python 3",
   "language": "python",
   "name": "python3"
  },
  "language_info": {
   "codemirror_mode": {
    "name": "ipython",
    "version": 3
   },
   "file_extension": ".py",
   "mimetype": "text/x-python",
   "name": "python",
   "nbconvert_exporter": "python",
   "pygments_lexer": "ipython3",
   "version": "3.6.2"
  }
 },
 "nbformat": 4,
 "nbformat_minor": 2
}
