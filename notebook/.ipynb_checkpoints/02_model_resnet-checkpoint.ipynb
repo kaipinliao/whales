{
 "cells": [
  {
   "cell_type": "code",
   "execution_count": null,
   "metadata": {
    "collapsed": true
   },
   "outputs": [],
   "source": [
    "# RESNET\n",
    "# https://github.com/broadinstitute/keras-resnet"
   ]
  },
  {
   "cell_type": "code",
   "execution_count": 14,
   "metadata": {},
   "outputs": [],
   "source": [
    "import keras\n",
    "import keras_resnet.models\n",
    "import os\n",
    "import numpy as np\n",
    "from tqdm import tqdm\n",
    "from keras.preprocessing.image import ImageDataGenerator, array_to_img, img_to_array, load_img\n",
    "import matplotlib.pyplot as plt"
   ]
  },
  {
   "cell_type": "code",
   "execution_count": null,
   "metadata": {
    "collapsed": true
   },
   "outputs": [],
   "source": [
    "# https://github.com/broadinstitute/keras-resnet\n",
    "# https://blog.keras.io/building-powerful-image-classification-models-using-very-little-data.html"
   ]
  },
  {
   "cell_type": "code",
   "execution_count": 2,
   "metadata": {
    "collapsed": true
   },
   "outputs": [],
   "source": [
    "shape, classes = (32, 32, 1), 10"
   ]
  },
  {
   "cell_type": "code",
   "execution_count": 3,
   "metadata": {
    "collapsed": true
   },
   "outputs": [],
   "source": [
    "x = keras.layers.Input(shape)\n",
    "model = keras_resnet.models.ResNet50(x, classes=classes)\n",
    "model.compile(\"adam\", \"categorical_crossentropy\", [\"accuracy\"])"
   ]
  },
  {
   "cell_type": "code",
   "execution_count": null,
   "metadata": {
    "collapsed": true
   },
   "outputs": [],
   "source": [
    "# learn how input data should be formatted"
   ]
  },
  {
   "cell_type": "code",
   "execution_count": 13,
   "metadata": {
    "collapsed": true
   },
   "outputs": [],
   "source": [
    "# shape train data"
   ]
  },
  {
   "cell_type": "code",
   "execution_count": 5,
   "metadata": {
    "collapsed": true
   },
   "outputs": [],
   "source": [
    "version_number = '0_1'"
   ]
  },
  {
   "cell_type": "code",
   "execution_count": 6,
   "metadata": {
    "collapsed": true
   },
   "outputs": [],
   "source": [
    "TRAIN_PATH = 'C:/Users/KaiPin Liao/Documents/kaggle_whales/data/train_' + version_number + '/'\n",
    "TEST_PATH  = 'C:/Users/KaiPin Liao/Documents/kaggle_whales/data/test_' + version_number + '/'"
   ]
  },
  {
   "cell_type": "code",
   "execution_count": null,
   "metadata": {
    "collapsed": true
   },
   "outputs": [],
   "source": [
    "# NOT USED BELOW"
   ]
  },
  {
   "cell_type": "code",
   "execution_count": 54,
   "metadata": {},
   "outputs": [
    {
     "name": "stderr",
     "output_type": "stream",
     "text": [
      "100%|████████████████████████████████████████████████████████████████████████████████| 456/456 [00:17<00:00, 15.98it/s]\n"
     ]
    }
   ],
   "source": [
    "# load all images in directory\n",
    "# change dimension to numpy array of dimension (number of images, height, width, channel)\n",
    "feature = []\n",
    "directory = TRAIN_PATH\n",
    "for image_name in tqdm(os.listdir(directory)):\n",
    "    img = load_img(directory + image_name)\n",
    "    x = img_to_array(img)\n",
    "    feature.append(x)\n",
    "feature = np.array(feature)"
   ]
  },
  {
   "cell_type": "code",
   "execution_count": 63,
   "metadata": {},
   "outputs": [
    {
     "name": "stdout",
     "output_type": "stream",
     "text": [
      "3315.0558471679688 MB used\n"
     ]
    }
   ],
   "source": [
    "print(feature.nbytes/1024/1024, 'MB used')"
   ]
  },
  {
   "cell_type": "code",
   "execution_count": null,
   "metadata": {
    "collapsed": true
   },
   "outputs": [],
   "source": [
    "# NOT USED ABOVE"
   ]
  },
  {
   "cell_type": "code",
   "execution_count": 7,
   "metadata": {
    "collapsed": true
   },
   "outputs": [],
   "source": [
    "train_datagen = ImageDataGenerator()"
   ]
  },
  {
   "cell_type": "code",
   "execution_count": 8,
   "metadata": {},
   "outputs": [
    {
     "name": "stdout",
     "output_type": "stream",
     "text": [
      "Found 456 images belonging to 10 classes.\n"
     ]
    }
   ],
   "source": [
    "train_generator = train_datagen.flow_from_directory(TRAIN_PATH, \n",
    "                                                    target_size = (32, 32),\n",
    "                                                    color_mode = 'grayscale')"
   ]
  },
  {
   "cell_type": "code",
   "execution_count": 11,
   "metadata": {},
   "outputs": [
    {
     "name": "stdout",
     "output_type": "stream",
     "text": [
      "Epoch 1/50\n",
      "15/15 [==============================] - ETA: 36s - loss: 14.6070 - acc: 0.093 - ETA: 33s - loss: 14.1033 - acc: 0.125 - ETA: 29s - loss: 14.2712 - acc: 0.114 - ETA: 27s - loss: 14.3552 - acc: 0.109 - ETA: 21s - loss: 14.3048 - acc: 0.112 - ETA: 19s - loss: 14.2712 - acc: 0.114 - ETA: 18s - loss: 14.2472 - acc: 0.116 - ETA: 16s - loss: 14.2922 - acc: 0.113 - ETA: 13s - loss: 14.4391 - acc: 0.104 - ETA: 11s - loss: 14.4559 - acc: 0.103 - ETA: 9s - loss: 14.5612 - acc: 0.096 - ETA: 7s - loss: 14.6070 - acc: 0.09 - ETA: 4s - loss: 14.6070 - acc: 0.09 - ETA: 2s - loss: 14.6070 - acc: 0.09 - 35s 2s/step - loss: 14.6424 - acc: 0.0916\n",
      "Epoch 2/50\n",
      "15/15 [==============================] - ETA: 35s - loss: 15.1107 - acc: 0.062 - ETA: 31s - loss: 14.3552 - acc: 0.109 - ETA: 29s - loss: 14.1033 - acc: 0.125 - ETA: 26s - loss: 14.2293 - acc: 0.117 - ETA: 24s - loss: 14.5063 - acc: 0.100 - ETA: 21s - loss: 14.3552 - acc: 0.109 - ETA: 19s - loss: 14.3192 - acc: 0.111 - ETA: 17s - loss: 14.3552 - acc: 0.109 - ETA: 14s - loss: 14.4391 - acc: 0.104 - ETA: 12s - loss: 14.4559 - acc: 0.103 - ETA: 9s - loss: 14.4239 - acc: 0.105 - ETA: 7s - loss: 14.5650 - acc: 0.09 - ETA: 4s - loss: 14.6845 - acc: 0.08 - ETA: 2s - loss: 14.4991 - acc: 0.10 - 37s 2s/step - loss: 14.5479 - acc: 0.0974\n",
      "Epoch 3/50\n",
      "15/15 [==============================] - ETA: 51s - loss: 14.6070 - acc: 0.093 - ETA: 47s - loss: 15.1107 - acc: 0.062 - ETA: 44s - loss: 14.9428 - acc: 0.072 - ETA: 40s - loss: 14.8589 - acc: 0.078 - ETA: 35s - loss: 14.7078 - acc: 0.087 - ETA: 31s - loss: 14.8589 - acc: 0.078 - ETA: 28s - loss: 14.8948 - acc: 0.075 - ETA: 22s - loss: 14.5441 - acc: 0.097 - ETA: 20s - loss: 14.6630 - acc: 0.090 - ETA: 17s - loss: 14.7078 - acc: 0.087 - ETA: 14s - loss: 14.7444 - acc: 0.085 - ETA: 10s - loss: 14.6910 - acc: 0.088 - ETA: 7s - loss: 14.6458 - acc: 0.091 - ETA: 3s - loss: 14.6430 - acc: 0.09 - 56s 4s/step - loss: 14.5479 - acc: 0.0974\n",
      "Epoch 4/50\n",
      "15/15 [==============================] - ETA: 1:03 - loss: 14.1033 - acc: 0.12 - ETA: 59s - loss: 13.8515 - acc: 0.1406 - ETA: 56s - loss: 14.2712 - acc: 0.114 - ETA: 50s - loss: 14.4811 - acc: 0.101 - ETA: 43s - loss: 14.2041 - acc: 0.118 - ETA: 38s - loss: 14.5231 - acc: 0.099 - ETA: 32s - loss: 14.6790 - acc: 0.089 - ETA: 28s - loss: 14.7959 - acc: 0.082 - ETA: 23s - loss: 14.8309 - acc: 0.079 - ETA: 19s - loss: 14.8589 - acc: 0.078 - ETA: 14s - loss: 14.6070 - acc: 0.093 - ETA: 10s - loss: 14.5650 - acc: 0.096 - ETA: 7s - loss: 14.5295 - acc: 0.098 - ETA: 3s - loss: 14.4991 - acc: 0.10 - 52s 3s/step - loss: 14.5479 - acc: 0.0974\n",
      "Epoch 5/50\n",
      "15/15 [==============================] - ETA: 42s - loss: 12.5923 - acc: 0.218 - ETA: 39s - loss: 13.5996 - acc: 0.156 - ETA: 36s - loss: 13.5996 - acc: 0.156 - ETA: 33s - loss: 14.1033 - acc: 0.125 - ETA: 31s - loss: 14.2041 - acc: 0.118 - ETA: 28s - loss: 14.5231 - acc: 0.099 - ETA: 25s - loss: 14.6070 - acc: 0.093 - ETA: 21s - loss: 14.7959 - acc: 0.082 - ETA: 18s - loss: 14.6630 - acc: 0.090 - ETA: 15s - loss: 14.7078 - acc: 0.087 - ETA: 12s - loss: 14.6986 - acc: 0.088 - ETA: 9s - loss: 14.6490 - acc: 0.091 - ETA: 6s - loss: 14.6070 - acc: 0.09 - ETA: 2s - loss: 14.5710 - acc: 0.09 - 45s 3s/step - loss: 14.6424 - acc: 0.0916\n",
      "Epoch 6/50\n",
      "15/15 [==============================] - ETA: 41s - loss: 14.1033 - acc: 0.125 - ETA: 38s - loss: 14.3552 - acc: 0.109 - ETA: 35s - loss: 14.7749 - acc: 0.083 - ETA: 31s - loss: 14.8589 - acc: 0.078 - ETA: 28s - loss: 14.8085 - acc: 0.081 - ETA: 23s - loss: 15.0268 - acc: 0.067 - ETA: 20s - loss: 14.8948 - acc: 0.075 - ETA: 18s - loss: 14.7959 - acc: 0.082 - ETA: 15s - loss: 14.8869 - acc: 0.076 - ETA: 13s - loss: 15.0100 - acc: 0.068 - ETA: 10s - loss: 15.0191 - acc: 0.068 - ETA: 7s - loss: 14.9848 - acc: 0.070 - ETA: 5s - loss: 14.9945 - acc: 0.06 - ETA: 2s - loss: 14.9308 - acc: 0.07 - 40s 3s/step - loss: 14.7368 - acc: 0.0857\n",
      "Epoch 7/50\n",
      "15/15 [==============================] - ETA: 40s - loss: 14.1033 - acc: 0.125 - ETA: 25s - loss: 15.1107 - acc: 0.062 - ETA: 27s - loss: 14.7749 - acc: 0.083 - ETA: 25s - loss: 15.1107 - acc: 0.062 - ETA: 24s - loss: 14.7078 - acc: 0.087 - ETA: 22s - loss: 14.6910 - acc: 0.088 - ETA: 20s - loss: 14.6070 - acc: 0.093 - ETA: 17s - loss: 14.6070 - acc: 0.093 - ETA: 15s - loss: 14.6630 - acc: 0.090 - ETA: 12s - loss: 14.6070 - acc: 0.093 - ETA: 9s - loss: 14.6986 - acc: 0.088 - ETA: 7s - loss: 14.6490 - acc: 0.09 - ETA: 4s - loss: 14.7233 - acc: 0.08 - ETA: 2s - loss: 14.7150 - acc: 0.08 - 38s 3s/step - loss: 14.7368 - acc: 0.0857\n",
      "Epoch 8/50\n",
      "15/15 [==============================] - ETA: 38s - loss: 15.6144 - acc: 0.031 - ETA: 24s - loss: 12.8441 - acc: 0.203 - ETA: 25s - loss: 13.9354 - acc: 0.135 - ETA: 24s - loss: 14.3552 - acc: 0.109 - ETA: 23s - loss: 14.2041 - acc: 0.118 - ETA: 21s - loss: 14.3552 - acc: 0.109 - ETA: 19s - loss: 14.4631 - acc: 0.102 - ETA: 16s - loss: 14.2293 - acc: 0.117 - ETA: 14s - loss: 14.3832 - acc: 0.107 - ETA: 12s - loss: 14.5567 - acc: 0.096 - ETA: 9s - loss: 14.4239 - acc: 0.105 - ETA: 7s - loss: 14.5231 - acc: 0.09 - ETA: 5s - loss: 14.5295 - acc: 0.09 - ETA: 2s - loss: 14.4631 - acc: 0.10 - 38s 3s/step - loss: 14.4535 - acc: 0.1033\n",
      "Epoch 9/50\n",
      "15/15 [==============================] - ETA: 40s - loss: 14.1033 - acc: 0.125 - ETA: 37s - loss: 14.8589 - acc: 0.078 - ETA: 34s - loss: 14.9428 - acc: 0.072 - ETA: 31s - loss: 14.8589 - acc: 0.078 - ETA: 28s - loss: 14.8085 - acc: 0.081 - ETA: 25s - loss: 14.7749 - acc: 0.083 - ETA: 22s - loss: 14.6070 - acc: 0.093 - ETA: 19s - loss: 14.6700 - acc: 0.089 - ETA: 15s - loss: 14.8309 - acc: 0.079 - ETA: 13s - loss: 14.8589 - acc: 0.078 - ETA: 10s - loss: 14.8360 - acc: 0.079 - ETA: 7s - loss: 14.8169 - acc: 0.080 - ETA: 5s - loss: 14.7620 - acc: 0.08 - ETA: 2s - loss: 14.6790 - acc: 0.08 - 40s 3s/step - loss: 14.7368 - acc: 0.0857\n",
      "Epoch 10/50\n",
      "15/15 [==============================] - ETA: 40s - loss: 16.1181 - acc: 0.0000e+0 - ETA: 37s - loss: 15.8663 - acc: 0.0156    - ETA: 33s - loss: 15.2786 - acc: 0.052 - ETA: 30s - loss: 15.1107 - acc: 0.062 - ETA: 26s - loss: 15.2115 - acc: 0.056 - ETA: 24s - loss: 15.1947 - acc: 0.057 - ETA: 19s - loss: 15.3266 - acc: 0.049 - ETA: 17s - loss: 15.1737 - acc: 0.058 - ETA: 15s - loss: 14.9988 - acc: 0.069 - ETA: 12s - loss: 15.0100 - acc: 0.068 - ETA: 10s - loss: 14.9276 - acc: 0.073 - ETA: 7s - loss: 14.8169 - acc: 0.080 - ETA: 5s - loss: 14.8008 - acc: 0.08 - ETA: 2s - loss: 14.8229 - acc: 0.08 - 38s 3s/step - loss: 14.7368 - acc: 0.0857\n",
      "Epoch 11/50\n",
      "15/15 [==============================] - ETA: 37s - loss: 13.5996 - acc: 0.156 - ETA: 35s - loss: 14.1033 - acc: 0.125 - ETA: 33s - loss: 14.2712 - acc: 0.114 - ETA: 30s - loss: 14.3552 - acc: 0.109 - ETA: 27s - loss: 14.6070 - acc: 0.093 - ETA: 24s - loss: 14.5231 - acc: 0.099 - ETA: 19s - loss: 14.4631 - acc: 0.102 - ETA: 17s - loss: 14.5441 - acc: 0.097 - ETA: 14s - loss: 14.5511 - acc: 0.097 - ETA: 12s - loss: 14.6070 - acc: 0.093 - ETA: 9s - loss: 14.6528 - acc: 0.090 - ETA: 7s - loss: 14.6070 - acc: 0.09 - ETA: 5s - loss: 14.6070 - acc: 0.09 - ETA: 2s - loss: 14.6070 - acc: 0.09 - 39s 3s/step - loss: 14.6424 - acc: 0.0916\n",
      "Epoch 12/50\n",
      "15/15 [==============================] - ETA: 41s - loss: 14.6070 - acc: 0.093 - ETA: 37s - loss: 14.8589 - acc: 0.078 - ETA: 35s - loss: 15.1107 - acc: 0.062 - ETA: 32s - loss: 14.6070 - acc: 0.093 - ETA: 28s - loss: 14.7078 - acc: 0.087 - ETA: 25s - loss: 14.6910 - acc: 0.088 - ETA: 22s - loss: 14.7509 - acc: 0.084 - ETA: 19s - loss: 14.7959 - acc: 0.082 - ETA: 16s - loss: 14.6630 - acc: 0.090 - ETA: 14s - loss: 14.6070 - acc: 0.093 - ETA: 10s - loss: 14.5612 - acc: 0.096 - ETA: 7s - loss: 14.4811 - acc: 0.101 - ETA: 5s - loss: 14.4908 - acc: 0.10 - ETA: 2s - loss: 14.5351 - acc: 0.09 - 41s 3s/step - loss: 14.6424 - acc: 0.0916\n",
      "Epoch 13/50\n"
     ]
    },
    {
     "name": "stdout",
     "output_type": "stream",
     "text": [
      "15/15 [==============================] - ETA: 42s - loss: 14.6070 - acc: 0.093 - ETA: 40s - loss: 14.3552 - acc: 0.109 - ETA: 36s - loss: 14.6070 - acc: 0.093 - ETA: 32s - loss: 14.7329 - acc: 0.085 - ETA: 28s - loss: 14.6070 - acc: 0.093 - ETA: 25s - loss: 14.8589 - acc: 0.078 - ETA: 22s - loss: 14.9668 - acc: 0.071 - ETA: 19s - loss: 14.8589 - acc: 0.078 - ETA: 16s - loss: 14.9988 - acc: 0.069 - ETA: 13s - loss: 14.9092 - acc: 0.075 - ETA: 10s - loss: 14.8360 - acc: 0.079 - ETA: 7s - loss: 14.7749 - acc: 0.083 - ETA: 5s - loss: 14.6458 - acc: 0.09 - ETA: 2s - loss: 14.6790 - acc: 0.08 - 38s 3s/step - loss: 14.6424 - acc: 0.0916\n",
      "Epoch 14/50\n",
      "15/15 [==============================] - ETA: 40s - loss: 15.6144 - acc: 0.031 - ETA: 35s - loss: 15.3626 - acc: 0.046 - ETA: 32s - loss: 15.4465 - acc: 0.041 - ETA: 29s - loss: 14.6070 - acc: 0.093 - ETA: 26s - loss: 14.5063 - acc: 0.100 - ETA: 23s - loss: 14.6070 - acc: 0.093 - ETA: 20s - loss: 14.6790 - acc: 0.089 - ETA: 18s - loss: 14.7329 - acc: 0.085 - ETA: 14s - loss: 14.6630 - acc: 0.090 - ETA: 12s - loss: 14.4559 - acc: 0.103 - ETA: 9s - loss: 14.4697 - acc: 0.102 - ETA: 7s - loss: 14.4811 - acc: 0.10 - ETA: 4s - loss: 14.5683 - acc: 0.09 - ETA: 2s - loss: 14.6070 - acc: 0.09 - 38s 3s/step - loss: 14.6424 - acc: 0.0916\n",
      "Epoch 15/50\n",
      "15/15 [==============================] - ETA: 43s - loss: 14.6070 - acc: 0.093 - ETA: 40s - loss: 13.8515 - acc: 0.140 - ETA: 36s - loss: 13.9354 - acc: 0.135 - ETA: 33s - loss: 14.4811 - acc: 0.101 - ETA: 29s - loss: 14.4055 - acc: 0.106 - ETA: 26s - loss: 14.6070 - acc: 0.093 - ETA: 23s - loss: 14.6790 - acc: 0.089 - ETA: 20s - loss: 14.7959 - acc: 0.082 - ETA: 17s - loss: 14.8309 - acc: 0.079 - ETA: 14s - loss: 14.8085 - acc: 0.081 - ETA: 11s - loss: 14.7902 - acc: 0.082 - ETA: 8s - loss: 14.7329 - acc: 0.085 - ETA: 5s - loss: 14.6845 - acc: 0.08 - ETA: 2s - loss: 14.6790 - acc: 0.08 - 43s 3s/step - loss: 14.6424 - acc: 0.0916\n",
      "Epoch 16/50\n",
      "15/15 [==============================] - ETA: 41s - loss: 14.6070 - acc: 0.093 - ETA: 38s - loss: 14.6070 - acc: 0.093 - ETA: 34s - loss: 14.2712 - acc: 0.114 - ETA: 31s - loss: 14.6070 - acc: 0.093 - ETA: 28s - loss: 14.6070 - acc: 0.093 - ETA: 25s - loss: 14.6070 - acc: 0.093 - ETA: 21s - loss: 14.6070 - acc: 0.093 - ETA: 18s - loss: 14.7329 - acc: 0.085 - ETA: 16s - loss: 14.7749 - acc: 0.083 - ETA: 13s - loss: 14.7581 - acc: 0.084 - ETA: 10s - loss: 14.8818 - acc: 0.076 - ETA: 7s - loss: 14.8589 - acc: 0.078 - ETA: 5s - loss: 14.8008 - acc: 0.08 - ETA: 2s - loss: 14.7150 - acc: 0.08 - 38s 3s/step - loss: 14.7368 - acc: 0.0857\n",
      "Epoch 17/50\n",
      "15/15 [==============================] - ETA: 36s - loss: 15.6144 - acc: 0.031 - ETA: 32s - loss: 15.3626 - acc: 0.046 - ETA: 29s - loss: 14.9428 - acc: 0.072 - ETA: 27s - loss: 14.9848 - acc: 0.070 - ETA: 25s - loss: 14.7078 - acc: 0.087 - ETA: 23s - loss: 14.8589 - acc: 0.078 - ETA: 20s - loss: 14.8229 - acc: 0.080 - ETA: 18s - loss: 14.7959 - acc: 0.082 - ETA: 15s - loss: 14.7749 - acc: 0.083 - ETA: 12s - loss: 14.7581 - acc: 0.084 - ETA: 10s - loss: 14.7902 - acc: 0.082 - ETA: 7s - loss: 14.7749 - acc: 0.083 - ETA: 4s - loss: 14.7233 - acc: 0.08 - ETA: 2s - loss: 14.6790 - acc: 0.08 - 39s 3s/step - loss: 14.6424 - acc: 0.0916\n",
      "Epoch 18/50\n",
      "15/15 [==============================] - ETA: 43s - loss: 15.1107 - acc: 0.062 - ETA: 38s - loss: 14.8589 - acc: 0.078 - ETA: 34s - loss: 14.2712 - acc: 0.114 - ETA: 32s - loss: 14.1033 - acc: 0.125 - ETA: 25s - loss: 14.5063 - acc: 0.100 - ETA: 23s - loss: 14.6070 - acc: 0.093 - ETA: 20s - loss: 14.3912 - acc: 0.107 - ETA: 18s - loss: 14.4811 - acc: 0.101 - ETA: 15s - loss: 14.5511 - acc: 0.097 - ETA: 12s - loss: 14.5567 - acc: 0.096 - ETA: 10s - loss: 14.6070 - acc: 0.093 - ETA: 7s - loss: 14.6070 - acc: 0.093 - ETA: 5s - loss: 14.6845 - acc: 0.08 - ETA: 2s - loss: 14.7150 - acc: 0.08 - 39s 3s/step - loss: 14.7368 - acc: 0.0857\n",
      "Epoch 19/50\n",
      "15/15 [==============================] - ETA: 40s - loss: 13.5996 - acc: 0.156 - ETA: 36s - loss: 13.8515 - acc: 0.140 - ETA: 32s - loss: 14.2712 - acc: 0.114 - ETA: 30s - loss: 14.4811 - acc: 0.101 - ETA: 27s - loss: 14.6070 - acc: 0.093 - ETA: 25s - loss: 14.6070 - acc: 0.093 - ETA: 22s - loss: 14.5351 - acc: 0.098 - ETA: 19s - loss: 14.5441 - acc: 0.097 - ETA: 16s - loss: 14.4391 - acc: 0.104 - ETA: 13s - loss: 14.5567 - acc: 0.096 - ETA: 10s - loss: 14.6070 - acc: 0.093 - ETA: 7s - loss: 14.6490 - acc: 0.091 - ETA: 5s - loss: 14.7620 - acc: 0.08 - ETA: 2s - loss: 14.7150 - acc: 0.08 - 38s 3s/step - loss: 14.6424 - acc: 0.0916\n",
      "Epoch 20/50\n",
      "15/15 [==============================] - ETA: 42s - loss: 15.1107 - acc: 0.062 - ETA: 36s - loss: 14.6070 - acc: 0.093 - ETA: 25s - loss: 14.4391 - acc: 0.104 - ETA: 24s - loss: 14.6070 - acc: 0.093 - ETA: 22s - loss: 14.7078 - acc: 0.087 - ETA: 20s - loss: 14.9428 - acc: 0.072 - ETA: 18s - loss: 14.8948 - acc: 0.075 - ETA: 16s - loss: 14.7959 - acc: 0.082 - ETA: 14s - loss: 14.7749 - acc: 0.083 - ETA: 11s - loss: 14.7581 - acc: 0.084 - ETA: 9s - loss: 14.7902 - acc: 0.082 - ETA: 7s - loss: 14.7329 - acc: 0.08 - ETA: 4s - loss: 14.7233 - acc: 0.08 - ETA: 2s - loss: 14.6430 - acc: 0.09 - 37s 2s/step - loss: 14.6424 - acc: 0.0916\n",
      "Epoch 21/50\n",
      "15/15 [==============================] - ETA: 40s - loss: 15.1107 - acc: 0.062 - ETA: 37s - loss: 15.3626 - acc: 0.046 - ETA: 33s - loss: 15.2786 - acc: 0.052 - ETA: 30s - loss: 15.1107 - acc: 0.062 - ETA: 27s - loss: 14.9092 - acc: 0.075 - ETA: 24s - loss: 14.7749 - acc: 0.083 - ETA: 22s - loss: 14.6070 - acc: 0.093 - ETA: 19s - loss: 14.6070 - acc: 0.093 - ETA: 16s - loss: 14.7749 - acc: 0.083 - ETA: 13s - loss: 14.7581 - acc: 0.084 - ETA: 11s - loss: 14.8360 - acc: 0.079 - ETA: 8s - loss: 14.5650 - acc: 0.096 - ETA: 5s - loss: 14.5683 - acc: 0.09 - ETA: 2s - loss: 14.6790 - acc: 0.08 - 40s 3s/step - loss: 14.7368 - acc: 0.0857\n",
      "Epoch 22/50\n",
      "15/15 [==============================] - ETA: 41s - loss: 15.1107 - acc: 0.062 - ETA: 38s - loss: 14.8589 - acc: 0.078 - ETA: 35s - loss: 14.6070 - acc: 0.093 - ETA: 31s - loss: 14.4811 - acc: 0.101 - ETA: 28s - loss: 14.6070 - acc: 0.093 - ETA: 25s - loss: 14.6910 - acc: 0.088 - ETA: 20s - loss: 14.3192 - acc: 0.111 - ETA: 18s - loss: 14.2922 - acc: 0.113 - ETA: 15s - loss: 14.3832 - acc: 0.107 - ETA: 13s - loss: 14.4559 - acc: 0.103 - ETA: 10s - loss: 14.4239 - acc: 0.105 - ETA: 8s - loss: 14.4811 - acc: 0.101 - ETA: 5s - loss: 14.5295 - acc: 0.09 - ETA: 2s - loss: 14.4271 - acc: 0.10 - 42s 3s/step - loss: 14.5479 - acc: 0.0974\n",
      "Epoch 23/50\n",
      "15/15 [==============================] - ETA: 42s - loss: 15.1107 - acc: 0.062 - ETA: 38s - loss: 15.1107 - acc: 0.062 - ETA: 35s - loss: 15.1107 - acc: 0.062 - ETA: 31s - loss: 14.4811 - acc: 0.101 - ETA: 28s - loss: 14.4055 - acc: 0.106 - ETA: 25s - loss: 14.5231 - acc: 0.099 - ETA: 22s - loss: 14.3192 - acc: 0.111 - ETA: 20s - loss: 14.2922 - acc: 0.113 - ETA: 17s - loss: 14.3272 - acc: 0.111 - ETA: 14s - loss: 14.3048 - acc: 0.112 - ETA: 11s - loss: 14.4239 - acc: 0.105 - ETA: 8s - loss: 14.5650 - acc: 0.096 - ETA: 5s - loss: 14.6458 - acc: 0.09 - ETA: 2s - loss: 14.6430 - acc: 0.09 - 41s 3s/step - loss: 14.7368 - acc: 0.0857\n",
      "Epoch 24/50\n",
      "15/15 [==============================] - ETA: 41s - loss: 15.6144 - acc: 0.031 - ETA: 38s - loss: 15.3626 - acc: 0.046 - ETA: 35s - loss: 14.9428 - acc: 0.072 - ETA: 32s - loss: 14.6070 - acc: 0.093 - ETA: 29s - loss: 14.4055 - acc: 0.106 - ETA: 26s - loss: 14.5231 - acc: 0.099 - ETA: 23s - loss: 14.4631 - acc: 0.102 - ETA: 20s - loss: 14.5441 - acc: 0.097 - ETA: 17s - loss: 14.4391 - acc: 0.104 - ETA: 14s - loss: 14.5567 - acc: 0.096 - ETA: 11s - loss: 14.6070 - acc: 0.093 - ETA: 8s - loss: 14.6910 - acc: 0.088 - ETA: 5s - loss: 14.7233 - acc: 0.08 - ETA: 2s - loss: 14.6790 - acc: 0.08 - 41s 3s/step - loss: 14.6424 - acc: 0.0916\n",
      "Epoch 25/50\n"
     ]
    },
    {
     "name": "stdout",
     "output_type": "stream",
     "text": [
      "15/15 [==============================] - ETA: 42s - loss: 14.6070 - acc: 0.093 - ETA: 38s - loss: 15.1107 - acc: 0.062 - ETA: 35s - loss: 14.9428 - acc: 0.072 - ETA: 32s - loss: 14.8589 - acc: 0.078 - ETA: 29s - loss: 14.5063 - acc: 0.100 - ETA: 26s - loss: 14.7749 - acc: 0.083 - ETA: 21s - loss: 14.9668 - acc: 0.071 - ETA: 18s - loss: 14.9848 - acc: 0.070 - ETA: 15s - loss: 14.8309 - acc: 0.079 - ETA: 13s - loss: 14.9596 - acc: 0.071 - ETA: 10s - loss: 14.9276 - acc: 0.073 - ETA: 7s - loss: 14.9428 - acc: 0.072 - ETA: 5s - loss: 14.9170 - acc: 0.07 - ETA: 2s - loss: 14.8229 - acc: 0.08 - 40s 3s/step - loss: 14.7368 - acc: 0.0857\n",
      "Epoch 26/50\n",
      "15/15 [==============================] - ETA: 39s - loss: 14.6070 - acc: 0.093 - ETA: 35s - loss: 15.3626 - acc: 0.046 - ETA: 31s - loss: 15.4465 - acc: 0.041 - ETA: 28s - loss: 15.1107 - acc: 0.062 - ETA: 26s - loss: 15.1107 - acc: 0.062 - ETA: 23s - loss: 15.0268 - acc: 0.067 - ETA: 21s - loss: 14.9668 - acc: 0.071 - ETA: 16s - loss: 14.6070 - acc: 0.093 - ETA: 14s - loss: 14.4951 - acc: 0.100 - ETA: 12s - loss: 14.5567 - acc: 0.096 - ETA: 9s - loss: 14.4697 - acc: 0.102 - ETA: 7s - loss: 14.5231 - acc: 0.09 - ETA: 4s - loss: 14.5683 - acc: 0.09 - ETA: 2s - loss: 14.5351 - acc: 0.09 - 38s 3s/step - loss: 14.5479 - acc: 0.0974\n",
      "Epoch 27/50\n",
      "15/15 [==============================] - ETA: 41s - loss: 15.1107 - acc: 0.062 - ETA: 38s - loss: 14.8589 - acc: 0.078 - ETA: 35s - loss: 15.2786 - acc: 0.052 - ETA: 32s - loss: 14.9848 - acc: 0.070 - ETA: 29s - loss: 15.1107 - acc: 0.062 - ETA: 23s - loss: 15.2786 - acc: 0.052 - ETA: 21s - loss: 15.2546 - acc: 0.053 - ETA: 18s - loss: 15.1107 - acc: 0.062 - ETA: 15s - loss: 15.0547 - acc: 0.066 - ETA: 13s - loss: 14.8589 - acc: 0.078 - ETA: 10s - loss: 14.7902 - acc: 0.082 - ETA: 8s - loss: 14.7749 - acc: 0.083 - ETA: 5s - loss: 14.8008 - acc: 0.08 - ETA: 2s - loss: 14.7509 - acc: 0.08 - 41s 3s/step - loss: 14.7368 - acc: 0.0857\n",
      "Epoch 28/50\n",
      "15/15 [==============================] - ETA: 15s - loss: 10.0738 - acc: 0.375 - ETA: 26s - loss: 12.5923 - acc: 0.218 - ETA: 28s - loss: 13.2638 - acc: 0.177 - ETA: 27s - loss: 13.4737 - acc: 0.164 - ETA: 25s - loss: 13.7004 - acc: 0.150 - ETA: 23s - loss: 13.7675 - acc: 0.145 - ETA: 20s - loss: 14.1033 - acc: 0.125 - ETA: 18s - loss: 13.9774 - acc: 0.132 - ETA: 15s - loss: 13.9914 - acc: 0.131 - ETA: 12s - loss: 14.2041 - acc: 0.118 - ETA: 10s - loss: 14.2407 - acc: 0.116 - ETA: 7s - loss: 14.3552 - acc: 0.109 - ETA: 5s - loss: 14.3746 - acc: 0.10 - ETA: 2s - loss: 14.4631 - acc: 0.10 - 38s 3s/step - loss: 14.4535 - acc: 0.1033\n",
      "Epoch 29/50\n",
      "15/15 [==============================] - ETA: 37s - loss: 14.1033 - acc: 0.125 - ETA: 34s - loss: 13.8515 - acc: 0.140 - ETA: 31s - loss: 14.2712 - acc: 0.114 - ETA: 28s - loss: 14.4811 - acc: 0.101 - ETA: 25s - loss: 14.5063 - acc: 0.100 - ETA: 23s - loss: 14.6070 - acc: 0.093 - ETA: 20s - loss: 14.7509 - acc: 0.084 - ETA: 17s - loss: 14.7329 - acc: 0.085 - ETA: 15s - loss: 14.7190 - acc: 0.086 - ETA: 12s - loss: 14.7581 - acc: 0.084 - ETA: 10s - loss: 14.7902 - acc: 0.082 - ETA: 7s - loss: 14.7329 - acc: 0.085 - ETA: 5s - loss: 14.7620 - acc: 0.08 - ETA: 2s - loss: 14.6790 - acc: 0.08 - 37s 2s/step - loss: 14.6424 - acc: 0.0916\n",
      "Epoch 30/50\n",
      "15/15 [==============================] - ETA: 42s - loss: 14.6070 - acc: 0.093 - ETA: 39s - loss: 14.8589 - acc: 0.078 - ETA: 35s - loss: 14.9428 - acc: 0.072 - ETA: 33s - loss: 14.9848 - acc: 0.070 - ETA: 30s - loss: 14.8085 - acc: 0.081 - ETA: 27s - loss: 14.8589 - acc: 0.078 - ETA: 23s - loss: 14.8229 - acc: 0.080 - ETA: 19s - loss: 14.9848 - acc: 0.070 - ETA: 16s - loss: 14.9988 - acc: 0.069 - ETA: 13s - loss: 15.0100 - acc: 0.068 - ETA: 11s - loss: 14.9733 - acc: 0.071 - ETA: 8s - loss: 14.8589 - acc: 0.078 - ETA: 5s - loss: 14.7620 - acc: 0.08 - ETA: 2s - loss: 14.7869 - acc: 0.08 - 42s 3s/step - loss: 14.7368 - acc: 0.0857\n",
      "Epoch 31/50\n",
      "15/15 [==============================] - ETA: 41s - loss: 15.1107 - acc: 0.062 - ETA: 38s - loss: 15.1107 - acc: 0.062 - ETA: 35s - loss: 14.9428 - acc: 0.072 - ETA: 32s - loss: 14.7329 - acc: 0.085 - ETA: 29s - loss: 14.7078 - acc: 0.087 - ETA: 26s - loss: 14.6910 - acc: 0.088 - ETA: 23s - loss: 14.4631 - acc: 0.102 - ETA: 20s - loss: 14.5441 - acc: 0.097 - ETA: 17s - loss: 14.5511 - acc: 0.097 - ETA: 14s - loss: 14.7078 - acc: 0.087 - ETA: 11s - loss: 14.7444 - acc: 0.085 - ETA: 8s - loss: 14.7329 - acc: 0.085 - ETA: 5s - loss: 14.6458 - acc: 0.09 - ETA: 2s - loss: 14.7509 - acc: 0.08 - 39s 3s/step - loss: 14.7368 - acc: 0.0857\n",
      "Epoch 32/50\n",
      "15/15 [==============================] - ETA: 37s - loss: 13.5996 - acc: 0.156 - ETA: 34s - loss: 14.1033 - acc: 0.125 - ETA: 31s - loss: 13.9354 - acc: 0.135 - ETA: 28s - loss: 14.2293 - acc: 0.117 - ETA: 25s - loss: 14.4055 - acc: 0.106 - ETA: 22s - loss: 14.5231 - acc: 0.099 - ETA: 20s - loss: 14.6070 - acc: 0.093 - ETA: 18s - loss: 14.7959 - acc: 0.082 - ETA: 15s - loss: 14.7190 - acc: 0.086 - ETA: 12s - loss: 14.6574 - acc: 0.090 - ETA: 10s - loss: 14.6528 - acc: 0.090 - ETA: 7s - loss: 14.6490 - acc: 0.091 - ETA: 5s - loss: 14.5683 - acc: 0.09 - ETA: 2s - loss: 14.6790 - acc: 0.08 - 37s 2s/step - loss: 14.6424 - acc: 0.0916\n",
      "Epoch 33/50\n",
      "15/15 [==============================] - ETA: 40s - loss: 14.1033 - acc: 0.125 - ETA: 38s - loss: 14.3552 - acc: 0.109 - ETA: 35s - loss: 14.2712 - acc: 0.114 - ETA: 32s - loss: 14.4811 - acc: 0.101 - ETA: 25s - loss: 14.8085 - acc: 0.081 - ETA: 23s - loss: 14.7749 - acc: 0.083 - ETA: 21s - loss: 14.8229 - acc: 0.080 - ETA: 19s - loss: 14.7959 - acc: 0.082 - ETA: 16s - loss: 14.6070 - acc: 0.093 - ETA: 13s - loss: 14.5567 - acc: 0.096 - ETA: 11s - loss: 14.6070 - acc: 0.093 - ETA: 8s - loss: 14.6490 - acc: 0.091 - ETA: 5s - loss: 14.7233 - acc: 0.08 - ETA: 2s - loss: 14.7509 - acc: 0.08 - 42s 3s/step - loss: 14.7368 - acc: 0.0857\n",
      "Epoch 34/50\n",
      "15/15 [==============================] - ETA: 42s - loss: 14.6070 - acc: 0.093 - ETA: 38s - loss: 15.1107 - acc: 0.062 - ETA: 35s - loss: 14.4391 - acc: 0.104 - ETA: 31s - loss: 14.6070 - acc: 0.093 - ETA: 28s - loss: 14.4055 - acc: 0.106 - ETA: 23s - loss: 14.6910 - acc: 0.088 - ETA: 20s - loss: 14.7509 - acc: 0.084 - ETA: 18s - loss: 14.6700 - acc: 0.089 - ETA: 15s - loss: 14.6070 - acc: 0.093 - ETA: 13s - loss: 14.4055 - acc: 0.106 - ETA: 10s - loss: 14.4239 - acc: 0.105 - ETA: 7s - loss: 14.5231 - acc: 0.099 - ETA: 5s - loss: 14.6458 - acc: 0.09 - ETA: 2s - loss: 14.6790 - acc: 0.08 - 40s 3s/step - loss: 14.7368 - acc: 0.0857\n",
      "Epoch 35/50\n",
      "15/15 [==============================] - ETA: 14s - loss: 14.1033 - acc: 0.125 - ETA: 23s - loss: 15.1107 - acc: 0.062 - ETA: 25s - loss: 14.9428 - acc: 0.072 - ETA: 24s - loss: 14.9848 - acc: 0.070 - ETA: 22s - loss: 14.9092 - acc: 0.075 - ETA: 20s - loss: 14.9428 - acc: 0.072 - ETA: 18s - loss: 14.8948 - acc: 0.075 - ETA: 16s - loss: 14.7329 - acc: 0.085 - ETA: 14s - loss: 14.7749 - acc: 0.083 - ETA: 12s - loss: 14.7078 - acc: 0.087 - ETA: 9s - loss: 14.6986 - acc: 0.088 - ETA: 7s - loss: 14.7749 - acc: 0.08 - ETA: 4s - loss: 14.5683 - acc: 0.09 - ETA: 2s - loss: 14.6070 - acc: 0.09 - 38s 3s/step - loss: 14.6424 - acc: 0.0916\n",
      "Epoch 36/50\n",
      "15/15 [==============================] - ETA: 40s - loss: 14.1033 - acc: 0.125 - ETA: 37s - loss: 14.8589 - acc: 0.078 - ETA: 35s - loss: 14.6070 - acc: 0.093 - ETA: 31s - loss: 14.4811 - acc: 0.101 - ETA: 28s - loss: 14.6070 - acc: 0.093 - ETA: 26s - loss: 14.2712 - acc: 0.114 - ETA: 23s - loss: 14.3912 - acc: 0.107 - ETA: 20s - loss: 14.4181 - acc: 0.105 - ETA: 17s - loss: 14.6070 - acc: 0.093 - ETA: 14s - loss: 14.7581 - acc: 0.084 - ETA: 11s - loss: 14.7444 - acc: 0.085 - ETA: 8s - loss: 14.6910 - acc: 0.088 - ETA: 5s - loss: 14.7620 - acc: 0.08 - ETA: 2s - loss: 14.7150 - acc: 0.08 - 42s 3s/step - loss: 14.6424 - acc: 0.0916\n",
      "Epoch 37/50\n"
     ]
    },
    {
     "name": "stdout",
     "output_type": "stream",
     "text": [
      "15/15 [==============================] - ETA: 41s - loss: 14.6070 - acc: 0.093 - ETA: 37s - loss: 14.8589 - acc: 0.078 - ETA: 35s - loss: 14.6070 - acc: 0.093 - ETA: 32s - loss: 14.7329 - acc: 0.085 - ETA: 28s - loss: 14.8085 - acc: 0.081 - ETA: 25s - loss: 14.6070 - acc: 0.093 - ETA: 22s - loss: 14.6790 - acc: 0.089 - ETA: 20s - loss: 14.7329 - acc: 0.085 - ETA: 17s - loss: 14.8309 - acc: 0.079 - ETA: 14s - loss: 14.8085 - acc: 0.081 - ETA: 11s - loss: 14.6986 - acc: 0.088 - ETA: 8s - loss: 14.7749 - acc: 0.083 - ETA: 5s - loss: 14.7233 - acc: 0.08 - ETA: 2s - loss: 14.6790 - acc: 0.08 - 42s 3s/step - loss: 14.6424 - acc: 0.0916\n",
      "Epoch 38/50\n",
      "15/15 [==============================] - ETA: 43s - loss: 15.6144 - acc: 0.031 - ETA: 39s - loss: 14.8589 - acc: 0.078 - ETA: 35s - loss: 14.7749 - acc: 0.083 - ETA: 32s - loss: 14.8589 - acc: 0.078 - ETA: 28s - loss: 14.9092 - acc: 0.075 - ETA: 25s - loss: 14.6910 - acc: 0.088 - ETA: 22s - loss: 14.7509 - acc: 0.084 - ETA: 20s - loss: 14.8589 - acc: 0.078 - ETA: 17s - loss: 14.7190 - acc: 0.086 - ETA: 14s - loss: 14.5063 - acc: 0.100 - ETA: 11s - loss: 14.5154 - acc: 0.099 - ETA: 8s - loss: 14.5650 - acc: 0.096 - ETA: 5s - loss: 14.6845 - acc: 0.08 - ETA: 2s - loss: 14.7150 - acc: 0.08 - 41s 3s/step - loss: 14.7368 - acc: 0.0857\n",
      "Epoch 39/50\n",
      "15/15 [==============================] - ETA: 41s - loss: 15.1107 - acc: 0.062 - ETA: 38s - loss: 14.6070 - acc: 0.093 - ETA: 27s - loss: 13.7675 - acc: 0.145 - ETA: 27s - loss: 14.2293 - acc: 0.117 - ETA: 25s - loss: 14.3048 - acc: 0.112 - ETA: 23s - loss: 14.3552 - acc: 0.109 - ETA: 20s - loss: 14.4631 - acc: 0.102 - ETA: 18s - loss: 14.3552 - acc: 0.109 - ETA: 15s - loss: 14.3832 - acc: 0.107 - ETA: 13s - loss: 14.3552 - acc: 0.109 - ETA: 10s - loss: 14.3323 - acc: 0.110 - ETA: 8s - loss: 14.3552 - acc: 0.109 - ETA: 5s - loss: 14.4520 - acc: 0.10 - ETA: 2s - loss: 14.5351 - acc: 0.09 - 41s 3s/step - loss: 14.5479 - acc: 0.0974\n",
      "Epoch 40/50\n",
      "15/15 [==============================] - ETA: 42s - loss: 14.6070 - acc: 0.093 - ETA: 38s - loss: 15.3626 - acc: 0.046 - ETA: 35s - loss: 15.4465 - acc: 0.041 - ETA: 32s - loss: 14.9848 - acc: 0.070 - ETA: 28s - loss: 15.0100 - acc: 0.068 - ETA: 25s - loss: 15.0268 - acc: 0.067 - ETA: 22s - loss: 14.8229 - acc: 0.080 - ETA: 20s - loss: 14.6700 - acc: 0.089 - ETA: 17s - loss: 14.7190 - acc: 0.086 - ETA: 14s - loss: 14.7078 - acc: 0.087 - ETA: 11s - loss: 14.7444 - acc: 0.085 - ETA: 7s - loss: 14.8589 - acc: 0.078 - ETA: 5s - loss: 14.9170 - acc: 0.07 - ETA: 2s - loss: 14.7869 - acc: 0.08 - 40s 3s/step - loss: 14.7368 - acc: 0.0857\n",
      "Epoch 41/50\n",
      "15/15 [==============================] - ETA: 38s - loss: 12.5923 - acc: 0.218 - ETA: 35s - loss: 13.5996 - acc: 0.156 - ETA: 32s - loss: 13.7675 - acc: 0.145 - ETA: 29s - loss: 14.1033 - acc: 0.125 - ETA: 26s - loss: 14.4055 - acc: 0.106 - ETA: 23s - loss: 14.4391 - acc: 0.104 - ETA: 19s - loss: 14.6790 - acc: 0.089 - ETA: 17s - loss: 14.7329 - acc: 0.085 - ETA: 14s - loss: 14.7190 - acc: 0.086 - ETA: 12s - loss: 14.6574 - acc: 0.090 - ETA: 9s - loss: 14.7444 - acc: 0.085 - ETA: 7s - loss: 14.6910 - acc: 0.08 - ETA: 4s - loss: 14.6845 - acc: 0.08 - ETA: 2s - loss: 14.6430 - acc: 0.09 - 38s 3s/step - loss: 14.7368 - acc: 0.0857\n",
      "Epoch 42/50\n",
      "15/15 [==============================] - ETA: 14s - loss: 14.1033 - acc: 0.125 - ETA: 26s - loss: 14.8589 - acc: 0.078 - ETA: 28s - loss: 14.7749 - acc: 0.083 - ETA: 27s - loss: 14.4811 - acc: 0.101 - ETA: 25s - loss: 14.4055 - acc: 0.106 - ETA: 23s - loss: 14.1873 - acc: 0.119 - ETA: 20s - loss: 14.3912 - acc: 0.107 - ETA: 18s - loss: 14.4811 - acc: 0.101 - ETA: 15s - loss: 14.5511 - acc: 0.097 - ETA: 13s - loss: 14.6574 - acc: 0.090 - ETA: 10s - loss: 14.6986 - acc: 0.088 - ETA: 8s - loss: 14.8169 - acc: 0.080 - ETA: 5s - loss: 14.7620 - acc: 0.08 - ETA: 2s - loss: 14.7869 - acc: 0.08 - 41s 3s/step - loss: 14.6424 - acc: 0.0916\n",
      "Epoch 43/50\n",
      "15/15 [==============================] - ETA: 40s - loss: 15.1107 - acc: 0.062 - ETA: 38s - loss: 14.8589 - acc: 0.078 - ETA: 35s - loss: 14.7749 - acc: 0.083 - ETA: 31s - loss: 14.8589 - acc: 0.078 - ETA: 28s - loss: 14.7078 - acc: 0.087 - ETA: 25s - loss: 14.7749 - acc: 0.083 - ETA: 22s - loss: 14.8948 - acc: 0.075 - ETA: 18s - loss: 15.0478 - acc: 0.066 - ETA: 15s - loss: 14.9428 - acc: 0.072 - ETA: 13s - loss: 14.9092 - acc: 0.075 - ETA: 10s - loss: 14.8360 - acc: 0.079 - ETA: 7s - loss: 14.8589 - acc: 0.078 - ETA: 5s - loss: 14.8782 - acc: 0.07 - ETA: 2s - loss: 14.7509 - acc: 0.08 - 39s 3s/step - loss: 14.7368 - acc: 0.0857\n",
      "Epoch 44/50\n",
      "15/15 [==============================] - ETA: 38s - loss: 14.1033 - acc: 0.125 - ETA: 24s - loss: 15.1107 - acc: 0.062 - ETA: 25s - loss: 14.7749 - acc: 0.083 - ETA: 24s - loss: 14.8589 - acc: 0.078 - ETA: 23s - loss: 14.7078 - acc: 0.087 - ETA: 21s - loss: 14.6910 - acc: 0.088 - ETA: 19s - loss: 14.8948 - acc: 0.075 - ETA: 17s - loss: 14.8589 - acc: 0.078 - ETA: 14s - loss: 14.7190 - acc: 0.086 - ETA: 12s - loss: 14.7078 - acc: 0.087 - ETA: 9s - loss: 14.6528 - acc: 0.090 - ETA: 7s - loss: 14.7329 - acc: 0.08 - ETA: 5s - loss: 14.7233 - acc: 0.08 - ETA: 2s - loss: 14.6790 - acc: 0.08 - 39s 3s/step - loss: 14.7368 - acc: 0.0857\n",
      "Epoch 45/50\n",
      "15/15 [==============================] - ETA: 43s - loss: 14.1033 - acc: 0.125 - ETA: 39s - loss: 13.3478 - acc: 0.171 - ETA: 35s - loss: 13.9354 - acc: 0.135 - ETA: 33s - loss: 13.9774 - acc: 0.132 - ETA: 30s - loss: 14.2041 - acc: 0.118 - ETA: 26s - loss: 14.5231 - acc: 0.099 - ETA: 23s - loss: 14.5351 - acc: 0.098 - ETA: 20s - loss: 14.4811 - acc: 0.101 - ETA: 17s - loss: 14.5511 - acc: 0.097 - ETA: 14s - loss: 14.6070 - acc: 0.093 - ETA: 11s - loss: 14.6070 - acc: 0.093 - ETA: 8s - loss: 14.7329 - acc: 0.085 - ETA: 5s - loss: 14.7233 - acc: 0.08 - ETA: 2s - loss: 14.7509 - acc: 0.08 - 42s 3s/step - loss: 14.7368 - acc: 0.0857\n",
      "Epoch 46/50\n",
      "15/15 [==============================] - ETA: 40s - loss: 13.5996 - acc: 0.156 - ETA: 37s - loss: 13.8515 - acc: 0.140 - ETA: 34s - loss: 14.2712 - acc: 0.114 - ETA: 31s - loss: 14.4811 - acc: 0.101 - ETA: 28s - loss: 14.6070 - acc: 0.093 - ETA: 25s - loss: 14.7749 - acc: 0.083 - ETA: 23s - loss: 14.8229 - acc: 0.080 - ETA: 20s - loss: 14.9848 - acc: 0.070 - ETA: 17s - loss: 14.9428 - acc: 0.072 - ETA: 14s - loss: 14.8085 - acc: 0.081 - ETA: 11s - loss: 14.9276 - acc: 0.073 - ETA: 8s - loss: 14.7749 - acc: 0.083 - ETA: 5s - loss: 14.7233 - acc: 0.08 - ETA: 2s - loss: 14.7869 - acc: 0.08 - 41s 3s/step - loss: 14.6424 - acc: 0.0916\n",
      "Epoch 47/50\n",
      "15/15 [==============================] - ETA: 41s - loss: 14.1033 - acc: 0.125 - ETA: 37s - loss: 14.3552 - acc: 0.109 - ETA: 34s - loss: 14.7749 - acc: 0.083 - ETA: 31s - loss: 14.9848 - acc: 0.070 - ETA: 28s - loss: 14.9092 - acc: 0.075 - ETA: 25s - loss: 14.9428 - acc: 0.072 - ETA: 22s - loss: 14.8229 - acc: 0.080 - ETA: 19s - loss: 14.6700 - acc: 0.089 - ETA: 17s - loss: 14.7190 - acc: 0.086 - ETA: 14s - loss: 14.5567 - acc: 0.096 - ETA: 10s - loss: 14.6986 - acc: 0.088 - ETA: 8s - loss: 14.7329 - acc: 0.085 - ETA: 5s - loss: 14.7620 - acc: 0.08 - ETA: 2s - loss: 14.7509 - acc: 0.08 - 41s 3s/step - loss: 14.7368 - acc: 0.0857\n",
      "Epoch 48/50\n",
      "15/15 [==============================] - ETA: 42s - loss: 14.6070 - acc: 0.093 - ETA: 38s - loss: 14.8589 - acc: 0.078 - ETA: 35s - loss: 14.2712 - acc: 0.114 - ETA: 32s - loss: 14.6070 - acc: 0.093 - ETA: 29s - loss: 14.8085 - acc: 0.081 - ETA: 26s - loss: 14.8589 - acc: 0.078 - ETA: 23s - loss: 14.6790 - acc: 0.089 - ETA: 20s - loss: 14.6070 - acc: 0.093 - ETA: 17s - loss: 14.6630 - acc: 0.090 - ETA: 14s - loss: 14.7078 - acc: 0.087 - ETA: 11s - loss: 14.6528 - acc: 0.090 - ETA: 8s - loss: 14.6070 - acc: 0.093 - ETA: 5s - loss: 14.6070 - acc: 0.09 - ETA: 2s - loss: 14.6430 - acc: 0.09 - 42s 3s/step - loss: 14.6424 - acc: 0.0916\n",
      "Epoch 49/50\n"
     ]
    },
    {
     "name": "stdout",
     "output_type": "stream",
     "text": [
      "15/15 [==============================] - ETA: 42s - loss: 13.5996 - acc: 0.156 - ETA: 39s - loss: 14.6070 - acc: 0.093 - ETA: 28s - loss: 14.4391 - acc: 0.104 - ETA: 27s - loss: 14.6070 - acc: 0.093 - ETA: 25s - loss: 14.5063 - acc: 0.100 - ETA: 23s - loss: 14.6070 - acc: 0.093 - ETA: 21s - loss: 14.4631 - acc: 0.102 - ETA: 18s - loss: 14.5441 - acc: 0.097 - ETA: 16s - loss: 14.6630 - acc: 0.090 - ETA: 13s - loss: 14.7078 - acc: 0.087 - ETA: 10s - loss: 14.6528 - acc: 0.090 - ETA: 8s - loss: 14.6490 - acc: 0.091 - ETA: 5s - loss: 14.6458 - acc: 0.09 - ETA: 2s - loss: 14.6070 - acc: 0.09 - 40s 3s/step - loss: 14.6424 - acc: 0.0916\n",
      "Epoch 50/50\n",
      "15/15 [==============================] - ETA: 38s - loss: 12.5923 - acc: 0.218 - ETA: 34s - loss: 14.1033 - acc: 0.125 - ETA: 25s - loss: 14.7749 - acc: 0.083 - ETA: 24s - loss: 14.8589 - acc: 0.078 - ETA: 22s - loss: 14.7078 - acc: 0.087 - ETA: 20s - loss: 14.7749 - acc: 0.083 - ETA: 18s - loss: 14.6070 - acc: 0.093 - ETA: 16s - loss: 14.6070 - acc: 0.093 - ETA: 14s - loss: 14.6630 - acc: 0.090 - ETA: 12s - loss: 14.6574 - acc: 0.090 - ETA: 9s - loss: 14.6070 - acc: 0.093 - ETA: 7s - loss: 14.6910 - acc: 0.08 - ETA: 4s - loss: 14.8008 - acc: 0.08 - ETA: 2s - loss: 14.7869 - acc: 0.08 - 38s 3s/step - loss: 14.7368 - acc: 0.0857\n"
     ]
    },
    {
     "data": {
      "text/plain": [
       "<keras.callbacks.History at 0x1f94e0a9a20>"
      ]
     },
     "execution_count": 11,
     "metadata": {},
     "output_type": "execute_result"
    }
   ],
   "source": [
    "model.fit_generator(train_generator,\n",
    "                    epochs = 50)"
   ]
  },
  {
   "cell_type": "code",
   "execution_count": 13,
   "metadata": {},
   "outputs": [
    {
     "name": "stdout",
     "output_type": "stream",
     "text": [
      "Epoch 1/10\n",
      "15/15 [==============================] - ETA: 39s - loss: 14.1033 - acc: 0.125 - ETA: 36s - loss: 14.6070 - acc: 0.093 - ETA: 32s - loss: 14.9428 - acc: 0.072 - ETA: 29s - loss: 14.4811 - acc: 0.101 - ETA: 26s - loss: 14.4055 - acc: 0.106 - ETA: 23s - loss: 14.3552 - acc: 0.109 - ETA: 20s - loss: 14.5351 - acc: 0.098 - ETA: 18s - loss: 14.6070 - acc: 0.093 - ETA: 15s - loss: 14.6070 - acc: 0.093 - ETA: 13s - loss: 14.6070 - acc: 0.093 - ETA: 10s - loss: 14.5612 - acc: 0.096 - ETA: 7s - loss: 14.5650 - acc: 0.096 - ETA: 5s - loss: 14.5295 - acc: 0.09 - ETA: 2s - loss: 14.6070 - acc: 0.09 - 39s 3s/step - loss: 14.6424 - acc: 0.0916\n",
      "Epoch 2/10\n",
      "15/15 [==============================] - ETA: 45s - loss: 16.1181 - acc: 0.0000e+0 - ETA: 39s - loss: 15.8663 - acc: 0.0156    - ETA: 35s - loss: 15.4465 - acc: 0.041 - ETA: 31s - loss: 14.9848 - acc: 0.070 - ETA: 27s - loss: 15.1107 - acc: 0.062 - ETA: 22s - loss: 15.2786 - acc: 0.052 - ETA: 20s - loss: 15.1107 - acc: 0.062 - ETA: 17s - loss: 15.1107 - acc: 0.062 - ETA: 15s - loss: 15.0547 - acc: 0.066 - ETA: 12s - loss: 14.9092 - acc: 0.075 - ETA: 10s - loss: 14.8818 - acc: 0.076 - ETA: 7s - loss: 14.7749 - acc: 0.083 - ETA: 5s - loss: 14.8008 - acc: 0.08 - ETA: 2s - loss: 14.6790 - acc: 0.08 - 38s 3s/step - loss: 14.7368 - acc: 0.0857\n",
      "Epoch 3/10\n",
      "15/15 [==============================] - ETA: 36s - loss: 15.1107 - acc: 0.062 - ETA: 33s - loss: 14.8589 - acc: 0.078 - ETA: 30s - loss: 15.1107 - acc: 0.062 - ETA: 27s - loss: 15.1107 - acc: 0.062 - ETA: 24s - loss: 15.0100 - acc: 0.068 - ETA: 22s - loss: 14.9428 - acc: 0.072 - ETA: 18s - loss: 14.8229 - acc: 0.080 - ETA: 16s - loss: 14.8589 - acc: 0.078 - ETA: 14s - loss: 14.8309 - acc: 0.079 - ETA: 12s - loss: 14.7581 - acc: 0.084 - ETA: 10s - loss: 14.7902 - acc: 0.082 - ETA: 7s - loss: 14.7329 - acc: 0.085 - ETA: 5s - loss: 14.6070 - acc: 0.09 - ETA: 2s - loss: 14.6070 - acc: 0.09 - 40s 3s/step - loss: 14.6424 - acc: 0.0916\n",
      "Epoch 4/10\n",
      "15/15 [==============================] - ETA: 48s - loss: 15.6144 - acc: 0.031 - ETA: 42s - loss: 15.8663 - acc: 0.015 - ETA: 37s - loss: 15.2786 - acc: 0.052 - ETA: 34s - loss: 14.9848 - acc: 0.070 - ETA: 27s - loss: 14.4055 - acc: 0.106 - ETA: 24s - loss: 14.4391 - acc: 0.104 - ETA: 21s - loss: 14.3912 - acc: 0.107 - ETA: 19s - loss: 14.5441 - acc: 0.097 - ETA: 16s - loss: 14.6630 - acc: 0.090 - ETA: 14s - loss: 14.5567 - acc: 0.096 - ETA: 12s - loss: 14.4697 - acc: 0.102 - ETA: 9s - loss: 14.5650 - acc: 0.096 - ETA: 6s - loss: 14.6070 - acc: 0.09 - ETA: 3s - loss: 14.5710 - acc: 0.09 - 53s 4s/step - loss: 14.5479 - acc: 0.0974\n",
      "Epoch 5/10\n",
      "15/15 [==============================] - ETA: 59s - loss: 14.1033 - acc: 0.125 - ETA: 50s - loss: 14.3552 - acc: 0.109 - ETA: 43s - loss: 14.1033 - acc: 0.125 - ETA: 38s - loss: 14.4811 - acc: 0.101 - ETA: 33s - loss: 14.6070 - acc: 0.093 - ETA: 29s - loss: 14.6070 - acc: 0.093 - ETA: 26s - loss: 14.5351 - acc: 0.098 - ETA: 23s - loss: 14.6070 - acc: 0.093 - ETA: 19s - loss: 14.7190 - acc: 0.086 - ETA: 15s - loss: 14.8589 - acc: 0.078 - ETA: 12s - loss: 14.8818 - acc: 0.076 - ETA: 9s - loss: 14.7329 - acc: 0.085 - ETA: 6s - loss: 14.7620 - acc: 0.08 - ETA: 3s - loss: 14.7150 - acc: 0.08 - 46s 3s/step - loss: 14.7368 - acc: 0.0857\n",
      "Epoch 6/10\n",
      "15/15 [==============================] - ETA: 48s - loss: 15.6144 - acc: 0.031 - ETA: 39s - loss: 15.3626 - acc: 0.046 - ETA: 35s - loss: 15.1107 - acc: 0.062 - ETA: 31s - loss: 14.9848 - acc: 0.070 - ETA: 28s - loss: 15.2115 - acc: 0.056 - ETA: 26s - loss: 15.1947 - acc: 0.057 - ETA: 23s - loss: 15.1827 - acc: 0.058 - ETA: 20s - loss: 15.0478 - acc: 0.066 - ETA: 17s - loss: 15.0547 - acc: 0.066 - ETA: 14s - loss: 14.8085 - acc: 0.081 - ETA: 11s - loss: 14.7444 - acc: 0.085 - ETA: 8s - loss: 14.7749 - acc: 0.083 - ETA: 5s - loss: 14.6845 - acc: 0.08 - ETA: 2s - loss: 14.7869 - acc: 0.08 - 43s 3s/step - loss: 14.7368 - acc: 0.0857\n",
      "Epoch 7/10\n",
      "15/15 [==============================] - ETA: 51s - loss: 15.1107 - acc: 0.062 - ETA: 45s - loss: 14.1033 - acc: 0.125 - ETA: 40s - loss: 14.6070 - acc: 0.093 - ETA: 35s - loss: 14.8589 - acc: 0.078 - ETA: 31s - loss: 14.9092 - acc: 0.075 - ETA: 27s - loss: 14.9428 - acc: 0.072 - ETA: 24s - loss: 14.8229 - acc: 0.080 - ETA: 21s - loss: 14.9218 - acc: 0.074 - ETA: 18s - loss: 14.8309 - acc: 0.079 - ETA: 15s - loss: 14.7581 - acc: 0.084 - ETA: 12s - loss: 14.7444 - acc: 0.085 - ETA: 8s - loss: 14.7749 - acc: 0.083 - ETA: 5s - loss: 14.7233 - acc: 0.08 - ETA: 2s - loss: 14.6790 - acc: 0.08 - 43s 3s/step - loss: 14.6424 - acc: 0.0916\n",
      "Epoch 8/10\n",
      "15/15 [==============================] - ETA: 39s - loss: 15.6144 - acc: 0.031 - ETA: 35s - loss: 15.1107 - acc: 0.062 - ETA: 32s - loss: 15.1107 - acc: 0.062 - ETA: 29s - loss: 14.7329 - acc: 0.085 - ETA: 26s - loss: 14.8085 - acc: 0.081 - ETA: 24s - loss: 14.8589 - acc: 0.078 - ETA: 19s - loss: 15.0388 - acc: 0.067 - ETA: 17s - loss: 14.8589 - acc: 0.078 - ETA: 15s - loss: 14.7749 - acc: 0.083 - ETA: 13s - loss: 14.8589 - acc: 0.078 - ETA: 11s - loss: 14.8818 - acc: 0.076 - ETA: 8s - loss: 14.7329 - acc: 0.085 - ETA: 5s - loss: 14.8008 - acc: 0.08 - ETA: 2s - loss: 14.7150 - acc: 0.08 - 42s 3s/step - loss: 14.7368 - acc: 0.0857\n",
      "Epoch 9/10\n",
      "15/15 [==============================] - ETA: 38s - loss: 15.1107 - acc: 0.062 - ETA: 33s - loss: 15.1107 - acc: 0.062 - ETA: 31s - loss: 14.6070 - acc: 0.093 - ETA: 28s - loss: 14.9848 - acc: 0.070 - ETA: 25s - loss: 14.6070 - acc: 0.093 - ETA: 23s - loss: 14.3552 - acc: 0.109 - ETA: 20s - loss: 14.3192 - acc: 0.111 - ETA: 18s - loss: 14.4811 - acc: 0.101 - ETA: 15s - loss: 14.4951 - acc: 0.100 - ETA: 13s - loss: 14.4055 - acc: 0.106 - ETA: 9s - loss: 14.5612 - acc: 0.096 - ETA: 7s - loss: 14.6490 - acc: 0.09 - ETA: 4s - loss: 14.6458 - acc: 0.09 - ETA: 2s - loss: 14.7150 - acc: 0.08 - 38s 3s/step - loss: 14.7368 - acc: 0.0857\n",
      "Epoch 10/10\n",
      "15/15 [==============================] - ETA: 41s - loss: 14.6070 - acc: 0.093 - ETA: 37s - loss: 15.1107 - acc: 0.062 - ETA: 33s - loss: 14.9428 - acc: 0.072 - ETA: 26s - loss: 15.2366 - acc: 0.054 - ETA: 25s - loss: 15.0100 - acc: 0.068 - ETA: 23s - loss: 14.9428 - acc: 0.072 - ETA: 20s - loss: 14.8948 - acc: 0.075 - ETA: 18s - loss: 14.9848 - acc: 0.070 - ETA: 16s - loss: 14.9428 - acc: 0.072 - ETA: 13s - loss: 14.9092 - acc: 0.075 - ETA: 11s - loss: 14.6986 - acc: 0.088 - ETA: 8s - loss: 14.6490 - acc: 0.091 - ETA: 5s - loss: 14.6845 - acc: 0.08 - ETA: 2s - loss: 14.7150 - acc: 0.08 - 44s 3s/step - loss: 14.7368 - acc: 0.0857\n"
     ]
    }
   ],
   "source": [
    "history = model.fit_generator(train_generator,\n",
    "                    epochs = 10)"
   ]
  },
  {
   "cell_type": "code",
   "execution_count": 15,
   "metadata": {},
   "outputs": [
    {
     "name": "stdout",
     "output_type": "stream",
     "text": [
      "dict_keys(['loss', 'acc'])\n"
     ]
    },
    {
     "data": {
      "image/png": "[encoded data removed]",
      "text/plain": [
       "<matplotlib.figure.Figure at 0x1f9692f9160>"
      ]
     },
     "metadata": {},
     "output_type": "display_data"
    },
    {
     "data": {
      "image/png": "[encoded data removed]",
      "text/plain": [
       "<matplotlib.figure.Figure at 0x1f96b349198>"
      ]
     },
     "metadata": {},
     "output_type": "display_data"
    }
   ],
   "source": [
    "# list all data in history\n",
    "print(history.history.keys())\n",
    "\n",
    "# summarize history for accuracy\n",
    "plt.plot(history.history['acc'])\n",
    "# plt.plot(history.history['val_acc'])\n",
    "plt.title('model accuracy')\n",
    "plt.ylabel('accuracy')\n",
    "plt.xlabel('epoch')\n",
    "# plt.legend(['train', 'test'], loc='upper left')\n",
    "plt.legend(['train'], loc='upper left')\n",
    "plt.show()"
   ]
  },
  {
   "cell_type": "code",
   "execution_count": null,
   "metadata": {
    "collapsed": true
   },
   "outputs": [],
   "source": [
    "# summarize history for loss\n",
    "plt.plot(history.history['loss'])\n",
    "# plt.plot(history.history['val_loss'])\n",
    "plt.title('model loss')\n",
    "plt.ylabel('loss')\n",
    "plt.xlabel('epoch')\n",
    "# plt.legend(['train', 'test'], loc='upper left')\n",
    "plt.legend(['train'], loc='upper left')\n",
    "plt.show()"
   ]
  }
 ],
 "metadata": {
  "kernelspec": {
   "display_name": "Python 3",
   "language": "python",
   "name": "python3"
  },
  "language_info": {
   "codemirror_mode": {
    "name": "ipython",
    "version": 3
   },
   "file_extension": ".py",
   "mimetype": "text/x-python",
   "name": "python",
   "nbconvert_exporter": "python",
   "pygments_lexer": "ipython3",
   "version": "3.6.2"
  }
 },
 "nbformat": 4,
 "nbformat_minor": 2
}
