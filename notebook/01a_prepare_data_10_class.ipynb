{
 "cells": [
  {
   "cell_type": "code",
   "execution_count": 78,
   "metadata": {
    "collapsed": true
   },
   "outputs": [],
   "source": [
    "# prepare training set based on specific conditions\n",
    "# TRAIN images are in TRAIN_PATH\n",
    "# out-of-sample 20% TEST images are in TEST_PATH"
   ]
  },
  {
   "cell_type": "code",
   "execution_count": 1,
   "metadata": {
    "collapsed": true
   },
   "outputs": [],
   "source": [
    "import glob, os\n",
    "import shutil\n",
    "import numpy as np\n",
    "import pandas as pd\n",
    "from PIL import Image\n",
    "import matplotlib.pyplot as plt\n",
    "import math\n",
    "from numpy import newaxis\n",
    "from tqdm import tqdm\n",
    "from sklearn.model_selection import train_test_split\n",
    "%matplotlib inline"
   ]
  },
  {
   "cell_type": "code",
   "execution_count": 2,
   "metadata": {
    "collapsed": true
   },
   "outputs": [],
   "source": [
    "version_number = '0_1'"
   ]
  },
  {
   "cell_type": "code",
   "execution_count": 3,
   "metadata": {
    "collapsed": true
   },
   "outputs": [],
   "source": [
    "CSV_PATH   = 'C:/Users/KaiPin Liao/Documents/kaggle_whales/data/'\n",
    "READ_PATH  = 'C:/Users/KaiPin Liao/Documents/kaggle_whales/data/train_black_and_white/'\n",
    "TRAIN_PATH = 'C:/Users/KaiPin Liao/Documents/kaggle_whales/data/train_' + version_number + '/'\n",
    "VALIDATION_PATH = 'C:/Users/KaiPin Liao/Documents/kaggle_whales/data/validation_' + version_number + '/'\n",
    "TEST_PATH  = 'C:/Users/KaiPin Liao/Documents/kaggle_whales/data/test_' + version_number + '/'"
   ]
  },
  {
   "cell_type": "code",
   "execution_count": 4,
   "metadata": {
    "collapsed": true
   },
   "outputs": [],
   "source": [
    "def create_folder(directory, alert = True):\n",
    "    if not os.path.exists(directory):\n",
    "        os.makedirs(directory)\n",
    "    elif alert:\n",
    "        print(directory, '\\talready exists!')"
   ]
  },
  {
   "cell_type": "code",
   "execution_count": 27,
   "metadata": {},
   "outputs": [],
   "source": [
    "create_folder(TRAIN_PATH)\n",
    "create_folder(VALIDATION_PATH)\n",
    "create_folder(TEST_PATH)"
   ]
  },
  {
   "cell_type": "code",
   "execution_count": 6,
   "metadata": {},
   "outputs": [
    {
     "name": "stdout",
     "output_type": "stream",
     "text": [
      "There are  25361 pictures.\n",
      "There are  5005 unique whales.\n",
      "806 whales have more than 5 images. 0.16103896103896104\n"
     ]
    }
   ],
   "source": [
    "# get whales with more than 5 samples\n",
    "\n",
    "# read label csv\n",
    "df = pd.read_csv(CSV_PATH + 'train.csv')\n",
    "print('There are ', len(df), 'pictures.')\n",
    "\n",
    "# get unique whales\n",
    "whales = df['Id'].drop_duplicates().values\n",
    "print('There are ', len(whales), 'unique whales.')\n",
    "\n",
    "# there are on average ~5 unique pictures per whale. What does this look like distributionally?\n",
    "count = df.groupby('Id').count().sort_values('Image', ascending=False).reset_index()\n",
    "\n",
    "# yikes 806 whales have >= five images... this will be tough!\n",
    "print(len(count[count['Image']>=5]), 'whales have more than 5 images.', len(count[count['Image']>=5]) / len(whales))"
   ]
  },
  {
   "cell_type": "code",
   "execution_count": 7,
   "metadata": {},
   "outputs": [
    {
     "data": {
      "text/html": [
       "<div>\n",
       "<style scoped>\n",
       "    .dataframe tbody tr th:only-of-type {\n",
       "        vertical-align: middle;\n",
       "    }\n",
       "\n",
       "    .dataframe tbody tr th {\n",
       "        vertical-align: top;\n",
       "    }\n",
       "\n",
       "    .dataframe thead th {\n",
       "        text-align: right;\n",
       "    }\n",
       "</style>\n",
       "<table border=\"1\" class=\"dataframe\">\n",
       "  <thead>\n",
       "    <tr style=\"text-align: right;\">\n",
       "      <th></th>\n",
       "      <th>Id</th>\n",
       "      <th>Image</th>\n",
       "    </tr>\n",
       "  </thead>\n",
       "  <tbody>\n",
       "    <tr>\n",
       "      <th>0</th>\n",
       "      <td>new_whale</td>\n",
       "      <td>9664</td>\n",
       "    </tr>\n",
       "    <tr>\n",
       "      <th>1</th>\n",
       "      <td>w_23a388d</td>\n",
       "      <td>73</td>\n",
       "    </tr>\n",
       "    <tr>\n",
       "      <th>2</th>\n",
       "      <td>w_9b5109b</td>\n",
       "      <td>65</td>\n",
       "    </tr>\n",
       "    <tr>\n",
       "      <th>3</th>\n",
       "      <td>w_9c506f6</td>\n",
       "      <td>62</td>\n",
       "    </tr>\n",
       "    <tr>\n",
       "      <th>4</th>\n",
       "      <td>w_0369a5c</td>\n",
       "      <td>61</td>\n",
       "    </tr>\n",
       "    <tr>\n",
       "      <th>5</th>\n",
       "      <td>w_700ebb4</td>\n",
       "      <td>57</td>\n",
       "    </tr>\n",
       "    <tr>\n",
       "      <th>6</th>\n",
       "      <td>w_3de579a</td>\n",
       "      <td>54</td>\n",
       "    </tr>\n",
       "    <tr>\n",
       "      <th>7</th>\n",
       "      <td>w_564a34b</td>\n",
       "      <td>51</td>\n",
       "    </tr>\n",
       "    <tr>\n",
       "      <th>8</th>\n",
       "      <td>w_fd3e556</td>\n",
       "      <td>50</td>\n",
       "    </tr>\n",
       "    <tr>\n",
       "      <th>9</th>\n",
       "      <td>w_88e4537</td>\n",
       "      <td>49</td>\n",
       "    </tr>\n",
       "    <tr>\n",
       "      <th>10</th>\n",
       "      <td>w_2b069ba</td>\n",
       "      <td>48</td>\n",
       "    </tr>\n",
       "    <tr>\n",
       "      <th>11</th>\n",
       "      <td>w_d405854</td>\n",
       "      <td>47</td>\n",
       "    </tr>\n",
       "    <tr>\n",
       "      <th>12</th>\n",
       "      <td>w_789c969</td>\n",
       "      <td>45</td>\n",
       "    </tr>\n",
       "    <tr>\n",
       "      <th>13</th>\n",
       "      <td>w_f0fe284</td>\n",
       "      <td>45</td>\n",
       "    </tr>\n",
       "    <tr>\n",
       "      <th>14</th>\n",
       "      <td>w_5e8e218</td>\n",
       "      <td>40</td>\n",
       "    </tr>\n",
       "  </tbody>\n",
       "</table>\n",
       "</div>"
      ],
      "text/plain": [
       "           Id  Image\n",
       "0   new_whale   9664\n",
       "1   w_23a388d     73\n",
       "2   w_9b5109b     65\n",
       "3   w_9c506f6     62\n",
       "4   w_0369a5c     61\n",
       "5   w_700ebb4     57\n",
       "6   w_3de579a     54\n",
       "7   w_564a34b     51\n",
       "8   w_fd3e556     50\n",
       "9   w_88e4537     49\n",
       "10  w_2b069ba     48\n",
       "11  w_d405854     47\n",
       "12  w_789c969     45\n",
       "13  w_f0fe284     45\n",
       "14  w_5e8e218     40"
      ]
     },
     "execution_count": 7,
     "metadata": {},
     "output_type": "execute_result"
    }
   ],
   "source": [
    "count.head(15)"
   ]
  },
  {
   "cell_type": "markdown",
   "metadata": {},
   "source": [
    "#### select whales having >= 48 sample images (10 most popular classes) and whales != 'new_whale'"
   ]
  },
  {
   "cell_type": "code",
   "execution_count": 8,
   "metadata": {},
   "outputs": [
    {
     "name": "stdout",
     "output_type": "stream",
     "text": [
      "570 images\n"
     ]
    }
   ],
   "source": [
    "# unique list of 805 whales that satisfy above conditions\n",
    "train_whale_list = count.loc[(count['Image'] >= 48) & (count['Id'] != 'new_whale')]\n",
    "print(train_whale_list['Image'].sum(), 'images')\n",
    "train_whale_list = train_whale_list['Id'].unique()"
   ]
  },
  {
   "cell_type": "code",
   "execution_count": 9,
   "metadata": {},
   "outputs": [
    {
     "data": {
      "text/plain": [
       "570"
      ]
     },
     "execution_count": 9,
     "metadata": {},
     "output_type": "execute_result"
    }
   ],
   "source": [
    "train_image = df.loc[df['Id'].isin(train_whale_list)]\n",
    "train_image_list = train_image['Image'].unique()\n",
    "train_image_list = [x[:-4] for x in train_image_list]\n",
    "len(train_image_list)"
   ]
  },
  {
   "cell_type": "code",
   "execution_count": 23,
   "metadata": {
    "collapsed": true
   },
   "outputs": [],
   "source": [
    "# leave 20% for out-of-sample test\n",
    "X_train, X_test, y_train, y_test = train_test_split(train_image['Image'], train_image['Id'], test_size=0.2, random_state=999)"
   ]
  },
  {
   "cell_type": "code",
   "execution_count": 24,
   "metadata": {
    "collapsed": true
   },
   "outputs": [],
   "source": [
    "# from train set, split train:validation = 3:1\n",
    "X_train, X_validation, y_train, y_validation = train_test_split(X_train, y_train, test_size=0.25, random_state=111)"
   ]
  },
  {
   "cell_type": "code",
   "execution_count": 25,
   "metadata": {
    "collapsed": true
   },
   "outputs": [],
   "source": [
    "X_train_list = [x[:-4] for x in X_train]\n",
    "X_validation_list = [x[:-4] for x in X_validation]\n",
    "X_test_list  = [x[:-4] for x in X_test]"
   ]
  },
  {
   "cell_type": "code",
   "execution_count": 13,
   "metadata": {},
   "outputs": [
    {
     "name": "stderr",
     "output_type": "stream",
     "text": [
      "100%|██████████████████████████████████████████████████████████████████████████| 25361/25361 [00:04<00:00, 5326.39it/s]\n"
     ]
    }
   ],
   "source": [
    "# for filename in tqdm(os.listdir(READ_PATH)):\n",
    "#     if filename[:9] in X_train_list:\n",
    "#         shutil.copy( READ_PATH + filename, TRAIN_PATH + filename[:9] + '.jpg')\n",
    "#     elif filename[:9] in X_validation_list:\n",
    "#         shutil.copy( VALIDATION_PATH + filename, TEST_PATH + filename[:9] + '.jpg')\n",
    "#     elif filename[:9] in X_test_list:\n",
    "#         shutil.copy( READ_PATH + filename, TEST_PATH + filename[:9] + '.jpg')"
   ]
  },
  {
   "cell_type": "code",
   "execution_count": 52,
   "metadata": {},
   "outputs": [
    {
     "name": "stdout",
     "output_type": "stream",
     "text": [
      "460\n",
      "115\n",
      "575\n"
     ]
    }
   ],
   "source": [
    "# print(len([name for name in os.listdir(TRAIN_PATH)]))\n",
    "# print(len([name for name in os.listdir(VALIDATION_PATH)]))\n",
    "# print(len([name for name in os.listdir(TEST_PATH)]))\n",
    "# print(len([name for name in os.listdir(TEST_PATH)]) + len([name for name in os.listdir(VALIDATION_PATH)]) + len([name for name in os.listdir(TRAIN_PATH)]))"
   ]
  },
  {
   "cell_type": "code",
   "execution_count": 28,
   "metadata": {},
   "outputs": [],
   "source": [
    "# put images of each class in its own sub-directory\n",
    "for filename in os.listdir(READ_PATH):\n",
    "    # find class\n",
    "    cls_string = df.loc[df['Image'] == filename[:9] + '.jpg']['Id'].iloc[-1]\n",
    "    \n",
    "    if filename[:9] in X_train_list:\n",
    "        create_folder(TRAIN_PATH + cls_string, False)\n",
    "        shutil.copy( READ_PATH + filename, TRAIN_PATH + cls_string + '/' + filename[:9] + '.jpg')\n",
    "    elif filename[:9] in X_validation_list:\n",
    "        create_folder(VALIDATION_PATH + cls_string, False)\n",
    "        shutil.copy( READ_PATH + filename, VALIDATION_PATH + cls_string + '/' + filename[:9] + '.jpg')\n",
    "    elif filename[:9] in X_test_list:\n",
    "        create_folder(TEST_PATH + cls_string, False)\n",
    "        shutil.copy( READ_PATH + filename, TEST_PATH + cls_string + '/' + filename[:9] + '.jpg')"
   ]
  },
  {
   "cell_type": "code",
   "execution_count": 29,
   "metadata": {},
   "outputs": [
    {
     "name": "stdout",
     "output_type": "stream",
     "text": [
      "342\n"
     ]
    }
   ],
   "source": [
    "# calculate total number of images\n",
    "image_count = 0\n",
    "directory = TRAIN_PATH\n",
    "for filename in os.listdir(directory):\n",
    "    image_count = image_count + len([name for name in os.listdir(directory + filename)])\n",
    "print(image_count)"
   ]
  },
  {
   "cell_type": "code",
   "execution_count": 30,
   "metadata": {},
   "outputs": [
    {
     "name": "stdout",
     "output_type": "stream",
     "text": [
      "114\n"
     ]
    }
   ],
   "source": [
    "image_count = 0\n",
    "directory = VALIDATION_PATH\n",
    "for filename in os.listdir(directory):\n",
    "    image_count = image_count + len([name for name in os.listdir(directory + filename)])\n",
    "print(image_count)"
   ]
  },
  {
   "cell_type": "code",
   "execution_count": 31,
   "metadata": {},
   "outputs": [
    {
     "name": "stdout",
     "output_type": "stream",
     "text": [
      "114\n"
     ]
    }
   ],
   "source": [
    "image_count = 0\n",
    "directory = TEST_PATH\n",
    "for filename in os.listdir(directory):\n",
    "    image_count = image_count + len([name for name in os.listdir(directory + filename)])\n",
    "print(image_count)"
   ]
  },
  {
   "cell_type": "code",
   "execution_count": null,
   "metadata": {
    "collapsed": true
   },
   "outputs": [],
   "source": []
  }
 ],
 "metadata": {
  "kernelspec": {
   "display_name": "Python 3",
   "language": "python",
   "name": "python3"
  },
  "language_info": {
   "codemirror_mode": {
    "name": "ipython",
    "version": 3
   },
   "file_extension": ".py",
   "mimetype": "text/x-python",
   "name": "python",
   "nbconvert_exporter": "python",
   "pygments_lexer": "ipython3",
   "version": "3.6.2"
  }
 },
 "nbformat": 4,
 "nbformat_minor": 2
}
