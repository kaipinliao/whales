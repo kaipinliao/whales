{
 "cells": [
  {
   "cell_type": "code",
   "execution_count": null,
   "metadata": {
    "collapsed": true
   },
   "outputs": [],
   "source": [
    "# https://github.com/broadinstitute/keras-resnet"
   ]
  },
  {
   "cell_type": "code",
   "execution_count": 3,
   "metadata": {},
   "outputs": [
    {
     "name": "stdout",
     "output_type": "stream",
     "text": [
      "Epoch 1/2\n",
      "50000/50000 [==============================] - 3843s 77ms/step - loss: 14.5063 - acc: 0.1000\n",
      "Epoch 2/2\n",
      "50000/50000 [==============================] - 3845s 77ms/step - loss: 14.5063 - acc: 0.1000\n"
     ]
    }
   ],
   "source": [
    "import keras\n",
    "\n",
    "import keras_resnet.models\n",
    "\n",
    "shape, classes = (32, 32, 3), 10\n",
    "\n",
    "x = keras.layers.Input(shape)\n",
    "\n",
    "model = keras_resnet.models.ResNet50(x, classes=classes)\n",
    "\n",
    "model.compile(\"adam\", \"categorical_crossentropy\", [\"accuracy\"])\n",
    "\n",
    "(training_x, training_y), (_, _) = keras.datasets.cifar10.load_data()\n",
    "\n",
    "training_y = keras.utils.np_utils.to_categorical(training_y)\n",
    "\n",
    "hisroty = model.fit(training_x, training_y, epochs = 2)"
   ]
  },
  {
   "cell_type": "code",
   "execution_count": 6,
   "metadata": {},
   "outputs": [
    {
     "name": "stdout",
     "output_type": "stream",
     "text": [
      "dict_keys(['loss', 'acc'])\n"
     ]
    },
    {
     "data": {
      "image/png": "[encoded data removed]",
      "text/plain": [
       "<matplotlib.figure.Figure at 0x1990473b160>"
      ]
     },
     "metadata": {},
     "output_type": "display_data"
    }
   ],
   "source": [
    "import matplotlib.pyplot as plt\n",
    "# list all data in history\n",
    "print(hisroty.history.keys())\n",
    "\n",
    "# summarize history for accuracy\n",
    "plt.plot(hisroty.history['acc'])\n",
    "# plt.plot(history.history['val_acc'])\n",
    "plt.title('model accuracy')\n",
    "plt.ylabel('accuracy')\n",
    "plt.xlabel('epoch')\n",
    "# plt.legend(['train', 'test'], loc='upper left')\n",
    "plt.legend(['train'], loc='upper left')\n",
    "plt.show()"
   ]
  },
  {
   "cell_type": "code",
   "execution_count": null,
   "metadata": {
    "collapsed": true
   },
   "outputs": [],
   "source": []
  }
 ],
 "metadata": {
  "kernelspec": {
   "display_name": "Python 3",
   "language": "python",
   "name": "python3"
  },
  "language_info": {
   "codemirror_mode": {
    "name": "ipython",
    "version": 3
   },
   "file_extension": ".py",
   "mimetype": "text/x-python",
   "name": "python",
   "nbconvert_exporter": "python",
   "pygments_lexer": "ipython3",
   "version": "3.6.2"
  }
 },
 "nbformat": 4,
 "nbformat_minor": 2
}
