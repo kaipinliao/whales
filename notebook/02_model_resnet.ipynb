{
 "cells": [
  {
   "cell_type": "code",
   "execution_count": null,
   "metadata": {
    "collapsed": true
   },
   "outputs": [],
   "source": [
    "# RESNET\n",
    "# https://github.com/broadinstitute/keras-resnet"
   ]
  },
  {
   "cell_type": "code",
   "execution_count": 30,
   "metadata": {},
   "outputs": [
    {
     "ename": "ImportError",
     "evalue": "cannot import name 'History'",
     "output_type": "error",
     "traceback": [
      "\u001b[1;31m---------------------------------------------------------------------------\u001b[0m",
      "\u001b[1;31mImportError\u001b[0m                               Traceback (most recent call last)",
      "\u001b[1;32m<ipython-input-30-7f94e6492271>\u001b[0m in \u001b[0;36m<module>\u001b[1;34m()\u001b[0m\n\u001b[0;32m      4\u001b[0m \u001b[1;32mimport\u001b[0m \u001b[0mnumpy\u001b[0m \u001b[1;32mas\u001b[0m \u001b[0mnp\u001b[0m\u001b[1;33m\u001b[0m\u001b[0m\n\u001b[0;32m      5\u001b[0m \u001b[1;32mfrom\u001b[0m \u001b[0mtqdm\u001b[0m \u001b[1;32mimport\u001b[0m \u001b[0mtqdm\u001b[0m\u001b[1;33m\u001b[0m\u001b[0m\n\u001b[1;32m----> 6\u001b[1;33m \u001b[1;32mfrom\u001b[0m \u001b[0mkeras\u001b[0m\u001b[1;33m.\u001b[0m\u001b[0mpreprocessing\u001b[0m\u001b[1;33m.\u001b[0m\u001b[0mimage\u001b[0m \u001b[1;32mimport\u001b[0m \u001b[0mImageDataGenerator\u001b[0m\u001b[1;33m,\u001b[0m \u001b[0marray_to_img\u001b[0m\u001b[1;33m,\u001b[0m \u001b[0mimg_to_array\u001b[0m\u001b[1;33m,\u001b[0m \u001b[0mload_img\u001b[0m\u001b[1;33m,\u001b[0m \u001b[0mHistory\u001b[0m\u001b[1;33m\u001b[0m\u001b[0m\n\u001b[0m\u001b[0;32m      7\u001b[0m \u001b[1;32mimport\u001b[0m \u001b[0mmatplotlib\u001b[0m\u001b[1;33m.\u001b[0m\u001b[0mpyplot\u001b[0m \u001b[1;32mas\u001b[0m \u001b[0mplt\u001b[0m\u001b[1;33m\u001b[0m\u001b[0m\n",
      "\u001b[1;31mImportError\u001b[0m: cannot import name 'History'"
     ]
    }
   ],
   "source": [
    "import keras\n",
    "import keras_resnet.models\n",
    "import os\n",
    "import numpy as np\n",
    "from tqdm import tqdm\n",
    "from keras.preprocessing.image import ImageDataGenerator, array_to_img, img_to_array, load_img\n",
    "import matplotlib.pyplot as plt"
   ]
  },
  {
   "cell_type": "code",
   "execution_count": null,
   "metadata": {
    "collapsed": true
   },
   "outputs": [],
   "source": [
    "# https://github.com/broadinstitute/keras-resnet\n",
    "# https://blog.keras.io/building-powerful-image-classification-models-using-very-little-data.html"
   ]
  },
  {
   "cell_type": "code",
   "execution_count": 17,
   "metadata": {
    "collapsed": true
   },
   "outputs": [],
   "source": [
    "target_height = 64\n",
    "target_width  = 64"
   ]
  },
  {
   "cell_type": "code",
   "execution_count": 18,
   "metadata": {
    "collapsed": true
   },
   "outputs": [],
   "source": [
    "shape, classes = (target_height, target_width, 1), 10"
   ]
  },
  {
   "cell_type": "code",
   "execution_count": 19,
   "metadata": {
    "collapsed": true
   },
   "outputs": [],
   "source": [
    "x = keras.layers.Input(shape)\n",
    "model = keras_resnet.models.ResNet50(x, classes=classes)\n",
    "model.compile(\"adam\", \"categorical_crossentropy\", [\"accuracy\"])"
   ]
  },
  {
   "cell_type": "code",
   "execution_count": null,
   "metadata": {
    "collapsed": true
   },
   "outputs": [],
   "source": [
    "# learn how input data should be formatted"
   ]
  },
  {
   "cell_type": "code",
   "execution_count": 13,
   "metadata": {
    "collapsed": true
   },
   "outputs": [],
   "source": [
    "# shape train data"
   ]
  },
  {
   "cell_type": "code",
   "execution_count": 5,
   "metadata": {
    "collapsed": true
   },
   "outputs": [],
   "source": [
    "version_number = '0_1'"
   ]
  },
  {
   "cell_type": "code",
   "execution_count": 6,
   "metadata": {
    "collapsed": true
   },
   "outputs": [],
   "source": [
    "TRAIN_PATH = 'C:/Users/KaiPin Liao/Documents/kaggle_whales/data/train_' + version_number + '/'\n",
    "TEST_PATH  = 'C:/Users/KaiPin Liao/Documents/kaggle_whales/data/test_' + version_number + '/'"
   ]
  },
  {
   "cell_type": "code",
   "execution_count": null,
   "metadata": {
    "collapsed": true
   },
   "outputs": [],
   "source": [
    "# NOT USED BELOW"
   ]
  },
  {
   "cell_type": "code",
   "execution_count": 54,
   "metadata": {},
   "outputs": [
    {
     "name": "stderr",
     "output_type": "stream",
     "text": [
      "100%|████████████████████████████████████████████████████████████████████████████████| 456/456 [00:17<00:00, 15.98it/s]\n"
     ]
    }
   ],
   "source": [
    "# load all images in directory\n",
    "# change dimension to numpy array of dimension (number of images, height, width, channel)\n",
    "feature = []\n",
    "directory = TRAIN_PATH\n",
    "for image_name in tqdm(os.listdir(directory)):\n",
    "    img = load_img(directory + image_name)\n",
    "    x = img_to_array(img)\n",
    "    feature.append(x)\n",
    "feature = np.array(feature)"
   ]
  },
  {
   "cell_type": "code",
   "execution_count": 63,
   "metadata": {},
   "outputs": [
    {
     "name": "stdout",
     "output_type": "stream",
     "text": [
      "3315.0558471679688 MB used\n"
     ]
    }
   ],
   "source": [
    "print(feature.nbytes/1024/1024, 'MB used')"
   ]
  },
  {
   "cell_type": "code",
   "execution_count": null,
   "metadata": {
    "collapsed": true
   },
   "outputs": [],
   "source": [
    "# NOT USED ABOVE"
   ]
  },
  {
   "cell_type": "code",
   "execution_count": 31,
   "metadata": {},
   "outputs": [],
   "source": [
    "train_datagen = ImageDataGenerator()\n",
    "history = keras.callbacks.History()"
   ]
  },
  {
   "cell_type": "code",
   "execution_count": 32,
   "metadata": {},
   "outputs": [
    {
     "ename": "TypeError",
     "evalue": "flow_from_directory() got an unexpected keyword argument 'callbacks'",
     "output_type": "error",
     "traceback": [
      "\u001b[1;31m---------------------------------------------------------------------------\u001b[0m",
      "\u001b[1;31mTypeError\u001b[0m                                 Traceback (most recent call last)",
      "\u001b[1;32m<ipython-input-32-e4d2bde2e801>\u001b[0m in \u001b[0;36m<module>\u001b[1;34m()\u001b[0m\n\u001b[0;32m      2\u001b[0m                                                     \u001b[0mtarget_size\u001b[0m \u001b[1;33m=\u001b[0m \u001b[1;33m(\u001b[0m\u001b[0mtarget_height\u001b[0m\u001b[1;33m,\u001b[0m \u001b[0mtarget_width\u001b[0m\u001b[1;33m)\u001b[0m\u001b[1;33m,\u001b[0m\u001b[1;33m\u001b[0m\u001b[0m\n\u001b[0;32m      3\u001b[0m                                                     \u001b[0mcolor_mode\u001b[0m \u001b[1;33m=\u001b[0m \u001b[1;34m'grayscale'\u001b[0m\u001b[1;33m,\u001b[0m\u001b[1;33m\u001b[0m\u001b[0m\n\u001b[1;32m----> 4\u001b[1;33m                                                     callbacks=[history])\n\u001b[0m",
      "\u001b[1;31mTypeError\u001b[0m: flow_from_directory() got an unexpected keyword argument 'callbacks'"
     ]
    }
   ],
   "source": [
    "train_generator = train_datagen.flow_from_directory(TRAIN_PATH, \n",
    "                                                    target_size = (target_height, target_width),\n",
    "                                                    color_mode = 'grayscale'\n",
    "                                                   )"
   ]
  },
  {
   "cell_type": "code",
   "execution_count": 34,
   "metadata": {},
   "outputs": [
    {
     "name": "stdout",
     "output_type": "stream",
     "text": [
      "Epoch 1/3\n",
      "15/15 [==============================] - ETA: 1:03 - loss: 14.1033 - acc: 0.12 - ETA: 58s - loss: 14.6070 - acc: 0.0938 - ETA: 53s - loss: 14.2712 - acc: 0.114 - ETA: 50s - loss: 14.4811 - acc: 0.101 - ETA: 45s - loss: 14.5063 - acc: 0.100 - ETA: 40s - loss: 14.1873 - acc: 0.119 - ETA: 35s - loss: 14.0314 - acc: 0.129 - ETA: 31s - loss: 13.9144 - acc: 0.136 - ETA: 26s - loss: 13.9914 - acc: 0.131 - ETA: 21s - loss: 14.1033 - acc: 0.125 - ETA: 17s - loss: 14.1949 - acc: 0.119 - ETA: 12s - loss: 14.2293 - acc: 0.117 - ETA: 8s - loss: 14.2196 - acc: 0.117 - ETA: 4s - loss: 14.2832 - acc: 0.11 - 61s 4s/step - loss: 14.3055 - acc: 0.1125\n",
      "Epoch 2/3\n",
      "15/15 [==============================] - ETA: 57s - loss: 14.6070 - acc: 0.093 - ETA: 54s - loss: 14.3552 - acc: 0.109 - ETA: 49s - loss: 13.4317 - acc: 0.166 - ETA: 45s - loss: 13.5996 - acc: 0.156 - ETA: 41s - loss: 14.0026 - acc: 0.131 - ETA: 36s - loss: 14.1033 - acc: 0.125 - ETA: 32s - loss: 14.1753 - acc: 0.120 - ETA: 28s - loss: 14.1033 - acc: 0.125 - ETA: 24s - loss: 14.1593 - acc: 0.121 - ETA: 20s - loss: 14.2544 - acc: 0.115 - ETA: 16s - loss: 14.3781 - acc: 0.108 - ETA: 11s - loss: 14.4391 - acc: 0.104 - ETA: 7s - loss: 14.3746 - acc: 0.108 - ETA: 3s - loss: 14.3552 - acc: 0.10 - 57s 4s/step - loss: 14.3055 - acc: 0.1125\n",
      "Epoch 3/3\n",
      "15/15 [==============================] - ETA: 58s - loss: 14.1033 - acc: 0.125 - ETA: 54s - loss: 14.8589 - acc: 0.078 - ETA: 50s - loss: 15.1107 - acc: 0.062 - ETA: 45s - loss: 14.9848 - acc: 0.070 - ETA: 36s - loss: 15.2115 - acc: 0.056 - ETA: 33s - loss: 14.6070 - acc: 0.093 - ETA: 29s - loss: 14.6070 - acc: 0.093 - ETA: 26s - loss: 14.6700 - acc: 0.089 - ETA: 22s - loss: 14.6070 - acc: 0.093 - ETA: 18s - loss: 14.6574 - acc: 0.090 - ETA: 14s - loss: 14.5154 - acc: 0.099 - ETA: 11s - loss: 14.4811 - acc: 0.101 - ETA: 7s - loss: 14.4908 - acc: 0.101 - ETA: 3s - loss: 14.4991 - acc: 0.10 - 55s 4s/step - loss: 14.3999 - acc: 0.1066\n"
     ]
    }
   ],
   "source": [
    "history = model.fit_generator(train_generator, \n",
    "                              epochs = 3,\n",
    "                              callbacks=[history]\n",
    "                             )"
   ]
  },
  {
   "cell_type": "code",
   "execution_count": 37,
   "metadata": {},
   "outputs": [
    {
     "name": "stdout",
     "output_type": "stream",
     "text": [
      "dict_keys(['loss', 'acc'])\n"
     ]
    },
    {
     "data": {
      "image/png": "[encoded data removed]",
      "text/plain": [
       "<matplotlib.figure.Figure at 0x1f96de75dd8>"
      ]
     },
     "metadata": {},
     "output_type": "display_data"
    }
   ],
   "source": [
    "# list all data in history\n",
    "print(history.history.keys())\n",
    "\n",
    "# summarize history for accuracy\n",
    "plt.plot(history.history['acc'])\n",
    "# plt.plot(history.history['val_acc'])\n",
    "plt.title('model accuracy')\n",
    "plt.ylabel('accuracy')\n",
    "plt.xlabel('epoch')\n",
    "# plt.legend(['train', 'test'], loc='upper left')\n",
    "plt.legend(['train'], loc='upper left')\n",
    "plt.show()"
   ]
  },
  {
   "cell_type": "code",
   "execution_count": 38,
   "metadata": {},
   "outputs": [
    {
     "data": {
      "image/png": "[encoded data removed]",
      "text/plain": [
       "<matplotlib.figure.Figure at 0x1f900d5be48>"
      ]
     },
     "metadata": {},
     "output_type": "display_data"
    }
   ],
   "source": [
    "# summarize history for loss\n",
    "plt.plot(history.history['loss'])\n",
    "# plt.plot(history.history['val_loss'])\n",
    "plt.title('model loss')\n",
    "plt.ylabel('loss')\n",
    "plt.xlabel('epoch')\n",
    "# plt.legend(['train', 'test'], loc='upper left')\n",
    "plt.legend(['train'], loc='upper left')\n",
    "plt.show()"
   ]
  },
  {
   "cell_type": "code",
   "execution_count": 28,
   "metadata": {},
   "outputs": [
    {
     "data": {
      "text/plain": [
       "[14.315413709272418,\n",
       " 14.315413508498878,\n",
       " 14.315413441574364,\n",
       " 14.315413575423392,\n",
       " 14.31541349176775,\n",
       " 14.31541369254129,\n",
       " 14.31541349176775,\n",
       " 14.315413776196932,\n",
       " 14.31541349176775,\n",
       " 14.315413575423392]"
      ]
     },
     "execution_count": 28,
     "metadata": {},
     "output_type": "execute_result"
    }
   ],
   "source": [
    "history.history['loss']"
   ]
  },
  {
   "cell_type": "code",
   "execution_count": null,
   "metadata": {
    "collapsed": true
   },
   "outputs": [],
   "source": []
  }
 ],
 "metadata": {
  "kernelspec": {
   "display_name": "Python 3",
   "language": "python",
   "name": "python3"
  },
  "language_info": {
   "codemirror_mode": {
    "name": "ipython",
    "version": 3
   },
   "file_extension": ".py",
   "mimetype": "text/x-python",
   "name": "python",
   "nbconvert_exporter": "python",
   "pygments_lexer": "ipython3",
   "version": "3.6.2"
  }
 },
 "nbformat": 4,
 "nbformat_minor": 2
}
