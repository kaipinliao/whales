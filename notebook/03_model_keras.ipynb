{
 "cells": [
  {
   "cell_type": "code",
   "execution_count": 1,
   "metadata": {
    "collapsed": true
   },
   "outputs": [],
   "source": [
    "# https://blog.keras.io/building-powerful-image-classification-models-using-very-little-data.html"
   ]
  },
  {
   "cell_type": "code",
   "execution_count": 19,
   "metadata": {},
   "outputs": [],
   "source": [
    "import keras\n",
    "import os\n",
    "import numpy as np\n",
    "from tqdm import tqdm\n",
    "from keras.preprocessing.image import ImageDataGenerator, array_to_img, img_to_array, load_img\n",
    "import matplotlib.pyplot as plt\n",
    "\n",
    "from keras.models import Sequential\n",
    "from keras.layers import Conv2D, MaxPooling2D\n",
    "from keras.layers import Activation, Dropout, Flatten, Dense\n",
    "from keras.callbacks import ModelCheckpoint, Callback"
   ]
  },
  {
   "cell_type": "code",
   "execution_count": 3,
   "metadata": {
    "collapsed": true
   },
   "outputs": [],
   "source": [
    "target_height = 32\n",
    "target_width  = 32\n",
    "target_channel = 3"
   ]
  },
  {
   "cell_type": "code",
   "execution_count": 4,
   "metadata": {
    "collapsed": true
   },
   "outputs": [],
   "source": [
    "data_version_number = '0_1'"
   ]
  },
  {
   "cell_type": "code",
   "execution_count": 5,
   "metadata": {
    "collapsed": true
   },
   "outputs": [],
   "source": [
    "TRAIN_PATH = 'C:/Users/KaiPin Liao/Documents/kaggle_whales/data/train_' + data_version_number + '/'\n",
    "VALIDATION_PATH = 'C:/Users/KaiPin Liao/Documents/kaggle_whales/data/validation_' + data_version_number + '/'\n",
    "TEST_PATH  = 'C:/Users/KaiPin Liao/Documents/kaggle_whales/data/test_' + data_version_number + '/'"
   ]
  },
  {
   "cell_type": "code",
   "execution_count": 42,
   "metadata": {
    "collapsed": true
   },
   "outputs": [],
   "source": [
    "model = Sequential()\n",
    "model.add(Conv2D(32, (3, 3), input_shape=(target_height, target_width, target_channel)))\n",
    "model.add(Activation('relu'))\n",
    "model.add(MaxPooling2D(pool_size=(2, 2)))\n",
    "\n",
    "model.add(Conv2D(32, (3, 3)))\n",
    "model.add(Activation('relu'))\n",
    "model.add(MaxPooling2D(pool_size=(2, 2)))\n",
    "\n",
    "model.add(Conv2D(64, (3, 3)))\n",
    "model.add(Activation('relu'))\n",
    "model.add(MaxPooling2D(pool_size=(2, 2)))\n",
    "\n",
    "# the model so far outputs 3D feature maps (height, width, features)\n",
    "\n",
    "model.add(Flatten())  # this converts our 3D feature maps to 1D feature vectors\n",
    "model.add(Dense(64))\n",
    "model.add(Activation('relu'))\n",
    "model.add(Dropout(0.5))\n",
    "model.add(Dense(10))\n",
    "model.add(Activation('sigmoid'))\n",
    "\n",
    "model.compile(loss='categorical_crossentropy',\n",
    "              optimizer='rmsprop',\n",
    "              metrics=['accuracy'])"
   ]
  },
  {
   "cell_type": "code",
   "execution_count": 43,
   "metadata": {
    "collapsed": true
   },
   "outputs": [],
   "source": [
    "train_datagen = ImageDataGenerator()\n",
    "test_datagen = ImageDataGenerator()\n",
    "\n",
    "history = keras.callbacks.History()"
   ]
  },
  {
   "cell_type": "code",
   "execution_count": 44,
   "metadata": {},
   "outputs": [
    {
     "name": "stdout",
     "output_type": "stream",
     "text": [
      "Found 342 images belonging to 10 classes.\n",
      "Found 114 images belonging to 10 classes.\n"
     ]
    }
   ],
   "source": [
    "train_generator = train_datagen.flow_from_directory(TRAIN_PATH, \n",
    "                                                    target_size = (target_height, target_width)\n",
    "#                                                     color_mode = 'grayscale'\n",
    "                                                   )\n",
    "\n",
    "validation_generator = test_datagen.flow_from_directory(VALIDATION_PATH, \n",
    "                                                    target_size = (target_height, target_width)\n",
    "#                                                     color_mode = 'grayscale'\n",
    "                                                   )"
   ]
  },
  {
   "cell_type": "code",
   "execution_count": 45,
   "metadata": {},
   "outputs": [
    {
     "name": "stdout",
     "output_type": "stream",
     "text": [
      "Epoch 1/30\n",
      "11/11 [==============================] - ETA: 6s - loss: 6.8543 - acc: 0.0000e+0 - ETA: 3s - loss: 7.3844 - acc: 0.0469    - ETA: 2s - loss: 7.3734 - acc: 0.052 - ETA: 2s - loss: 7.0947 - acc: 0.054 - ETA: 1s - loss: 7.2249 - acc: 0.050 - ETA: 1s - loss: 6.8724 - acc: 0.057 - ETA: 1s - loss: 6.6755 - acc: 0.055 - ETA: 0s - loss: 6.5181 - acc: 0.060 - ETA: 0s - loss: 6.4644 - acc: 0.064 - ETA: 0s - loss: 6.3828 - acc: 0.067 - 4s 379ms/step - loss: 6.3850 - acc: 0.0695 - val_loss: 3.9122 - val_acc: 0.1228\n",
      "\n",
      "Epoch 00001: val_loss improved from inf to 3.91219, saving model to C:/Users/KaiPin Liao/Documents/kaggle_whales/weights.hdf5\n",
      "Epoch 2/30\n",
      "11/11 [==============================] - ETA: 0s - loss: 6.2463 - acc: 0.125 - ETA: 0s - loss: 5.3014 - acc: 0.125 - ETA: 0s - loss: 5.3728 - acc: 0.135 - ETA: 0s - loss: 5.0733 - acc: 0.135 - ETA: 0s - loss: 5.0587 - acc: 0.121 - ETA: 0s - loss: 5.1221 - acc: 0.121 - ETA: 0s - loss: 5.1629 - acc: 0.117 - ETA: 0s - loss: 5.1408 - acc: 0.110 - ETA: 0s - loss: 5.1114 - acc: 0.115 - ETA: 0s - loss: 4.9804 - acc: 0.110 - 3s 257ms/step - loss: 4.8887 - acc: 0.1089 - val_loss: 3.4738 - val_acc: 0.1228\n",
      "\n",
      "Epoch 00002: val_loss improved from 3.91219 to 3.47382, saving model to C:/Users/KaiPin Liao/Documents/kaggle_whales/weights.hdf5\n",
      "Epoch 3/30\n",
      "11/11 [==============================] - ETA: 0s - loss: 5.4404 - acc: 0.062 - ETA: 0s - loss: 5.7850 - acc: 0.093 - ETA: 0s - loss: 4.8649 - acc: 0.108 - ETA: 0s - loss: 5.1319 - acc: 0.112 - ETA: 0s - loss: 4.9366 - acc: 0.096 - ETA: 0s - loss: 4.6364 - acc: 0.095 - ETA: 0s - loss: 4.5787 - acc: 0.095 - ETA: 0s - loss: 4.4688 - acc: 0.099 - ETA: 0s - loss: 4.5666 - acc: 0.105 - ETA: 0s - loss: 4.4886 - acc: 0.113 - 3s 295ms/step - loss: 4.6413 - acc: 0.1032 - val_loss: 2.8041 - val_acc: 0.0702\n",
      "\n",
      "Epoch 00003: val_loss improved from 3.47382 to 2.80407, saving model to C:/Users/KaiPin Liao/Documents/kaggle_whales/weights.hdf5\n",
      "Epoch 4/30\n",
      "11/11 [==============================] - ETA: 0s - loss: 5.4348 - acc: 0.0000e+0 - ETA: 0s - loss: 4.5897 - acc: 0.0312    - ETA: 0s - loss: 4.0835 - acc: 0.041 - ETA: 0s - loss: 4.1172 - acc: 0.039 - ETA: 0s - loss: 3.8903 - acc: 0.037 - ETA: 0s - loss: 3.7323 - acc: 0.046 - ETA: 0s - loss: 3.6887 - acc: 0.044 - ETA: 0s - loss: 3.5539 - acc: 0.062 - ETA: 0s - loss: 3.4353 - acc: 0.066 - ETA: 0s - loss: 3.3625 - acc: 0.063 - 3s 248ms/step - loss: 3.2997 - acc: 0.0610 - val_loss: 2.2748 - val_acc: 0.0789\n",
      "\n",
      "Epoch 00004: val_loss improved from 2.80407 to 2.27477, saving model to C:/Users/KaiPin Liao/Documents/kaggle_whales/weights.hdf5\n",
      "Epoch 5/30\n",
      "11/11 [==============================] - ETA: 0s - loss: 2.4597 - acc: 0.093 - ETA: 0s - loss: 2.5936 - acc: 0.140 - ETA: 0s - loss: 2.8597 - acc: 0.114 - ETA: 0s - loss: 2.7398 - acc: 0.123 - ETA: 0s - loss: 2.6943 - acc: 0.124 - ETA: 0s - loss: 2.6587 - acc: 0.110 - ETA: 0s - loss: 2.6223 - acc: 0.108 - ETA: 0s - loss: 2.5936 - acc: 0.107 - ETA: 0s - loss: 2.5783 - acc: 0.111 - 3s 279ms/step - loss: 2.5758 - acc: 0.1101 - val_loss: 2.3418 - val_acc: 0.1579\n",
      "\n",
      "Epoch 00005: val_loss did not improve from 2.27477\n",
      "Epoch 6/30\n",
      "11/11 [==============================] - ETA: 0s - loss: 2.2414 - acc: 0.125 - ETA: 0s - loss: 2.3337 - acc: 0.078 - ETA: 0s - loss: 2.3554 - acc: 0.083 - ETA: 0s - loss: 2.3776 - acc: 0.101 - ETA: 0s - loss: 2.3427 - acc: 0.131 - ETA: 0s - loss: 2.3489 - acc: 0.140 - ETA: 0s - loss: 2.3219 - acc: 0.151 - ETA: 0s - loss: 2.3141 - acc: 0.140 - ETA: 0s - loss: 2.3191 - acc: 0.138 - ETA: 0s - loss: 2.3093 - acc: 0.140 - 4s 328ms/step - loss: 2.3033 - acc: 0.1322 - val_loss: 2.2157 - val_acc: 0.1404\n",
      "\n",
      "Epoch 00006: val_loss improved from 2.27477 to 2.21569, saving model to C:/Users/KaiPin Liao/Documents/kaggle_whales/weights.hdf5\n",
      "Epoch 7/30\n",
      "11/11 [==============================] - ETA: 0s - loss: 2.3267 - acc: 0.125 - ETA: 0s - loss: 2.2398 - acc: 0.156 - ETA: 0s - loss: 2.2362 - acc: 0.177 - ETA: 0s - loss: 2.2183 - acc: 0.187 - ETA: 0s - loss: 2.1998 - acc: 0.187 - ETA: 0s - loss: 2.2076 - acc: 0.187 - ETA: 0s - loss: 2.2092 - acc: 0.174 - ETA: 0s - loss: 2.2068 - acc: 0.171 - ETA: 0s - loss: 2.2016 - acc: 0.180 - ETA: 0s - loss: 2.2134 - acc: 0.185 - 3s 307ms/step - loss: 2.2177 - acc: 0.1796 - val_loss: 2.3424 - val_acc: 0.1316\n",
      "\n",
      "Epoch 00007: val_loss did not improve from 2.21569\n",
      "Epoch 8/30\n",
      "11/11 [==============================] - ETA: 0s - loss: 2.4790 - acc: 0.218 - ETA: 0s - loss: 2.3115 - acc: 0.203 - ETA: 0s - loss: 2.2428 - acc: 0.187 - ETA: 0s - loss: 2.2011 - acc: 0.187 - ETA: 0s - loss: 2.1853 - acc: 0.206 - ETA: 0s - loss: 2.2291 - acc: 0.192 - ETA: 0s - loss: 2.2215 - acc: 0.192 - ETA: 0s - loss: 2.2460 - acc: 0.175 - ETA: 0s - loss: 2.2623 - acc: 0.176 - ETA: 0s - loss: 2.2737 - acc: 0.180 - 3s 263ms/step - loss: 2.2814 - acc: 0.1898 - val_loss: 2.1398 - val_acc: 0.1228\n",
      "\n",
      "Epoch 00008: val_loss improved from 2.21569 to 2.13985, saving model to C:/Users/KaiPin Liao/Documents/kaggle_whales/weights.hdf5\n",
      "Epoch 9/30\n",
      "11/11 [==============================] - ETA: 0s - loss: 2.1533 - acc: 0.136 - ETA: 0s - loss: 2.2037 - acc: 0.149 - ETA: 0s - loss: 2.2345 - acc: 0.159 - ETA: 0s - loss: 2.1939 - acc: 0.152 - ETA: 0s - loss: 2.1931 - acc: 0.152 - ETA: 0s - loss: 2.1623 - acc: 0.171 - ETA: 0s - loss: 2.1446 - acc: 0.200 - ETA: 0s - loss: 2.1502 - acc: 0.199 - ETA: 0s - loss: 2.1371 - acc: 0.185 - 3s 290ms/step - loss: 2.1420 - acc: 0.1773 - val_loss: 2.1345 - val_acc: 0.1491\n",
      "\n",
      "Epoch 00009: val_loss improved from 2.13985 to 2.13446, saving model to C:/Users/KaiPin Liao/Documents/kaggle_whales/weights.hdf5\n",
      "Epoch 10/30\n",
      "11/11 [==============================] - ETA: 0s - loss: 2.0554 - acc: 0.125 - ETA: 0s - loss: 2.1265 - acc: 0.156 - ETA: 0s - loss: 2.0849 - acc: 0.166 - ETA: 0s - loss: 2.1275 - acc: 0.156 - ETA: 0s - loss: 2.1166 - acc: 0.137 - ETA: 0s - loss: 2.1325 - acc: 0.156 - ETA: 0s - loss: 2.1413 - acc: 0.159 - ETA: 0s - loss: 2.1392 - acc: 0.159 - ETA: 0s - loss: 2.1446 - acc: 0.155 - ETA: 0s - loss: 2.1624 - acc: 0.158 - 3s 255ms/step - loss: 2.2121 - acc: 0.1585 - val_loss: 2.0619 - val_acc: 0.2807\n",
      "\n",
      "Epoch 00010: val_loss improved from 2.13446 to 2.06193, saving model to C:/Users/KaiPin Liao/Documents/kaggle_whales/weights.hdf5\n",
      "Epoch 11/30\n",
      "11/11 [==============================] - ETA: 0s - loss: 2.1972 - acc: 0.250 - ETA: 0s - loss: 2.2341 - acc: 0.187 - ETA: 0s - loss: 2.1268 - acc: 0.197 - ETA: 0s - loss: 2.1009 - acc: 0.210 - ETA: 0s - loss: 2.0830 - acc: 0.206 - ETA: 0s - loss: 2.1502 - acc: 0.203 - ETA: 0s - loss: 2.1626 - acc: 0.200 - ETA: 0s - loss: 2.1419 - acc: 0.222 - ETA: 0s - loss: 2.1174 - acc: 0.229 - ETA: 0s - loss: 2.1150 - acc: 0.225 - 3s 290ms/step - loss: 2.1147 - acc: 0.2171 - val_loss: 2.1186 - val_acc: 0.1754\n",
      "\n",
      "Epoch 00011: val_loss did not improve from 2.06193\n",
      "Epoch 12/30\n",
      "11/11 [==============================] - ETA: 0s - loss: 2.0312 - acc: 0.281 - ETA: 0s - loss: 2.0409 - acc: 0.197 - ETA: 0s - loss: 2.0170 - acc: 0.210 - ETA: 0s - loss: 2.0386 - acc: 0.205 - ETA: 0s - loss: 2.0405 - acc: 0.191 - ETA: 0s - loss: 2.0441 - acc: 0.182 - ETA: 0s - loss: 2.0382 - acc: 0.182 - ETA: 0s - loss: 2.0244 - acc: 0.186 - ETA: 0s - loss: 2.0285 - acc: 0.193 - 3s 276ms/step - loss: 2.0287 - acc: 0.1955 - val_loss: 2.0906 - val_acc: 0.1930\n",
      "\n",
      "Epoch 00012: val_loss did not improve from 2.06193\n",
      "Epoch 13/30\n",
      "11/11 [==============================] - ETA: 0s - loss: 2.0376 - acc: 0.156 - ETA: 0s - loss: 1.9823 - acc: 0.187 - ETA: 0s - loss: 1.9537 - acc: 0.229 - ETA: 0s - loss: 1.9334 - acc: 0.226 - ETA: 0s - loss: 1.9332 - acc: 0.225 - ETA: 0s - loss: 1.9531 - acc: 0.229 - ETA: 0s - loss: 1.9691 - acc: 0.227 - ETA: 0s - loss: 1.9666 - acc: 0.234 - ETA: 0s - loss: 1.9618 - acc: 0.228 - ETA: 0s - loss: 1.9652 - acc: 0.236 - 3s 298ms/step - loss: 1.9937 - acc: 0.2354 - val_loss: 2.0281 - val_acc: 0.1491\n",
      "\n",
      "Epoch 00013: val_loss improved from 2.06193 to 2.02811, saving model to C:/Users/KaiPin Liao/Documents/kaggle_whales/weights.hdf5\n",
      "Epoch 14/30\n"
     ]
    },
    {
     "name": "stdout",
     "output_type": "stream",
     "text": [
      "11/11 [==============================] - ETA: 0s - loss: 1.9468 - acc: 0.250 - ETA: 0s - loss: 2.0371 - acc: 0.234 - ETA: 0s - loss: 2.0764 - acc: 0.213 - ETA: 0s - loss: 2.0397 - acc: 0.202 - ETA: 0s - loss: 2.0183 - acc: 0.231 - ETA: 0s - loss: 1.9922 - acc: 0.247 - ETA: 0s - loss: 2.0216 - acc: 0.243 - ETA: 0s - loss: 2.0023 - acc: 0.233 - ETA: 0s - loss: 2.0204 - acc: 0.232 - 3s 299ms/step - loss: 2.0146 - acc: 0.2314 - val_loss: 2.0222 - val_acc: 0.1842\n",
      "\n",
      "Epoch 00014: val_loss improved from 2.02811 to 2.02224, saving model to C:/Users/KaiPin Liao/Documents/kaggle_whales/weights.hdf5\n",
      "Epoch 15/30\n",
      "11/11 [==============================] - ETA: 0s - loss: 1.9506 - acc: 0.187 - ETA: 0s - loss: 1.8944 - acc: 0.250 - ETA: 0s - loss: 1.8804 - acc: 0.239 - ETA: 0s - loss: 1.9411 - acc: 0.218 - ETA: 0s - loss: 1.9361 - acc: 0.218 - ETA: 0s - loss: 1.9185 - acc: 0.239 - ETA: 0s - loss: 1.9245 - acc: 0.227 - ETA: 0s - loss: 1.9338 - acc: 0.261 - ETA: 0s - loss: 1.9307 - acc: 0.277 - ETA: 0s - loss: 1.9227 - acc: 0.275 - 3s 308ms/step - loss: 1.9307 - acc: 0.2722 - val_loss: 2.0067 - val_acc: 0.2807\n",
      "\n",
      "Epoch 00015: val_loss improved from 2.02224 to 2.00671, saving model to C:/Users/KaiPin Liao/Documents/kaggle_whales/weights.hdf5\n",
      "Epoch 16/30\n",
      "11/11 [==============================] - ETA: 0s - loss: 1.7387 - acc: 0.218 - ETA: 0s - loss: 1.7605 - acc: 0.265 - ETA: 0s - loss: 1.8297 - acc: 0.291 - ETA: 0s - loss: 1.8406 - acc: 0.328 - ETA: 0s - loss: 1.9647 - acc: 0.306 - ETA: 0s - loss: 1.9877 - acc: 0.291 - ETA: 0s - loss: 1.9868 - acc: 0.272 - ETA: 0s - loss: 1.9708 - acc: 0.277 - ETA: 0s - loss: 1.9505 - acc: 0.276 - ETA: 0s - loss: 1.9450 - acc: 0.274 - 3s 275ms/step - loss: 1.9378 - acc: 0.2776 - val_loss: 1.9993 - val_acc: 0.2719\n",
      "\n",
      "Epoch 00016: val_loss improved from 2.00671 to 1.99931, saving model to C:/Users/KaiPin Liao/Documents/kaggle_whales/weights.hdf5\n",
      "Epoch 17/30\n",
      "11/11 [==============================] - ETA: 0s - loss: 1.7084 - acc: 0.500 - ETA: 0s - loss: 1.8467 - acc: 0.406 - ETA: 0s - loss: 1.9174 - acc: 0.333 - ETA: 0s - loss: 1.8530 - acc: 0.318 - ETA: 0s - loss: 1.8679 - acc: 0.329 - ETA: 0s - loss: 1.8603 - acc: 0.311 - ETA: 0s - loss: 1.8551 - acc: 0.297 - ETA: 0s - loss: 1.8825 - acc: 0.295 - ETA: 0s - loss: 1.8779 - acc: 0.297 - ETA: 0s - loss: 1.8931 - acc: 0.283 - 3s 314ms/step - loss: 1.8756 - acc: 0.3061 - val_loss: 2.1394 - val_acc: 0.2982\n",
      "\n",
      "Epoch 00017: val_loss did not improve from 1.99931\n",
      "Epoch 18/30\n",
      "11/11 [==============================] - ETA: 0s - loss: 1.8770 - acc: 0.187 - ETA: 0s - loss: 1.8578 - acc: 0.277 - ETA: 0s - loss: 1.8811 - acc: 0.286 - ETA: 0s - loss: 1.8692 - acc: 0.266 - ETA: 0s - loss: 1.8406 - acc: 0.289 - ETA: 0s - loss: 1.8214 - acc: 0.297 - ETA: 0s - loss: 1.7960 - acc: 0.307 - ETA: 0s - loss: 1.7752 - acc: 0.318 - ETA: 0s - loss: 1.7972 - acc: 0.320 - 3s 290ms/step - loss: 1.8035 - acc: 0.3199 - val_loss: 2.0847 - val_acc: 0.2632\n",
      "\n",
      "Epoch 00018: val_loss did not improve from 1.99931\n",
      "Epoch 19/30\n",
      "11/11 [==============================] - ETA: 0s - loss: 2.0709 - acc: 0.318 - ETA: 0s - loss: 1.9135 - acc: 0.362 - ETA: 0s - loss: 1.8740 - acc: 0.345 - ETA: 0s - loss: 1.8197 - acc: 0.415 - ETA: 0s - loss: 1.8380 - acc: 0.394 - ETA: 0s - loss: 1.8461 - acc: 0.386 - ETA: 0s - loss: 1.8207 - acc: 0.393 - ETA: 0s - loss: 1.8103 - acc: 0.407 - ETA: 0s - loss: 1.7967 - acc: 0.389 - ETA: 0s - loss: 1.7882 - acc: 0.391 - 3s 296ms/step - loss: 1.8004 - acc: 0.3870 - val_loss: 1.8848 - val_acc: 0.3158\n",
      "\n",
      "Epoch 00019: val_loss improved from 1.99931 to 1.88484, saving model to C:/Users/KaiPin Liao/Documents/kaggle_whales/weights.hdf5\n",
      "Epoch 20/30\n",
      "11/11 [==============================] - ETA: 0s - loss: 1.4977 - acc: 0.437 - ETA: 0s - loss: 1.5156 - acc: 0.406 - ETA: 0s - loss: 1.6457 - acc: 0.396 - ETA: 0s - loss: 1.6385 - acc: 0.379 - ETA: 0s - loss: 1.6164 - acc: 0.384 - ETA: 0s - loss: 1.6254 - acc: 0.396 - ETA: 0s - loss: 1.6256 - acc: 0.393 - ETA: 0s - loss: 1.6781 - acc: 0.408 - ETA: 0s - loss: 1.6990 - acc: 0.405 - 3s 279ms/step - loss: 1.6971 - acc: 0.3973 - val_loss: 1.8980 - val_acc: 0.2807\n",
      "\n",
      "Epoch 00020: val_loss did not improve from 1.88484\n",
      "Epoch 21/30\n",
      "11/11 [==============================] - ETA: 0s - loss: 1.8632 - acc: 0.281 - ETA: 0s - loss: 1.7849 - acc: 0.312 - ETA: 0s - loss: 1.8009 - acc: 0.354 - ETA: 0s - loss: 1.7678 - acc: 0.359 - ETA: 0s - loss: 1.7722 - acc: 0.350 - ETA: 0s - loss: 1.7694 - acc: 0.369 - ETA: 0s - loss: 1.7371 - acc: 0.370 - ETA: 0s - loss: 1.7188 - acc: 0.378 - ETA: 0s - loss: 1.7221 - acc: 0.364 - ETA: 0s - loss: 1.7213 - acc: 0.362 - 4s 373ms/step - loss: 1.6943 - acc: 0.3828 - val_loss: 1.9650 - val_acc: 0.2982\n",
      "\n",
      "Epoch 00021: val_loss did not improve from 1.88484\n",
      "Epoch 22/30\n",
      "11/11 [==============================] - ETA: 0s - loss: 1.4797 - acc: 0.406 - ETA: 0s - loss: 1.5381 - acc: 0.390 - ETA: 0s - loss: 1.5836 - acc: 0.364 - ETA: 0s - loss: 1.5918 - acc: 0.398 - ETA: 0s - loss: 1.5951 - acc: 0.387 - ETA: 0s - loss: 1.5990 - acc: 0.390 - ETA: 0s - loss: 1.5944 - acc: 0.392 - ETA: 0s - loss: 1.6009 - acc: 0.394 - ETA: 0s - loss: 1.6170 - acc: 0.378 - ETA: 0s - loss: 1.6174 - acc: 0.387 - 3s 304ms/step - loss: 1.6340 - acc: 0.3934 - val_loss: 1.8731 - val_acc: 0.3421\n",
      "\n",
      "Epoch 00022: val_loss improved from 1.88484 to 1.87312, saving model to C:/Users/KaiPin Liao/Documents/kaggle_whales/weights.hdf5\n",
      "Epoch 23/30\n",
      "11/11 [==============================] - ETA: 0s - loss: 1.4223 - acc: 0.406 - ETA: 0s - loss: 1.4624 - acc: 0.484 - ETA: 0s - loss: 1.4859 - acc: 0.458 - ETA: 0s - loss: 1.4993 - acc: 0.421 - ETA: 0s - loss: 1.5172 - acc: 0.406 - ETA: 0s - loss: 1.4934 - acc: 0.427 - ETA: 0s - loss: 1.5350 - acc: 0.410 - ETA: 0s - loss: 1.5412 - acc: 0.429 - ETA: 0s - loss: 1.5139 - acc: 0.442 - ETA: 0s - loss: 1.5132 - acc: 0.445 - 4s 345ms/step - loss: 1.5201 - acc: 0.4357 - val_loss: 1.9774 - val_acc: 0.2368\n",
      "\n",
      "Epoch 00023: val_loss did not improve from 1.87312\n",
      "Epoch 24/30\n",
      "11/11 [==============================] - ETA: 0s - loss: 1.6223 - acc: 0.437 - ETA: 0s - loss: 1.6527 - acc: 0.437 - ETA: 0s - loss: 1.5617 - acc: 0.458 - ETA: 0s - loss: 1.5075 - acc: 0.460 - ETA: 0s - loss: 1.4764 - acc: 0.468 - ETA: 0s - loss: 1.4798 - acc: 0.463 - ETA: 0s - loss: 1.4420 - acc: 0.500 - ETA: 0s - loss: 1.4104 - acc: 0.507 - ETA: 0s - loss: 1.4611 - acc: 0.506 - ETA: 0s - loss: 1.5555 - acc: 0.479 - 4s 361ms/step - loss: 1.5573 - acc: 0.4758 - val_loss: 1.8147 - val_acc: 0.3246\n",
      "\n",
      "Epoch 00024: val_loss improved from 1.87312 to 1.81469, saving model to C:/Users/KaiPin Liao/Documents/kaggle_whales/weights.hdf5\n",
      "Epoch 25/30\n",
      "11/11 [==============================] - ETA: 0s - loss: 1.4700 - acc: 0.312 - ETA: 0s - loss: 1.3964 - acc: 0.437 - ETA: 0s - loss: 1.3994 - acc: 0.447 - ETA: 0s - loss: 1.3997 - acc: 0.483 - ETA: 0s - loss: 1.3857 - acc: 0.480 - ETA: 0s - loss: 1.3851 - acc: 0.463 - ETA: 0s - loss: 1.4243 - acc: 0.463 - ETA: 0s - loss: 1.4409 - acc: 0.472 - ETA: 0s - loss: 1.4393 - acc: 0.468 - ETA: 0s - loss: 1.4389 - acc: 0.465 - 4s 347ms/step - loss: 1.4361 - acc: 0.4596 - val_loss: 1.8196 - val_acc: 0.4474\n",
      "\n",
      "Epoch 00025: val_loss did not improve from 1.81469\n",
      "Epoch 26/30\n",
      "11/11 [==============================] - ETA: 0s - loss: 1.2952 - acc: 0.545 - ETA: 0s - loss: 1.2449 - acc: 0.522 - ETA: 0s - loss: 1.2685 - acc: 0.536 - ETA: 0s - loss: 1.2699 - acc: 0.542 - ETA: 0s - loss: 1.3193 - acc: 0.534 - ETA: 0s - loss: 1.3059 - acc: 0.538 - ETA: 0s - loss: 1.3103 - acc: 0.546 - ETA: 0s - loss: 1.3141 - acc: 0.536 - ETA: 0s - loss: 1.3433 - acc: 0.525 - ETA: 0s - loss: 1.3407 - acc: 0.507 - 3s 316ms/step - loss: 1.3555 - acc: 0.5097 - val_loss: 1.9903 - val_acc: 0.3772\n",
      "\n",
      "Epoch 00026: val_loss did not improve from 1.81469\n",
      "Epoch 27/30\n",
      "11/11 [==============================] - ETA: 0s - loss: 1.4473 - acc: 0.312 - ETA: 0s - loss: 1.3806 - acc: 0.453 - ETA: 0s - loss: 1.4266 - acc: 0.447 - ETA: 0s - loss: 1.3761 - acc: 0.500 - ETA: 0s - loss: 1.3794 - acc: 0.493 - ETA: 0s - loss: 1.4097 - acc: 0.500 - ETA: 0s - loss: 1.3872 - acc: 0.500 - ETA: 0s - loss: 1.3861 - acc: 0.488 - ETA: 0s - loss: 1.3849 - acc: 0.503 - ETA: 0s - loss: 1.3797 - acc: 0.509 - 4s 358ms/step - loss: 1.3701 - acc: 0.5290 - val_loss: 1.9359 - val_acc: 0.4211\n"
     ]
    },
    {
     "name": "stdout",
     "output_type": "stream",
     "text": [
      "\n",
      "Epoch 00027: val_loss did not improve from 1.81469\n",
      "Epoch 28/30\n",
      "11/11 [==============================] - ETA: 0s - loss: 1.4545 - acc: 0.409 - ETA: 0s - loss: 1.3448 - acc: 0.532 - ETA: 0s - loss: 1.3780 - acc: 0.542 - ETA: 0s - loss: 1.3706 - acc: 0.586 - ETA: 0s - loss: 1.3509 - acc: 0.588 - ETA: 0s - loss: 1.3378 - acc: 0.589 - ETA: 0s - loss: 1.3107 - acc: 0.562 - ETA: 0s - loss: 1.3122 - acc: 0.547 - ETA: 0s - loss: 1.2999 - acc: 0.552 - ETA: 0s - loss: 1.3264 - acc: 0.556 - 3s 309ms/step - loss: 1.3508 - acc: 0.5546 - val_loss: 1.9170 - val_acc: 0.4386\n",
      "\n",
      "Epoch 00028: val_loss did not improve from 1.81469\n",
      "Epoch 29/30\n",
      "11/11 [==============================] - ETA: 0s - loss: 1.1446 - acc: 0.656 - ETA: 0s - loss: 1.1690 - acc: 0.640 - ETA: 0s - loss: 1.2635 - acc: 0.639 - ETA: 0s - loss: 1.3209 - acc: 0.604 - ETA: 0s - loss: 1.3165 - acc: 0.577 - ETA: 0s - loss: 1.2520 - acc: 0.606 - ETA: 0s - loss: 1.2554 - acc: 0.599 - ETA: 0s - loss: 1.2472 - acc: 0.595 - ETA: 0s - loss: 1.2162 - acc: 0.602 - ETA: 0s - loss: 1.2281 - acc: 0.591 - 4s 354ms/step - loss: 1.2213 - acc: 0.5861 - val_loss: 2.0465 - val_acc: 0.3684\n",
      "\n",
      "Epoch 00029: val_loss did not improve from 1.81469\n",
      "Epoch 30/30\n",
      "11/11 [==============================] - ETA: 0s - loss: 1.0835 - acc: 0.687 - ETA: 0s - loss: 1.1798 - acc: 0.609 - ETA: 0s - loss: 1.1565 - acc: 0.593 - ETA: 0s - loss: 1.1455 - acc: 0.593 - ETA: 0s - loss: 1.2209 - acc: 0.593 - ETA: 0s - loss: 1.2146 - acc: 0.578 - ETA: 0s - loss: 1.2127 - acc: 0.580 - ETA: 0s - loss: 1.2378 - acc: 0.570 - ETA: 0s - loss: 1.2106 - acc: 0.579 - ETA: 0s - loss: 1.1932 - acc: 0.590 - 3s 299ms/step - loss: 1.2110 - acc: 0.5816 - val_loss: 1.8855 - val_acc: 0.4298\n",
      "\n",
      "Epoch 00030: val_loss did not improve from 1.81469\n"
     ]
    }
   ],
   "source": [
    "history = model.fit_generator(train_generator, \n",
    "                              validation_data = validation_generator,\n",
    "                              epochs = 30,\n",
    "                              verbose = 2,\n",
    "                              callbacks=[ModelCheckpoint(\"C:/Users/KaiPin Liao/Documents/kaggle_whales/weights.hdf5\", \n",
    "                                                          monitor='val_loss',\n",
    "                                                          save_best_only=True, mode='auto', period=1, verbose=1), history]\n",
    "                             )"
   ]
  },
  {
   "cell_type": "code",
   "execution_count": 46,
   "metadata": {},
   "outputs": [
    {
     "name": "stdout",
     "output_type": "stream",
     "text": [
      "dict_keys(['val_loss', 'val_acc', 'loss', 'acc'])\n"
     ]
    },
    {
     "data": {
      "image/png": "[encoded data removed]",
      "text/plain": [
       "<matplotlib.figure.Figure at 0x21efad80f28>"
      ]
     },
     "metadata": {},
     "output_type": "display_data"
    },
    {
     "data": {
      "image/png": "[encoded data removed]",
      "text/plain": [
       "<matplotlib.figure.Figure at 0x21efaab4358>"
      ]
     },
     "metadata": {},
     "output_type": "display_data"
    }
   ],
   "source": [
    "# list all data in history\n",
    "print(history.history.keys())\n",
    "\n",
    "# summarize history for accuracy\n",
    "plt.plot(history.history['acc'])\n",
    "plt.plot(history.history['val_acc'])\n",
    "plt.title('model accuracy')\n",
    "plt.ylabel('accuracy')\n",
    "plt.xlabel('epoch')\n",
    "plt.legend(['train', 'test'], loc='upper left')\n",
    "# plt.legend(['train'], loc='upper left')\n",
    "plt.show()\n",
    "\n",
    "# summarize history for loss\n",
    "plt.plot(history.history['loss'])\n",
    "plt.plot(history.history['val_loss'])\n",
    "plt.title('model loss')\n",
    "plt.ylabel('loss')\n",
    "plt.xlabel('epoch')\n",
    "plt.legend(['train', 'test'], loc='upper left')\n",
    "# plt.legend(['train'], loc='upper left')\n",
    "plt.show()"
   ]
  },
  {
   "cell_type": "code",
   "execution_count": 47,
   "metadata": {},
   "outputs": [
    {
     "data": {
      "text/plain": [
       "1.8855085414752626"
      ]
     },
     "execution_count": 47,
     "metadata": {},
     "output_type": "execute_result"
    }
   ],
   "source": [
    "history.history['val_loss'][-1]"
   ]
  },
  {
   "cell_type": "code",
   "execution_count": 49,
   "metadata": {
    "collapsed": true
   },
   "outputs": [],
   "source": [
    "model.load_weights(\"C:/Users/KaiPin Liao/Documents/kaggle_whales/weights.hdf5\")"
   ]
  },
  {
   "cell_type": "code",
   "execution_count": 50,
   "metadata": {},
   "outputs": [
    {
     "data": {
      "text/plain": [
       "(1.8146933840032209, 0.32456140507731523)"
      ]
     },
     "execution_count": 50,
     "metadata": {},
     "output_type": "execute_result"
    }
   ],
   "source": [
    "model_val_loss, model_acc = model.evaluate_generator(generator = validation_generator)\n",
    "model_val_loss, model_acc"
   ]
  },
  {
   "cell_type": "code",
   "execution_count": 51,
   "metadata": {},
   "outputs": [
    {
     "name": "stdout",
     "output_type": "stream",
     "text": [
      "_________________________________________________________________\n",
      "Layer (type)                 Output Shape              Param #   \n",
      "=================================================================\n",
      "conv2d_7 (Conv2D)            (None, 30, 30, 32)        896       \n",
      "_________________________________________________________________\n",
      "activation_11 (Activation)   (None, 30, 30, 32)        0         \n",
      "_________________________________________________________________\n",
      "max_pooling2d_7 (MaxPooling2 (None, 15, 15, 32)        0         \n",
      "_________________________________________________________________\n",
      "conv2d_8 (Conv2D)            (None, 13, 13, 32)        9248      \n",
      "_________________________________________________________________\n",
      "activation_12 (Activation)   (None, 13, 13, 32)        0         \n",
      "_________________________________________________________________\n",
      "max_pooling2d_8 (MaxPooling2 (None, 6, 6, 32)          0         \n",
      "_________________________________________________________________\n",
      "conv2d_9 (Conv2D)            (None, 4, 4, 64)          18496     \n",
      "_________________________________________________________________\n",
      "activation_13 (Activation)   (None, 4, 4, 64)          0         \n",
      "_________________________________________________________________\n",
      "max_pooling2d_9 (MaxPooling2 (None, 2, 2, 64)          0         \n",
      "_________________________________________________________________\n",
      "flatten_3 (Flatten)          (None, 256)               0         \n",
      "_________________________________________________________________\n",
      "dense_5 (Dense)              (None, 64)                16448     \n",
      "_________________________________________________________________\n",
      "activation_14 (Activation)   (None, 64)                0         \n",
      "_________________________________________________________________\n",
      "dropout_3 (Dropout)          (None, 64)                0         \n",
      "_________________________________________________________________\n",
      "dense_6 (Dense)              (None, 10)                650       \n",
      "_________________________________________________________________\n",
      "activation_15 (Activation)   (None, 10)                0         \n",
      "=================================================================\n",
      "Total params: 45,738\n",
      "Trainable params: 45,738\n",
      "Non-trainable params: 0\n",
      "_________________________________________________________________\n"
     ]
    }
   ],
   "source": [
    "model.summary()"
   ]
  },
  {
   "cell_type": "code",
   "execution_count": 53,
   "metadata": {},
   "outputs": [
    {
     "name": "stdout",
     "output_type": "stream",
     "text": [
      "3.6.2 |Anaconda custom (64-bit)| (default, Jul 20 2017, 12:30:02) [MSC v.1900 64 bit (AMD64)]\n"
     ]
    }
   ],
   "source": [
    "import sys\n",
    "print(sys.version)"
   ]
  },
  {
   "cell_type": "code",
   "execution_count": 54,
   "metadata": {},
   "outputs": [
    {
     "data": {
      "text/plain": [
       "'1.8.0'"
      ]
     },
     "execution_count": 54,
     "metadata": {},
     "output_type": "execute_result"
    }
   ],
   "source": [
    "import tensorflow as tf\n",
    "tf.VERSION"
   ]
  },
  {
   "cell_type": "code",
   "execution_count": 59,
   "metadata": {},
   "outputs": [
    {
     "name": "stdout",
     "output_type": "stream",
     "text": [
      "Processing c:\\users\\kaipin liao\\documents\\kaggle_whales\\tensorflow-1.8.0-cp36-cp36m-win_amd64.whl\n",
      "Collecting wheel>=0.26 (from tensorflow==1.8.0)\n",
      "  Downloading https://files.pythonhosted.org/packages/ff/47/1dfa4795e24fd6f93d5d58602dd716c3f101cfd5a77cd9acbe519b44a0a9/wheel-0.32.3-py2.py3-none-any.whl\n",
      "Collecting numpy>=1.13.3 (from tensorflow==1.8.0)\n",
      "  Downloading https://files.pythonhosted.org/packages/51/70/7096a735b27359dbc0c380b23b9c9bd05fea62233f95849c43a6b02c5f40/numpy-1.15.4-cp36-none-win_amd64.whl (13.5MB)\n",
      "Collecting absl-py>=0.1.6 (from tensorflow==1.8.0)\n",
      "  Downloading https://files.pythonhosted.org/packages/0c/63/f505d2d4c21db849cf80bad517f0065a30be6b006b0a5637f1b95584a305/absl-py-0.6.1.tar.gz (94kB)\n",
      "Collecting tensorboard<1.9.0,>=1.8.0 (from tensorflow==1.8.0)\n",
      "  Using cached https://files.pythonhosted.org/packages/59/a6/0ae6092b7542cfedba6b2a1c9b8dceaf278238c39484f3ba03b03f07803c/tensorboard-1.8.0-py3-none-any.whl\n",
      "Collecting astor>=0.6.0 (from tensorflow==1.8.0)\n",
      "  Using cached https://files.pythonhosted.org/packages/35/6b/11530768cac581a12952a2aad00e1526b89d242d0b9f59534ef6e6a1752f/astor-0.7.1-py2.py3-none-any.whl\n",
      "Collecting six>=1.10.0 (from tensorflow==1.8.0)\n",
      "  Downloading https://files.pythonhosted.org/packages/73/fb/00a976f728d0d1fecfe898238ce23f502a721c0ac0ecfedb80e0d88c64e9/six-1.12.0-py2.py3-none-any.whl\n",
      "Collecting termcolor>=1.1.0 (from tensorflow==1.8.0)\n",
      "Collecting gast>=0.2.0 (from tensorflow==1.8.0)\n",
      "  Downloading https://files.pythonhosted.org/packages/33/35/f7d7f3d1a63a2b32f1f54bf342ec9af2bb411f2a82d94cf5b88381d9dbd5/gast-0.2.1.post0.tar.gz\n",
      "Collecting grpcio>=1.8.6 (from tensorflow==1.8.0)\n",
      "  Downloading https://files.pythonhosted.org/packages/ee/50/94c8c01e91508ebe4c83e980029a5329d1bcc89d37f01cf9e214c6e7f42d/grpcio-1.17.1-cp36-cp36m-win_amd64.whl (1.5MB)\n",
      "Collecting protobuf>=3.4.0 (from tensorflow==1.8.0)\n",
      "  Downloading https://files.pythonhosted.org/packages/e8/df/d606d07cff0fc8d22abcc54006c0247002d11a7f2d218eb008d48e76851d/protobuf-3.6.1-cp36-cp36m-win_amd64.whl (1.1MB)\n",
      "Collecting werkzeug>=0.11.10 (from tensorboard<1.9.0,>=1.8.0->tensorflow==1.8.0)\n",
      "  Using cached https://files.pythonhosted.org/packages/20/c4/12e3e56473e52375aa29c4764e70d1b8f3efa6682bef8d0aae04fe335243/Werkzeug-0.14.1-py2.py3-none-any.whl\n",
      "Collecting bleach==1.5.0 (from tensorboard<1.9.0,>=1.8.0->tensorflow==1.8.0)\n",
      "  Downloading https://files.pythonhosted.org/packages/33/70/86c5fec937ea4964184d4d6c4f0b9551564f821e1c3575907639036d9b90/bleach-1.5.0-py2.py3-none-any.whl\n",
      "Collecting html5lib==0.9999999 (from tensorboard<1.9.0,>=1.8.0->tensorflow==1.8.0)\n",
      "  Downloading https://files.pythonhosted.org/packages/ae/ae/bcb60402c60932b32dfaf19bb53870b29eda2cd17551ba5639219fb5ebf9/html5lib-0.9999999.tar.gz (889kB)\n",
      "Collecting markdown>=2.6.8 (from tensorboard<1.9.0,>=1.8.0->tensorflow==1.8.0)\n",
      "  Downloading https://files.pythonhosted.org/packages/7a/6b/5600647404ba15545ec37d2f7f58844d690baf2f81f3a60b862e48f29287/Markdown-3.0.1-py2.py3-none-any.whl (89kB)\n",
      "Collecting setuptools (from protobuf>=3.4.0->tensorflow==1.8.0)\n",
      "  Downloading https://files.pythonhosted.org/packages/37/06/754589caf971b0d2d48f151c2586f62902d93dc908e2fd9b9b9f6aa3c9dd/setuptools-40.6.3-py2.py3-none-any.whl (573kB)\n",
      "Building wheels for collected packages: absl-py, gast, html5lib\n",
      "  Running setup.py bdist_wheel for absl-py: started\n",
      "  Running setup.py bdist_wheel for absl-py: finished with status 'done'\n",
      "  Stored in directory: C:\\Users\\KaiPin Liao\\AppData\\Local\\pip\\Cache\\wheels\\18\\ea\\5e\\e36e1b8739e78cd2eba0a08fdc602c2b16a4b263912af8cb64\n",
      "  Running setup.py bdist_wheel for gast: started\n",
      "  Running setup.py bdist_wheel for gast: finished with status 'done'\n",
      "  Stored in directory: C:\\Users\\KaiPin Liao\\AppData\\Local\\pip\\Cache\\wheels\\22\\23\\b9\\41b006b82e3f985bbf7e9fec3bea7b1cb8a1ef39586eada6dd\n",
      "  Running setup.py bdist_wheel for html5lib: started\n",
      "  Running setup.py bdist_wheel for html5lib: finished with status 'done'\n",
      "  Stored in directory: C:\\Users\\KaiPin Liao\\AppData\\Local\\pip\\Cache\\wheels\\50\\ae\\f9\\d2b189788efcf61d1ee0e36045476735c838898eef1cad6e29\n",
      "Successfully built absl-py gast html5lib\n",
      "Installing collected packages: wheel, numpy, six, absl-py, werkzeug, html5lib, bleach, markdown, setuptools, protobuf, tensorboard, astor, termcolor, gast, grpcio, tensorflow\n"
     ]
    },
    {
     "name": "stderr",
     "output_type": "stream",
     "text": [
      "Could not install packages due to an EnvironmentError: [WinError 5] Access is denied: 'c:\\\\anaconda3\\\\Lib\\\\site-packages\\\\numpy\\\\core\\\\multiarray.cp36-win_amd64.pyd'\n",
      "Consider using the `--user` option or check the permissions.\n",
      "\n"
     ]
    }
   ],
   "source": [
    "!pip install --ignore-installed --upgrade \"C:/Users/KaiPin Liao/Documents/kaggle_whales/tensorflow-1.8.0-cp36-cp36m-win_amd64.whl\""
   ]
  },
  {
   "cell_type": "code",
   "execution_count": 60,
   "metadata": {},
   "outputs": [
    {
     "data": {
      "text/plain": [
       "'C:\\\\Anaconda3\\\\Library\\\\bin;C:\\\\Anaconda3\\\\Library\\\\bin;C:\\\\Anaconda3\\\\Scripts;C:\\\\Anaconda3\\\\Library\\\\bin;C:\\\\Anaconda3;C:\\\\Anaconda3\\\\Library\\\\mingw-w64\\\\bin;C:\\\\Anaconda3\\\\Library\\\\usr\\\\bin;C:\\\\Anaconda3\\\\Library\\\\bin;C:\\\\Anaconda3\\\\Scripts;C:\\\\Anaconda3\\\\bin;C:\\\\Program Files (x86)\\\\Common Files\\\\Oracle\\\\Java\\\\javapath;C:\\\\Program Files (x86)\\\\Intel\\\\iCLS Client\\\\;C:\\\\Program Files (x86)\\\\RSA SecurID Token Common;C:\\\\Program Files\\\\RSA SecurID Token Common;C:\\\\ProgramData\\\\Oracle\\\\Java\\\\javapath;C:\\\\Program Files\\\\Intel\\\\iCLS Client\\\\;C:\\\\Windows\\\\system32;C:\\\\Windows;C:\\\\Windows\\\\System32\\\\Wbem;C:\\\\Windows\\\\System32\\\\WindowsPowerShell\\\\v1.0\\\\;c:\\\\Program Files (x86)\\\\Box\\\\Box Edit\\\\;C:\\\\Program Files (x86)\\\\IBM\\\\Notes;C:\\\\Program Files\\\\Intel\\\\WiFi\\\\bin\\\\;C:\\\\Program Files\\\\Common Files\\\\Intel\\\\WirelessCommon\\\\;C:\\\\Program Files\\\\dotnet\\\\;C:\\\\Program Files\\\\PuTTY\\\\;C:\\\\Program Files (x86)\\\\Intel\\\\Intel(R) Management Engine Components\\\\DAL;C:\\\\Program Files\\\\Intel\\\\Intel(R) Management Engine Components\\\\DAL;C:\\\\Program Files (x86)\\\\Intel\\\\Intel(R) Management Engine Components\\\\IPT;C:\\\\Program Files\\\\Intel\\\\Intel(R) Management Engine Components\\\\IPT;C:\\\\Program Files\\\\nodejs\\\\;C:\\\\Users\\\\KaiPin Liao\\\\AppData\\\\Local\\\\Microsoft\\\\WindowsApps;C:\\\\Program Files\\\\Intel\\\\WiFi\\\\bin\\\\;C:\\\\Program Files\\\\Common Files\\\\Intel\\\\WirelessCommon\\\\;C:\\\\Users\\\\KaiPin Liao\\\\AppData\\\\Local\\\\Programs\\\\Git\\\\cmd;C:\\\\Users\\\\KaiPin Liao\\\\AppData\\\\Local\\\\Programs\\\\Git\\\\mingw64\\\\bin;C:\\\\Users\\\\KaiPin Liao\\\\AppData\\\\Local\\\\Programs\\\\Git\\\\usr\\\\bin;C:\\\\Program Files (x86)\\\\Sophos\\\\Sophos SSL VPN Client\\\\bin;C:\\\\TDM-GCC-64\\\\bin;C:\\\\Exercism;C:\\\\Users\\\\KaiPin Liao\\\\AppData\\\\Local\\\\GitHubDesktop\\\\bin;C:\\\\Users\\\\KaiPin Liao\\\\AppData\\\\Roaming\\\\npm;C:\\\\Anaconda3\\\\lib\\\\site-packages\\\\numpy\\\\.libs'"
      ]
     },
     "execution_count": 60,
     "metadata": {},
     "output_type": "execute_result"
    }
   ],
   "source": [
    "os.environ[\"PATH\"]"
   ]
  },
  {
   "cell_type": "code",
   "execution_count": null,
   "metadata": {
    "collapsed": true
   },
   "outputs": [],
   "source": []
  }
 ],
 "metadata": {
  "kernelspec": {
   "display_name": "Python 3",
   "language": "python",
   "name": "python3"
  },
  "language_info": {
   "codemirror_mode": {
    "name": "ipython",
    "version": 3
   },
   "file_extension": ".py",
   "mimetype": "text/x-python",
   "name": "python",
   "nbconvert_exporter": "python",
   "pygments_lexer": "ipython3",
   "version": "3.6.2"
  }
 },
 "nbformat": 4,
 "nbformat_minor": 2
}
