{
 "cells": [
  {
   "cell_type": "code",
   "execution_count": null,
   "metadata": {
    "collapsed": true
   },
   "outputs": [],
   "source": [
    "# https://blog.keras.io/building-powerful-image-classification-models-using-very-little-data.html"
   ]
  },
  {
   "cell_type": "code",
   "execution_count": 1,
   "metadata": {},
   "outputs": [
    {
     "name": "stderr",
     "output_type": "stream",
     "text": [
      "C:\\Anaconda3\\lib\\site-packages\\h5py\\__init__.py:36: FutureWarning: Conversion of the second argument of issubdtype from `float` to `np.floating` is deprecated. In future, it will be treated as `np.float64 == np.dtype(float).type`.\n",
      "  from ._conv import register_converters as _register_converters\n",
      "Using TensorFlow backend.\n"
     ]
    }
   ],
   "source": [
    "import keras\n",
    "import os\n",
    "import numpy as np\n",
    "from tqdm import tqdm\n",
    "from keras.preprocessing.image import ImageDataGenerator, array_to_img, img_to_array, load_img\n",
    "import matplotlib.pyplot as plt\n",
    "\n",
    "from keras.models import Sequential\n",
    "from keras.layers import Conv2D, MaxPooling2D\n",
    "from keras.layers import Activation, Dropout, Flatten, Dense"
   ]
  },
  {
   "cell_type": "code",
   "execution_count": 51,
   "metadata": {
    "collapsed": true
   },
   "outputs": [],
   "source": [
    "target_height = 32\n",
    "target_width  = 32\n",
    "target_channel = 3"
   ]
  },
  {
   "cell_type": "code",
   "execution_count": 52,
   "metadata": {
    "collapsed": true
   },
   "outputs": [],
   "source": [
    "data_version_number = '0_1'"
   ]
  },
  {
   "cell_type": "code",
   "execution_count": 53,
   "metadata": {
    "collapsed": true
   },
   "outputs": [],
   "source": [
    "TRAIN_PATH = 'C:/Users/KaiPin Liao/Documents/kaggle_whales/data/train_' + data_version_number + '/'\n",
    "VALIDATION_PATH = 'C:/Users/KaiPin Liao/Documents/kaggle_whales/data/validation_' + data_version_number + '/'\n",
    "TEST_PATH  = 'C:/Users/KaiPin Liao/Documents/kaggle_whales/data/test_' + data_version_number + '/'"
   ]
  },
  {
   "cell_type": "code",
   "execution_count": 63,
   "metadata": {},
   "outputs": [],
   "source": [
    "model = Sequential()\n",
    "model.add(Conv2D(32, (3, 3), input_shape=(target_height, target_width, target_channel)))\n",
    "model.add(Activation('relu'))\n",
    "model.add(MaxPooling2D(pool_size=(2, 2)))\n",
    "\n",
    "model.add(Conv2D(32, (3, 3)))\n",
    "model.add(Activation('relu'))\n",
    "model.add(MaxPooling2D(pool_size=(2, 2)))\n",
    "\n",
    "model.add(Conv2D(64, (3, 3)))\n",
    "model.add(Activation('relu'))\n",
    "model.add(MaxPooling2D(pool_size=(2, 2)))\n",
    "\n",
    "# the model so far outputs 3D feature maps (height, width, features)\n",
    "\n",
    "model.add(Flatten())  # this converts our 3D feature maps to 1D feature vectors\n",
    "model.add(Dense(64))\n",
    "model.add(Activation('relu'))\n",
    "model.add(Dropout(0.5))\n",
    "model.add(Dense(10))\n",
    "model.add(Activation('sigmoid'))\n",
    "\n",
    "model.compile(loss='categorical_crossentropy',\n",
    "              optimizer='rmsprop',\n",
    "              metrics=['accuracy'])"
   ]
  },
  {
   "cell_type": "code",
   "execution_count": 64,
   "metadata": {
    "collapsed": true
   },
   "outputs": [],
   "source": [
    "train_datagen = ImageDataGenerator()\n",
    "test_datagen = ImageDataGenerator()\n",
    "\n",
    "history = keras.callbacks.History()"
   ]
  },
  {
   "cell_type": "code",
   "execution_count": 65,
   "metadata": {},
   "outputs": [
    {
     "name": "stdout",
     "output_type": "stream",
     "text": [
      "Found 342 images belonging to 10 classes.\n",
      "Found 114 images belonging to 10 classes.\n"
     ]
    }
   ],
   "source": [
    "train_generator = train_datagen.flow_from_directory(TRAIN_PATH, \n",
    "                                                    target_size = (target_height, target_width)\n",
    "#                                                     color_mode = 'grayscale'\n",
    "                                                   )\n",
    "\n",
    "validation_generator = test_datagen.flow_from_directory(VALIDATION_PATH, \n",
    "                                                    target_size = (target_height, target_width)\n",
    "#                                                     color_mode = 'grayscale'\n",
    "                                                   )"
   ]
  },
  {
   "cell_type": "code",
   "execution_count": 66,
   "metadata": {},
   "outputs": [
    {
     "name": "stdout",
     "output_type": "stream",
     "text": [
      "Epoch 1/100\n",
      "11/11 [==============================] - ETA: 9s - loss: 6.2682 - acc: 0.031 - ETA: 4s - loss: 6.2182 - acc: 0.078 - ETA: 2s - loss: 6.7366 - acc: 0.104 - ETA: 2s - loss: 6.4895 - acc: 0.109 - ETA: 1s - loss: 6.8210 - acc: 0.106 - ETA: 1s - loss: 6.6057 - acc: 0.093 - ETA: 1s - loss: 6.4493 - acc: 0.102 - ETA: 0s - loss: 6.2814 - acc: 0.101 - ETA: 0s - loss: 6.2782 - acc: 0.100 - ETA: 0s - loss: 6.2797 - acc: 0.096 - 4s 377ms/step - loss: 6.3426 - acc: 0.0907 - val_loss: 4.5373 - val_acc: 0.1228\n",
      "Epoch 2/100\n",
      "11/11 [==============================] - ETA: 0s - loss: 5.9708 - acc: 0.156 - ETA: 0s - loss: 6.1392 - acc: 0.109 - ETA: 0s - loss: 5.4137 - acc: 0.145 - ETA: 0s - loss: 5.4754 - acc: 0.125 - ETA: 0s - loss: 5.4190 - acc: 0.125 - ETA: 0s - loss: 5.2668 - acc: 0.125 - ETA: 0s - loss: 5.1855 - acc: 0.138 - ETA: 0s - loss: 5.1020 - acc: 0.136 - ETA: 0s - loss: 5.0422 - acc: 0.121 - ETA: 0s - loss: 4.9785 - acc: 0.112 - 3s 239ms/step - loss: 4.9477 - acc: 0.1025 - val_loss: 3.5403 - val_acc: 0.0877\n",
      "Epoch 3/100\n",
      "11/11 [==============================] - ETA: 0s - loss: 2.5094 - acc: 0.187 - ETA: 0s - loss: 3.3414 - acc: 0.156 - ETA: 0s - loss: 3.7000 - acc: 0.145 - ETA: 0s - loss: 3.4421 - acc: 0.117 - ETA: 0s - loss: 3.5233 - acc: 0.112 - ETA: 0s - loss: 3.8019 - acc: 0.109 - ETA: 0s - loss: 3.7485 - acc: 0.113 - ETA: 0s - loss: 3.7966 - acc: 0.110 - ETA: 0s - loss: 3.9029 - acc: 0.098 - ETA: 0s - loss: 3.8934 - acc: 0.101 - 3s 278ms/step - loss: 3.9203 - acc: 0.1032 - val_loss: 3.5405 - val_acc: 0.1053\n",
      "Epoch 4/100\n",
      "11/11 [==============================] - ETA: 0s - loss: 2.7996 - acc: 0.090 - ETA: 0s - loss: 2.7195 - acc: 0.154 - ETA: 0s - loss: 3.2499 - acc: 0.144 - ETA: 0s - loss: 3.6020 - acc: 0.124 - ETA: 0s - loss: 3.5817 - acc: 0.111 - ETA: 0s - loss: 3.5406 - acc: 0.103 - ETA: 0s - loss: 3.7100 - acc: 0.102 - ETA: 0s - loss: 3.6515 - acc: 0.109 - ETA: 0s - loss: 3.7235 - acc: 0.107 - ETA: 0s - loss: 3.8563 - acc: 0.115 - 3s 248ms/step - loss: 3.8480 - acc: 0.1077 - val_loss: 3.5404 - val_acc: 0.1140\n",
      "Epoch 5/100\n",
      "11/11 [==============================] - ETA: 0s - loss: 4.3331 - acc: 0.062 - ETA: 0s - loss: 4.0212 - acc: 0.093 - ETA: 0s - loss: 3.8844 - acc: 0.104 - ETA: 0s - loss: 4.0050 - acc: 0.140 - ETA: 0s - loss: 3.7525 - acc: 0.137 - ETA: 0s - loss: 3.6325 - acc: 0.130 - ETA: 0s - loss: 3.6931 - acc: 0.133 - ETA: 0s - loss: 3.7036 - acc: 0.144 - ETA: 0s - loss: 3.6643 - acc: 0.128 - ETA: 0s - loss: 3.6137 - acc: 0.125 - 3s 282ms/step - loss: 3.5410 - acc: 0.1220 - val_loss: 3.3339 - val_acc: 0.1316\n",
      "Epoch 6/100\n",
      "11/11 [==============================] - ETA: 0s - loss: 4.6378 - acc: 0.031 - ETA: 0s - loss: 3.9130 - acc: 0.062 - ETA: 0s - loss: 3.6404 - acc: 0.056 - ETA: 0s - loss: 3.6223 - acc: 0.078 - ETA: 0s - loss: 3.4360 - acc: 0.071 - ETA: 0s - loss: 3.3873 - acc: 0.078 - ETA: 0s - loss: 3.3237 - acc: 0.084 - ETA: 0s - loss: 3.2806 - acc: 0.088 - 3s 251ms/step - loss: 3.2708 - acc: 0.0890 - val_loss: 3.3208 - val_acc: 0.0877\n",
      "Epoch 7/100\n",
      "11/11 [==============================] - ETA: 0s - loss: 3.4804 - acc: 0.090 - ETA: 0s - loss: 3.2958 - acc: 0.092 - ETA: 0s - loss: 3.3016 - acc: 0.124 - ETA: 0s - loss: 3.5250 - acc: 0.124 - ETA: 0s - loss: 3.5043 - acc: 0.105 - ETA: 0s - loss: 3.5742 - acc: 0.088 - ETA: 0s - loss: 3.5342 - acc: 0.075 - ETA: 0s - loss: 3.4930 - acc: 0.073 - ETA: 0s - loss: 3.4434 - acc: 0.086 - ETA: 0s - loss: 3.3287 - acc: 0.090 - 3s 311ms/step - loss: 3.3056 - acc: 0.0963 - val_loss: 3.3768 - val_acc: 0.0789\n",
      "Epoch 8/100\n",
      "11/11 [==============================] - ETA: 0s - loss: 3.9219 - acc: 0.062 - ETA: 0s - loss: 3.7448 - acc: 0.078 - ETA: 0s - loss: 3.6597 - acc: 0.093 - ETA: 0s - loss: 3.3058 - acc: 0.109 - ETA: 0s - loss: 3.2749 - acc: 0.100 - ETA: 0s - loss: 3.2050 - acc: 0.088 - ETA: 0s - loss: 3.1505 - acc: 0.098 - ETA: 0s - loss: 3.0519 - acc: 0.108 - ETA: 0s - loss: 3.0307 - acc: 0.110 - ETA: 0s - loss: 2.9816 - acc: 0.111 - 4s 320ms/step - loss: 2.9139 - acc: 0.1158 - val_loss: 2.2199 - val_acc: 0.1930\n",
      "Epoch 9/100\n",
      "11/11 [==============================] - ETA: 0s - loss: 2.6301 - acc: 0.181 - ETA: 0s - loss: 2.5516 - acc: 0.169 - ETA: 0s - loss: 2.4961 - acc: 0.185 - ETA: 0s - loss: 2.4470 - acc: 0.162 - ETA: 0s - loss: 2.3956 - acc: 0.155 - ETA: 0s - loss: 2.3954 - acc: 0.165 - ETA: 0s - loss: 2.3645 - acc: 0.164 - ETA: 0s - loss: 2.3627 - acc: 0.163 - ETA: 0s - loss: 2.3714 - acc: 0.166 - ETA: 0s - loss: 2.3519 - acc: 0.161 - 3s 316ms/step - loss: 2.3823 - acc: 0.1642 - val_loss: 2.2551 - val_acc: 0.1930\n",
      "Epoch 10/100\n",
      "11/11 [==============================] - ETA: 0s - loss: 2.3609 - acc: 0.062 - ETA: 0s - loss: 2.3684 - acc: 0.093 - ETA: 0s - loss: 2.3725 - acc: 0.093 - ETA: 0s - loss: 2.3138 - acc: 0.125 - ETA: 0s - loss: 2.3071 - acc: 0.118 - ETA: 0s - loss: 2.2769 - acc: 0.124 - ETA: 0s - loss: 2.2745 - acc: 0.133 - ETA: 0s - loss: 2.2460 - acc: 0.140 - ETA: 0s - loss: 2.2351 - acc: 0.135 - ETA: 0s - loss: 2.2342 - acc: 0.131 - 3s 256ms/step - loss: 2.2287 - acc: 0.1419 - val_loss: 2.1677 - val_acc: 0.2018\n",
      "Epoch 11/100\n",
      "11/11 [==============================] - ETA: 0s - loss: 2.2226 - acc: 0.218 - ETA: 0s - loss: 2.2499 - acc: 0.171 - ETA: 0s - loss: 2.2435 - acc: 0.177 - ETA: 0s - loss: 2.2348 - acc: 0.156 - ETA: 0s - loss: 2.2324 - acc: 0.170 - ETA: 0s - loss: 2.3060 - acc: 0.168 - ETA: 0s - loss: 2.2961 - acc: 0.170 - ETA: 0s - loss: 2.2774 - acc: 0.180 - ETA: 0s - loss: 2.2786 - acc: 0.185 - ETA: 0s - loss: 2.2781 - acc: 0.179 - 3s 316ms/step - loss: 2.2662 - acc: 0.1654 - val_loss: 2.1857 - val_acc: 0.1316\n",
      "Epoch 12/100\n",
      "11/11 [==============================] - ETA: 0s - loss: 2.4117 - acc: 0.156 - ETA: 0s - loss: 2.2993 - acc: 0.171 - ETA: 0s - loss: 2.2584 - acc: 0.177 - ETA: 0s - loss: 2.2403 - acc: 0.171 - ETA: 0s - loss: 2.2114 - acc: 0.168 - ETA: 0s - loss: 2.2046 - acc: 0.156 - ETA: 0s - loss: 2.2353 - acc: 0.142 - ETA: 0s - loss: 2.2562 - acc: 0.140 - ETA: 0s - loss: 2.2301 - acc: 0.155 - ETA: 0s - loss: 2.2258 - acc: 0.155 - 4s 324ms/step - loss: 2.2296 - acc: 0.1609 - val_loss: 2.2040 - val_acc: 0.1140\n",
      "Epoch 13/100\n",
      "11/11 [==============================] - ETA: 0s - loss: 2.2414 - acc: 0.218 - ETA: 0s - loss: 2.1350 - acc: 0.296 - ETA: 0s - loss: 2.1099 - acc: 0.270 - ETA: 0s - loss: 2.1446 - acc: 0.250 - ETA: 0s - loss: 2.1615 - acc: 0.231 - ETA: 0s - loss: 2.1530 - acc: 0.234 - ETA: 0s - loss: 2.1519 - acc: 0.218 - ETA: 0s - loss: 2.1547 - acc: 0.218 - ETA: 0s - loss: 2.1422 - acc: 0.214 - ETA: 0s - loss: 2.1483 - acc: 0.215 - 4s 324ms/step - loss: 2.1854 - acc: 0.2041 - val_loss: 2.2194 - val_acc: 0.2281\n",
      "Epoch 14/100\n",
      "11/11 [==============================] - ETA: 0s - loss: 2.2977 - acc: 0.093 - ETA: 0s - loss: 2.2003 - acc: 0.125 - ETA: 0s - loss: 2.1783 - acc: 0.135 - ETA: 0s - loss: 2.2133 - acc: 0.148 - ETA: 0s - loss: 2.2205 - acc: 0.143 - ETA: 0s - loss: 2.1859 - acc: 0.140 - ETA: 0s - loss: 2.1586 - acc: 0.153 - ETA: 0s - loss: 2.1466 - acc: 0.153 - ETA: 0s - loss: 2.1339 - acc: 0.146 - ETA: 0s - loss: 2.1232 - acc: 0.141 - 3s 294ms/step - loss: 2.1270 - acc: 0.1426 - val_loss: 2.0421 - val_acc: 0.2193\n",
      "Epoch 15/100\n",
      "11/11 [==============================] - ETA: 0s - loss: 2.0665 - acc: 0.125 - ETA: 0s - loss: 2.1445 - acc: 0.171 - ETA: 0s - loss: 2.0997 - acc: 0.218 - ETA: 0s - loss: 2.2036 - acc: 0.171 - ETA: 0s - loss: 2.1965 - acc: 0.210 - ETA: 0s - loss: 2.1835 - acc: 0.216 - ETA: 0s - loss: 2.1706 - acc: 0.212 - ETA: 0s - loss: 2.1502 - acc: 0.209 - ETA: 0s - loss: 2.1351 - acc: 0.217 - ETA: 0s - loss: 2.1328 - acc: 0.205 - 3s 315ms/step - loss: 2.1482 - acc: 0.1946 - val_loss: 2.0920 - val_acc: 0.2368\n",
      "Epoch 16/100\n",
      "11/11 [==============================] - ETA: 0s - loss: 2.0534 - acc: 0.281 - ETA: 0s - loss: 2.0383 - acc: 0.296 - ETA: 0s - loss: 1.9876 - acc: 0.281 - ETA: 0s - loss: 1.9766 - acc: 0.304 - ETA: 0s - loss: 1.9697 - acc: 0.271 - ETA: 0s - loss: 1.9957 - acc: 0.251 - ETA: 0s - loss: 2.0068 - acc: 0.256 - ETA: 0s - loss: 2.0058 - acc: 0.255 - ETA: 0s - loss: 2.0060 - acc: 0.247 - ETA: 0s - loss: 1.9962 - acc: 0.251 - 3s 288ms/step - loss: 1.9825 - acc: 0.2627 - val_loss: 1.9691 - val_acc: 0.2368\n",
      "Epoch 17/100\n"
     ]
    },
    {
     "name": "stdout",
     "output_type": "stream",
     "text": [
      "11/11 [==============================] - ETA: 0s - loss: 2.0739 - acc: 0.281 - ETA: 0s - loss: 1.9890 - acc: 0.281 - ETA: 0s - loss: 2.1376 - acc: 0.270 - ETA: 0s - loss: 2.1701 - acc: 0.265 - ETA: 0s - loss: 2.1758 - acc: 0.285 - ETA: 0s - loss: 2.1494 - acc: 0.284 - ETA: 0s - loss: 2.1364 - acc: 0.301 - ETA: 0s - loss: 2.1136 - acc: 0.311 - ETA: 0s - loss: 2.1099 - acc: 0.297 - ETA: 0s - loss: 2.0814 - acc: 0.292 - 3s 313ms/step - loss: 2.0611 - acc: 0.2914 - val_loss: 1.9816 - val_acc: 0.2105\n",
      "Epoch 18/100\n",
      "11/11 [==============================] - ETA: 0s - loss: 1.9940 - acc: 0.156 - ETA: 0s - loss: 1.9838 - acc: 0.234 - ETA: 0s - loss: 2.0076 - acc: 0.281 - ETA: 0s - loss: 1.9614 - acc: 0.296 - ETA: 0s - loss: 1.9126 - acc: 0.293 - ETA: 0s - loss: 1.9195 - acc: 0.297 - ETA: 0s - loss: 1.9034 - acc: 0.295 - ETA: 0s - loss: 1.9045 - acc: 0.289 - ETA: 0s - loss: 1.9343 - acc: 0.281 - ETA: 0s - loss: 1.9260 - acc: 0.278 - 4s 321ms/step - loss: 1.9292 - acc: 0.2646 - val_loss: 1.9944 - val_acc: 0.2544\n",
      "Epoch 19/100\n",
      "11/11 [==============================] - ETA: 0s - loss: 1.9084 - acc: 0.343 - ETA: 0s - loss: 1.8413 - acc: 0.328 - ETA: 0s - loss: 1.8090 - acc: 0.354 - ETA: 0s - loss: 1.8224 - acc: 0.335 - ETA: 0s - loss: 1.8320 - acc: 0.331 - ETA: 0s - loss: 1.8318 - acc: 0.312 - ETA: 0s - loss: 1.8369 - acc: 0.312 - ETA: 0s - loss: 1.8234 - acc: 0.316 - ETA: 0s - loss: 1.8193 - acc: 0.319 - ETA: 0s - loss: 1.8388 - acc: 0.318 - 4s 372ms/step - loss: 1.8262 - acc: 0.3147 - val_loss: 1.8537 - val_acc: 0.2807\n",
      "Epoch 20/100\n",
      "11/11 [==============================] - ETA: 0s - loss: 1.9289 - acc: 0.406 - ETA: 0s - loss: 1.9188 - acc: 0.328 - ETA: 0s - loss: 1.8685 - acc: 0.343 - ETA: 0s - loss: 1.8875 - acc: 0.335 - ETA: 0s - loss: 1.8883 - acc: 0.331 - ETA: 0s - loss: 1.8732 - acc: 0.343 - ETA: 0s - loss: 1.8657 - acc: 0.334 - ETA: 0s - loss: 1.8600 - acc: 0.335 - ETA: 0s - loss: 1.8843 - acc: 0.326 - ETA: 0s - loss: 1.8774 - acc: 0.306 - 3s 280ms/step - loss: 1.8871 - acc: 0.3033 - val_loss: 2.0402 - val_acc: 0.2456\n",
      "Epoch 21/100\n",
      "11/11 [==============================] - ETA: 0s - loss: 1.8852 - acc: 0.343 - ETA: 0s - loss: 1.9440 - acc: 0.328 - ETA: 0s - loss: 1.8583 - acc: 0.322 - ETA: 0s - loss: 1.8219 - acc: 0.351 - ETA: 0s - loss: 1.8376 - acc: 0.326 - ETA: 0s - loss: 1.8425 - acc: 0.298 - ETA: 0s - loss: 1.8166 - acc: 0.313 - ETA: 0s - loss: 1.7917 - acc: 0.317 - ETA: 0s - loss: 1.7941 - acc: 0.310 - ETA: 0s - loss: 1.8177 - acc: 0.310 - 3s 313ms/step - loss: 1.8519 - acc: 0.3163 - val_loss: 1.8937 - val_acc: 0.2982\n",
      "Epoch 22/100\n",
      "11/11 [==============================] - ETA: 0s - loss: 1.7802 - acc: 0.312 - ETA: 0s - loss: 1.7249 - acc: 0.328 - ETA: 0s - loss: 1.7366 - acc: 0.343 - ETA: 0s - loss: 1.7262 - acc: 0.343 - ETA: 0s - loss: 1.7613 - acc: 0.306 - ETA: 0s - loss: 1.7495 - acc: 0.302 - ETA: 0s - loss: 1.7621 - acc: 0.294 - ETA: 0s - loss: 1.7469 - acc: 0.296 - ETA: 0s - loss: 1.7570 - acc: 0.288 - ETA: 0s - loss: 1.7319 - acc: 0.300 - 3s 271ms/step - loss: 1.7199 - acc: 0.2926 - val_loss: 1.9967 - val_acc: 0.3070\n",
      "Epoch 23/100\n",
      "11/11 [==============================] - ETA: 0s - loss: 1.7203 - acc: 0.500 - ETA: 0s - loss: 1.6392 - acc: 0.437 - ETA: 0s - loss: 1.5562 - acc: 0.489 - ETA: 0s - loss: 1.5777 - acc: 0.424 - ETA: 0s - loss: 1.6188 - acc: 0.383 - ETA: 0s - loss: 1.6137 - acc: 0.386 - ETA: 0s - loss: 1.6435 - acc: 0.385 - ETA: 0s - loss: 1.6436 - acc: 0.407 - ETA: 0s - loss: 1.6859 - acc: 0.400 - ETA: 0s - loss: 1.7174 - acc: 0.400 - 3s 297ms/step - loss: 1.7549 - acc: 0.3932 - val_loss: 1.8903 - val_acc: 0.2982\n",
      "Epoch 24/100\n",
      "11/11 [==============================] - ETA: 0s - loss: 1.4297 - acc: 0.500 - ETA: 0s - loss: 1.5730 - acc: 0.406 - ETA: 0s - loss: 1.5741 - acc: 0.427 - ETA: 0s - loss: 1.5760 - acc: 0.398 - ETA: 0s - loss: 1.5515 - acc: 0.400 - ETA: 0s - loss: 1.5627 - acc: 0.390 - ETA: 0s - loss: 1.5756 - acc: 0.392 - ETA: 0s - loss: 1.5618 - acc: 0.406 - ETA: 0s - loss: 1.5565 - acc: 0.402 - ETA: 0s - loss: 1.5812 - acc: 0.390 - 3s 304ms/step - loss: 1.5920 - acc: 0.3861 - val_loss: 2.0323 - val_acc: 0.2632\n",
      "Epoch 25/100\n",
      "11/11 [==============================] - ETA: 0s - loss: 1.4909 - acc: 0.363 - ETA: 0s - loss: 1.5530 - acc: 0.400 - ETA: 0s - loss: 1.5192 - acc: 0.360 - ETA: 0s - loss: 1.6466 - acc: 0.372 - ETA: 0s - loss: 1.7481 - acc: 0.347 - ETA: 0s - loss: 1.7898 - acc: 0.352 - ETA: 0s - loss: 1.7463 - acc: 0.346 - ETA: 0s - loss: 1.7335 - acc: 0.354 - ETA: 0s - loss: 1.7073 - acc: 0.373 - ETA: 0s - loss: 1.7284 - acc: 0.361 - 3s 307ms/step - loss: 1.7293 - acc: 0.3512 - val_loss: 1.7501 - val_acc: 0.3246\n",
      "Epoch 26/100\n",
      "11/11 [==============================] - ETA: 0s - loss: 1.6241 - acc: 0.375 - ETA: 0s - loss: 1.6287 - acc: 0.375 - ETA: 0s - loss: 1.6288 - acc: 0.364 - ETA: 0s - loss: 1.5731 - acc: 0.382 - ETA: 0s - loss: 1.5399 - acc: 0.418 - ETA: 0s - loss: 1.5162 - acc: 0.427 - ETA: 0s - loss: 1.5227 - acc: 0.406 - ETA: 0s - loss: 1.5167 - acc: 0.398 - ETA: 0s - loss: 1.5459 - acc: 0.378 - ETA: 0s - loss: 1.5494 - acc: 0.378 - 3s 282ms/step - loss: 1.5616 - acc: 0.3768 - val_loss: 1.7348 - val_acc: 0.2719\n",
      "Epoch 27/100\n",
      "11/11 [==============================] - ETA: 0s - loss: 1.6706 - acc: 0.406 - ETA: 0s - loss: 1.6468 - acc: 0.312 - ETA: 0s - loss: 1.6285 - acc: 0.364 - ETA: 0s - loss: 1.6291 - acc: 0.343 - ETA: 0s - loss: 1.6133 - acc: 0.318 - ETA: 0s - loss: 1.6733 - acc: 0.341 - ETA: 0s - loss: 1.6382 - acc: 0.355 - ETA: 0s - loss: 1.6276 - acc: 0.369 - ETA: 0s - loss: 1.5907 - acc: 0.380 - ETA: 0s - loss: 1.5695 - acc: 0.398 - 4s 338ms/step - loss: 1.5671 - acc: 0.3963 - val_loss: 1.8016 - val_acc: 0.3596\n",
      "Epoch 28/100\n",
      "11/11 [==============================] - ETA: 0s - loss: 1.3662 - acc: 0.562 - ETA: 0s - loss: 1.3918 - acc: 0.508 - ETA: 0s - loss: 1.5255 - acc: 0.464 - ETA: 0s - loss: 1.5684 - acc: 0.457 - ETA: 0s - loss: 1.6128 - acc: 0.440 - ETA: 0s - loss: 1.5951 - acc: 0.440 - ETA: 0s - loss: 1.6010 - acc: 0.444 - ETA: 0s - loss: 1.6115 - acc: 0.439 - ETA: 0s - loss: 1.6723 - acc: 0.415 - ETA: 0s - loss: 1.6837 - acc: 0.414 - 3s 272ms/step - loss: 1.6554 - acc: 0.4048 - val_loss: 1.8010 - val_acc: 0.3684\n",
      "Epoch 29/100\n",
      "11/11 [==============================] - ETA: 0s - loss: 1.4036 - acc: 0.562 - ETA: 0s - loss: 1.4366 - acc: 0.546 - ETA: 0s - loss: 1.4325 - acc: 0.531 - ETA: 0s - loss: 1.3998 - acc: 0.546 - ETA: 0s - loss: 1.4801 - acc: 0.518 - ETA: 0s - loss: 1.4513 - acc: 0.515 - ETA: 0s - loss: 1.4533 - acc: 0.508 - ETA: 0s - loss: 1.4159 - acc: 0.500 - ETA: 0s - loss: 1.4028 - acc: 0.510 - ETA: 0s - loss: 1.4214 - acc: 0.490 - 3s 308ms/step - loss: 1.4465 - acc: 0.4858 - val_loss: 1.8132 - val_acc: 0.2895\n",
      "Epoch 30/100\n",
      "11/11 [==============================] - ETA: 0s - loss: 1.5545 - acc: 0.406 - ETA: 0s - loss: 1.5022 - acc: 0.375 - ETA: 0s - loss: 1.4655 - acc: 0.406 - ETA: 0s - loss: 1.4631 - acc: 0.398 - ETA: 0s - loss: 1.4196 - acc: 0.431 - ETA: 0s - loss: 1.4370 - acc: 0.432 - ETA: 0s - loss: 1.4085 - acc: 0.442 - ETA: 0s - loss: 1.4075 - acc: 0.460 - ETA: 0s - loss: 1.5046 - acc: 0.444 - ETA: 0s - loss: 1.5263 - acc: 0.431 - 3s 292ms/step - loss: 1.5416 - acc: 0.4373 - val_loss: 1.7993 - val_acc: 0.3509\n",
      "Epoch 31/100\n",
      "11/11 [==============================] - ETA: 0s - loss: 1.5984 - acc: 0.406 - ETA: 0s - loss: 1.4511 - acc: 0.421 - ETA: 0s - loss: 1.4402 - acc: 0.416 - ETA: 0s - loss: 1.4172 - acc: 0.390 - ETA: 0s - loss: 1.4290 - acc: 0.403 - ETA: 0s - loss: 1.4707 - acc: 0.429 - ETA: 0s - loss: 1.4813 - acc: 0.448 - ETA: 0s - loss: 1.4632 - acc: 0.463 - ETA: 0s - loss: 1.4799 - acc: 0.456 - ETA: 0s - loss: 1.4858 - acc: 0.467 - 3s 306ms/step - loss: 1.4645 - acc: 0.4675 - val_loss: 1.8230 - val_acc: 0.4211\n",
      "Epoch 32/100\n",
      "11/11 [==============================] - ETA: 0s - loss: 1.2558 - acc: 0.562 - ETA: 0s - loss: 1.2550 - acc: 0.546 - ETA: 0s - loss: 1.2482 - acc: 0.625 - ETA: 0s - loss: 1.2148 - acc: 0.640 - ETA: 0s - loss: 1.2364 - acc: 0.618 - ETA: 0s - loss: 1.2649 - acc: 0.625 - ETA: 0s - loss: 1.2505 - acc: 0.607 - ETA: 0s - loss: 1.2902 - acc: 0.585 - ETA: 0s - loss: 1.2774 - acc: 0.591 - ETA: 0s - loss: 1.2653 - acc: 0.588 - 3s 270ms/step - loss: 1.2621 - acc: 0.5918 - val_loss: 2.0238 - val_acc: 0.3860\n"
     ]
    },
    {
     "name": "stdout",
     "output_type": "stream",
     "text": [
      "Epoch 33/100\n",
      "11/11 [==============================] - ETA: 0s - loss: 1.9926 - acc: 0.406 - ETA: 0s - loss: 1.8764 - acc: 0.484 - ETA: 0s - loss: 1.6813 - acc: 0.479 - ETA: 0s - loss: 1.6308 - acc: 0.461 - ETA: 0s - loss: 1.5681 - acc: 0.469 - ETA: 0s - loss: 1.5640 - acc: 0.458 - ETA: 0s - loss: 1.5582 - acc: 0.451 - ETA: 0s - loss: 1.5280 - acc: 0.457 - ETA: 0s - loss: 1.4985 - acc: 0.465 - ETA: 0s - loss: 1.4741 - acc: 0.472 - 3s 311ms/step - loss: 1.4606 - acc: 0.4606 - val_loss: 1.7315 - val_acc: 0.4211\n",
      "Epoch 34/100\n",
      "11/11 [==============================] - ETA: 0s - loss: 1.0861 - acc: 0.687 - ETA: 0s - loss: 1.1386 - acc: 0.593 - ETA: 0s - loss: 1.1322 - acc: 0.585 - ETA: 0s - loss: 1.1726 - acc: 0.600 - ETA: 0s - loss: 1.1950 - acc: 0.599 - ETA: 0s - loss: 1.1923 - acc: 0.602 - ETA: 0s - loss: 1.2095 - acc: 0.601 - ETA: 0s - loss: 1.2274 - acc: 0.579 - ETA: 0s - loss: 1.2132 - acc: 0.584 - 3s 275ms/step - loss: 1.2280 - acc: 0.5655 - val_loss: 1.6155 - val_acc: 0.4561\n",
      "Epoch 35/100\n",
      "11/11 [==============================] - ETA: 0s - loss: 1.2509 - acc: 0.437 - ETA: 0s - loss: 1.1314 - acc: 0.578 - ETA: 0s - loss: 1.1645 - acc: 0.572 - ETA: 0s - loss: 1.2055 - acc: 0.562 - ETA: 0s - loss: 1.2255 - acc: 0.543 - ETA: 0s - loss: 1.2519 - acc: 0.536 - ETA: 0s - loss: 1.2796 - acc: 0.535 - ETA: 0s - loss: 1.2946 - acc: 0.527 - ETA: 0s - loss: 1.2703 - acc: 0.548 - ETA: 0s - loss: 1.2626 - acc: 0.550 - 3s 310ms/step - loss: 1.2531 - acc: 0.5570 - val_loss: 1.9006 - val_acc: 0.3684\n",
      "Epoch 36/100\n",
      "11/11 [==============================] - ETA: 0s - loss: 1.4802 - acc: 0.468 - ETA: 0s - loss: 1.3241 - acc: 0.515 - ETA: 0s - loss: 1.3880 - acc: 0.434 - ETA: 0s - loss: 1.3406 - acc: 0.441 - ETA: 0s - loss: 1.3024 - acc: 0.461 - ETA: 0s - loss: 1.2956 - acc: 0.476 - ETA: 0s - loss: 1.2900 - acc: 0.510 - ETA: 0s - loss: 1.3092 - acc: 0.523 - ETA: 0s - loss: 1.2683 - acc: 0.542 - 3s 304ms/step - loss: 1.2369 - acc: 0.5648 - val_loss: 1.8418 - val_acc: 0.4386\n",
      "Epoch 37/100\n",
      "11/11 [==============================] - ETA: 0s - loss: 1.2299 - acc: 0.531 - ETA: 0s - loss: 1.4848 - acc: 0.437 - ETA: 0s - loss: 1.4040 - acc: 0.479 - ETA: 0s - loss: 1.3511 - acc: 0.468 - ETA: 0s - loss: 1.3244 - acc: 0.475 - ETA: 0s - loss: 1.2683 - acc: 0.500 - ETA: 0s - loss: 1.2411 - acc: 0.508 - ETA: 0s - loss: 1.2058 - acc: 0.519 - ETA: 0s - loss: 1.2076 - acc: 0.524 - ETA: 0s - loss: 1.2058 - acc: 0.518 - 3s 301ms/step - loss: 1.1935 - acc: 0.5252 - val_loss: 1.7741 - val_acc: 0.4123\n",
      "Epoch 38/100\n",
      "11/11 [==============================] - ETA: 0s - loss: 1.1193 - acc: 0.687 - ETA: 0s - loss: 1.0758 - acc: 0.671 - ETA: 0s - loss: 1.0839 - acc: 0.635 - ETA: 0s - loss: 1.0899 - acc: 0.617 - ETA: 0s - loss: 1.1077 - acc: 0.625 - ETA: 0s - loss: 1.0974 - acc: 0.614 - ETA: 0s - loss: 1.0658 - acc: 0.611 - ETA: 0s - loss: 1.1414 - acc: 0.609 - ETA: 0s - loss: 1.1587 - acc: 0.610 - ETA: 0s - loss: 1.1928 - acc: 0.609 - 3s 276ms/step - loss: 1.1819 - acc: 0.6077 - val_loss: 2.0176 - val_acc: 0.4386\n",
      "Epoch 39/100\n",
      "11/11 [==============================] - ETA: 0s - loss: 0.9383 - acc: 0.656 - ETA: 0s - loss: 1.0843 - acc: 0.531 - ETA: 0s - loss: 1.0568 - acc: 0.585 - ETA: 0s - loss: 1.0471 - acc: 0.611 - ETA: 0s - loss: 1.0298 - acc: 0.629 - ETA: 0s - loss: 1.0096 - acc: 0.633 - ETA: 0s - loss: 1.0289 - acc: 0.636 - ETA: 0s - loss: 1.0443 - acc: 0.610 - ETA: 0s - loss: 1.0482 - acc: 0.609 - 3s 307ms/step - loss: 1.0458 - acc: 0.6106 - val_loss: 1.9900 - val_acc: 0.4298\n",
      "Epoch 40/100\n",
      "11/11 [==============================] - ETA: 0s - loss: 1.0293 - acc: 0.625 - ETA: 0s - loss: 1.0127 - acc: 0.609 - ETA: 0s - loss: 0.9585 - acc: 0.645 - ETA: 0s - loss: 0.9786 - acc: 0.648 - ETA: 0s - loss: 0.9889 - acc: 0.643 - ETA: 0s - loss: 1.0067 - acc: 0.640 - ETA: 0s - loss: 1.0301 - acc: 0.638 - ETA: 0s - loss: 1.0229 - acc: 0.648 - ETA: 0s - loss: 1.0432 - acc: 0.621 - ETA: 0s - loss: 1.0636 - acc: 0.606 - 3s 273ms/step - loss: 1.0605 - acc: 0.6115 - val_loss: 1.9716 - val_acc: 0.3860\n",
      "Epoch 41/100\n",
      "11/11 [==============================] - ETA: 0s - loss: 1.2351 - acc: 0.562 - ETA: 0s - loss: 1.0240 - acc: 0.625 - ETA: 0s - loss: 0.9873 - acc: 0.635 - ETA: 0s - loss: 0.9959 - acc: 0.640 - ETA: 0s - loss: 0.9726 - acc: 0.662 - ETA: 0s - loss: 0.9781 - acc: 0.671 - ETA: 0s - loss: 0.9826 - acc: 0.665 - ETA: 0s - loss: 1.0123 - acc: 0.679 - ETA: 0s - loss: 1.0042 - acc: 0.666 - ETA: 0s - loss: 0.9753 - acc: 0.684 - 3s 313ms/step - loss: 0.9990 - acc: 0.6761 - val_loss: 2.0696 - val_acc: 0.3596\n",
      "Epoch 42/100\n",
      "11/11 [==============================] - ETA: 0s - loss: 0.9018 - acc: 0.593 - ETA: 0s - loss: 0.8106 - acc: 0.687 - ETA: 0s - loss: 0.9037 - acc: 0.666 - ETA: 0s - loss: 0.8659 - acc: 0.679 - ETA: 0s - loss: 0.8797 - acc: 0.680 - ETA: 0s - loss: 0.9395 - acc: 0.670 - ETA: 0s - loss: 0.9388 - acc: 0.664 - ETA: 0s - loss: 0.9433 - acc: 0.679 - ETA: 0s - loss: 0.9315 - acc: 0.683 - ETA: 0s - loss: 0.9545 - acc: 0.671 - 3s 283ms/step - loss: 0.9654 - acc: 0.6585 - val_loss: 1.8063 - val_acc: 0.4474\n",
      "Epoch 43/100\n",
      "11/11 [==============================] - ETA: 0s - loss: 1.0241 - acc: 0.562 - ETA: 0s - loss: 0.9574 - acc: 0.671 - ETA: 0s - loss: 0.9095 - acc: 0.708 - ETA: 0s - loss: 0.9640 - acc: 0.703 - ETA: 0s - loss: 0.9742 - acc: 0.700 - ETA: 0s - loss: 0.9662 - acc: 0.689 - ETA: 0s - loss: 0.9276 - acc: 0.707 - ETA: 0s - loss: 0.9512 - acc: 0.696 - ETA: 0s - loss: 0.9465 - acc: 0.695 - ETA: 0s - loss: 0.9623 - acc: 0.688 - 3s 298ms/step - loss: 0.9935 - acc: 0.6687 - val_loss: 1.6981 - val_acc: 0.5000\n",
      "Epoch 44/100\n",
      "11/11 [==============================] - ETA: 0s - loss: 0.8109 - acc: 0.750 - ETA: 0s - loss: 0.8246 - acc: 0.734 - ETA: 0s - loss: 0.8355 - acc: 0.708 - ETA: 0s - loss: 0.8734 - acc: 0.710 - ETA: 0s - loss: 0.8347 - acc: 0.705 - ETA: 0s - loss: 0.8032 - acc: 0.743 - ETA: 0s - loss: 0.8821 - acc: 0.717 - ETA: 0s - loss: 0.9833 - acc: 0.682 - ETA: 0s - loss: 0.9618 - acc: 0.686 - ETA: 0s - loss: 0.9830 - acc: 0.677 - 3s 297ms/step - loss: 0.9649 - acc: 0.6813 - val_loss: 1.9548 - val_acc: 0.4561\n",
      "Epoch 45/100\n",
      "11/11 [==============================] - ETA: 0s - loss: 0.5819 - acc: 0.843 - ETA: 0s - loss: 0.6555 - acc: 0.812 - ETA: 0s - loss: 0.6932 - acc: 0.770 - ETA: 0s - loss: 0.7987 - acc: 0.757 - ETA: 0s - loss: 0.8243 - acc: 0.751 - ETA: 0s - loss: 0.7947 - acc: 0.756 - ETA: 0s - loss: 0.8341 - acc: 0.751 - ETA: 0s - loss: 0.8820 - acc: 0.739 - ETA: 0s - loss: 0.8761 - acc: 0.744 - ETA: 0s - loss: 0.8761 - acc: 0.744 - 3s 272ms/step - loss: 0.8708 - acc: 0.7537 - val_loss: 1.7011 - val_acc: 0.5088\n",
      "Epoch 46/100\n",
      "11/11 [==============================] - ETA: 0s - loss: 0.8271 - acc: 0.750 - ETA: 0s - loss: 0.9270 - acc: 0.718 - ETA: 0s - loss: 0.8829 - acc: 0.708 - ETA: 0s - loss: 0.9479 - acc: 0.664 - ETA: 0s - loss: 0.9462 - acc: 0.693 - ETA: 0s - loss: 0.9011 - acc: 0.706 - ETA: 0s - loss: 0.8670 - acc: 0.717 - ETA: 0s - loss: 0.8863 - acc: 0.702 - ETA: 0s - loss: 0.8705 - acc: 0.710 - ETA: 0s - loss: 0.8429 - acc: 0.724 - 3s 262ms/step - loss: 0.8275 - acc: 0.7292 - val_loss: 2.0232 - val_acc: 0.4737\n",
      "Epoch 47/100\n",
      "11/11 [==============================] - ETA: 0s - loss: 0.5573 - acc: 0.906 - ETA: 0s - loss: 0.5279 - acc: 0.843 - ETA: 0s - loss: 0.5525 - acc: 0.843 - ETA: 0s - loss: 0.6198 - acc: 0.796 - ETA: 0s - loss: 0.6596 - acc: 0.743 - ETA: 0s - loss: 0.6682 - acc: 0.744 - ETA: 0s - loss: 0.7164 - acc: 0.732 - ETA: 0s - loss: 0.7173 - acc: 0.737 - ETA: 0s - loss: 0.7172 - acc: 0.738 - ETA: 0s - loss: 0.7153 - acc: 0.733 - 3s 266ms/step - loss: 0.7052 - acc: 0.7378 - val_loss: 2.1864 - val_acc: 0.4912\n",
      "Epoch 48/100\n",
      "11/11 [==============================] - ETA: 0s - loss: 0.4869 - acc: 0.843 - ETA: 0s - loss: 0.5569 - acc: 0.828 - ETA: 0s - loss: 0.5360 - acc: 0.843 - ETA: 0s - loss: 0.5407 - acc: 0.820 - ETA: 0s - loss: 0.6622 - acc: 0.774 - ETA: 0s - loss: 0.8857 - acc: 0.713 - ETA: 0s - loss: 0.8909 - acc: 0.718 - ETA: 0s - loss: 0.8483 - acc: 0.734 - ETA: 0s - loss: 0.8474 - acc: 0.732 - ETA: 0s - loss: 0.9401 - acc: 0.702 - 3s 254ms/step - loss: 0.9359 - acc: 0.7160 - val_loss: 1.5847 - val_acc: 0.4912\n",
      "Epoch 49/100\n"
     ]
    },
    {
     "name": "stdout",
     "output_type": "stream",
     "text": [
      "11/11 [==============================] - ETA: 0s - loss: 1.0600 - acc: 0.863 - ETA: 0s - loss: 0.9325 - acc: 0.822 - ETA: 0s - loss: 0.8807 - acc: 0.770 - ETA: 0s - loss: 0.8524 - acc: 0.766 - ETA: 0s - loss: 0.8290 - acc: 0.763 - ETA: 0s - loss: 0.8392 - acc: 0.757 - ETA: 0s - loss: 0.8257 - acc: 0.752 - ETA: 0s - loss: 0.8083 - acc: 0.745 - ETA: 0s - loss: 0.7851 - acc: 0.755 - 3s 269ms/step - loss: 0.7672 - acc: 0.7515 - val_loss: 1.9888 - val_acc: 0.4561\n",
      "Epoch 50/100\n",
      "11/11 [==============================] - ETA: 0s - loss: 0.5983 - acc: 0.750 - ETA: 0s - loss: 0.6474 - acc: 0.718 - ETA: 0s - loss: 0.6461 - acc: 0.697 - ETA: 0s - loss: 0.6245 - acc: 0.718 - ETA: 0s - loss: 0.6455 - acc: 0.731 - ETA: 0s - loss: 0.6126 - acc: 0.760 - ETA: 0s - loss: 0.5979 - acc: 0.772 - ETA: 0s - loss: 0.6106 - acc: 0.773 - ETA: 0s - loss: 0.6086 - acc: 0.774 - ETA: 0s - loss: 0.6030 - acc: 0.774 - 3s 244ms/step - loss: 0.6410 - acc: 0.7663 - val_loss: 2.1907 - val_acc: 0.4737\n",
      "Epoch 51/100\n",
      "11/11 [==============================] - ETA: 0s - loss: 0.7942 - acc: 0.781 - ETA: 0s - loss: 0.8631 - acc: 0.796 - ETA: 0s - loss: 0.7969 - acc: 0.750 - ETA: 0s - loss: 0.7096 - acc: 0.781 - ETA: 0s - loss: 0.6521 - acc: 0.793 - ETA: 0s - loss: 0.6403 - acc: 0.791 - ETA: 0s - loss: 0.6235 - acc: 0.794 - ETA: 0s - loss: 0.6506 - acc: 0.785 - ETA: 0s - loss: 0.6437 - acc: 0.781 - ETA: 0s - loss: 0.6282 - acc: 0.784 - 3s 265ms/step - loss: 0.6008 - acc: 0.7902 - val_loss: 2.3145 - val_acc: 0.4649\n",
      "Epoch 52/100\n",
      "11/11 [==============================] - ETA: 0s - loss: 0.3356 - acc: 0.875 - ETA: 0s - loss: 0.4258 - acc: 0.859 - ETA: 0s - loss: 0.4037 - acc: 0.875 - ETA: 0s - loss: 0.4707 - acc: 0.835 - ETA: 0s - loss: 0.5866 - acc: 0.812 - ETA: 0s - loss: 0.7013 - acc: 0.781 - ETA: 0s - loss: 0.7193 - acc: 0.767 - ETA: 0s - loss: 0.7095 - acc: 0.772 - ETA: 0s - loss: 0.6877 - acc: 0.784 - ETA: 0s - loss: 0.6857 - acc: 0.793 - 3s 257ms/step - loss: 0.6785 - acc: 0.7867 - val_loss: 1.8989 - val_acc: 0.4649\n",
      "Epoch 53/100\n",
      "11/11 [==============================] - ETA: 0s - loss: 0.8494 - acc: 0.781 - ETA: 0s - loss: 0.6371 - acc: 0.843 - ETA: 0s - loss: 0.6071 - acc: 0.833 - ETA: 0s - loss: 0.6015 - acc: 0.835 - ETA: 0s - loss: 0.6001 - acc: 0.825 - ETA: 0s - loss: 0.5869 - acc: 0.822 - ETA: 0s - loss: 0.6119 - acc: 0.809 - ETA: 0s - loss: 0.6156 - acc: 0.805 - ETA: 0s - loss: 0.6145 - acc: 0.799 - ETA: 0s - loss: 0.6378 - acc: 0.797 - 3s 262ms/step - loss: 0.6275 - acc: 0.7992 - val_loss: 2.2268 - val_acc: 0.4474\n",
      "Epoch 54/100\n",
      "11/11 [==============================] - ETA: 0s - loss: 0.5387 - acc: 0.875 - ETA: 0s - loss: 0.4905 - acc: 0.859 - ETA: 0s - loss: 0.4097 - acc: 0.885 - ETA: 0s - loss: 0.6052 - acc: 0.851 - ETA: 0s - loss: 0.7044 - acc: 0.812 - ETA: 0s - loss: 0.7098 - acc: 0.781 - ETA: 0s - loss: 0.6990 - acc: 0.772 - ETA: 0s - loss: 0.6866 - acc: 0.777 - ETA: 0s - loss: 0.6773 - acc: 0.781 - ETA: 0s - loss: 0.6646 - acc: 0.781 - 3s 251ms/step - loss: 0.6337 - acc: 0.7926 - val_loss: 2.4294 - val_acc: 0.5175\n",
      "Epoch 55/100\n",
      "11/11 [==============================] - ETA: 0s - loss: 0.5142 - acc: 0.843 - ETA: 0s - loss: 0.4302 - acc: 0.843 - ETA: 0s - loss: 0.4735 - acc: 0.812 - ETA: 0s - loss: 0.4612 - acc: 0.804 - ETA: 0s - loss: 0.5026 - acc: 0.787 - ETA: 0s - loss: 0.5288 - acc: 0.781 - ETA: 0s - loss: 0.5106 - acc: 0.799 - ETA: 0s - loss: 0.4979 - acc: 0.804 - ETA: 0s - loss: 0.4990 - acc: 0.806 - ETA: 0s - loss: 0.4941 - acc: 0.813 - 3s 270ms/step - loss: 0.4680 - acc: 0.8215 - val_loss: 2.8580 - val_acc: 0.5000\n",
      "Epoch 56/100\n",
      "11/11 [==============================] - ETA: 0s - loss: 0.2890 - acc: 0.875 - ETA: 0s - loss: 0.4407 - acc: 0.828 - ETA: 0s - loss: 0.4493 - acc: 0.822 - ETA: 0s - loss: 0.4459 - acc: 0.796 - ETA: 0s - loss: 0.5217 - acc: 0.781 - ETA: 0s - loss: 0.6723 - acc: 0.760 - ETA: 0s - loss: 0.6813 - acc: 0.754 - ETA: 0s - loss: 0.6805 - acc: 0.756 - ETA: 0s - loss: 0.6651 - acc: 0.756 - ETA: 0s - loss: 0.6569 - acc: 0.758 - 3s 261ms/step - loss: 0.6452 - acc: 0.7634 - val_loss: 2.2887 - val_acc: 0.4649\n",
      "Epoch 57/100\n",
      "11/11 [==============================] - ETA: 0s - loss: 0.3056 - acc: 0.906 - ETA: 0s - loss: 0.2745 - acc: 0.906 - ETA: 0s - loss: 0.4783 - acc: 0.812 - ETA: 0s - loss: 0.4204 - acc: 0.859 - ETA: 0s - loss: 0.4029 - acc: 0.868 - ETA: 0s - loss: 0.3943 - acc: 0.864 - ETA: 0s - loss: 0.3887 - acc: 0.866 - ETA: 0s - loss: 0.3982 - acc: 0.865 - ETA: 0s - loss: 0.3890 - acc: 0.866 - ETA: 0s - loss: 0.4042 - acc: 0.867 - 3s 267ms/step - loss: 0.3930 - acc: 0.8654 - val_loss: 2.4372 - val_acc: 0.5000\n",
      "Epoch 58/100\n",
      "11/11 [==============================] - ETA: 0s - loss: 0.1754 - acc: 1.000 - ETA: 0s - loss: 0.4092 - acc: 0.921 - ETA: 0s - loss: 0.4386 - acc: 0.875 - ETA: 0s - loss: 0.4406 - acc: 0.879 - ETA: 0s - loss: 0.4279 - acc: 0.878 - ETA: 0s - loss: 0.4869 - acc: 0.864 - ETA: 0s - loss: 0.4669 - acc: 0.877 - ETA: 0s - loss: 0.4671 - acc: 0.873 - ETA: 0s - loss: 0.4832 - acc: 0.873 - 3s 244ms/step - loss: 0.4871 - acc: 0.8683 - val_loss: 2.1932 - val_acc: 0.5263\n",
      "Epoch 59/100\n",
      "11/11 [==============================] - ETA: 0s - loss: 0.3868 - acc: 0.843 - ETA: 0s - loss: 0.3833 - acc: 0.875 - ETA: 0s - loss: 0.3743 - acc: 0.875 - ETA: 0s - loss: 0.3613 - acc: 0.882 - ETA: 0s - loss: 0.3358 - acc: 0.879 - ETA: 0s - loss: 0.3514 - acc: 0.878 - ETA: 0s - loss: 0.4014 - acc: 0.868 - ETA: 0s - loss: 0.4571 - acc: 0.854 - ETA: 0s - loss: 0.4552 - acc: 0.852 - ETA: 0s - loss: 0.4566 - acc: 0.852 - 3s 270ms/step - loss: 0.4629 - acc: 0.8455 - val_loss: 2.2403 - val_acc: 0.5263\n",
      "Epoch 60/100\n",
      "11/11 [==============================] - ETA: 0s - loss: 0.2851 - acc: 0.906 - ETA: 0s - loss: 0.3234 - acc: 0.890 - ETA: 0s - loss: 0.3307 - acc: 0.895 - ETA: 0s - loss: 0.3422 - acc: 0.898 - ETA: 0s - loss: 0.3497 - acc: 0.912 - ETA: 0s - loss: 0.3785 - acc: 0.906 - ETA: 0s - loss: 0.3711 - acc: 0.901 - ETA: 0s - loss: 0.3591 - acc: 0.902 - ETA: 0s - loss: 0.3514 - acc: 0.903 - ETA: 0s - loss: 0.3534 - acc: 0.900 - 3s 252ms/step - loss: 0.3624 - acc: 0.8951 - val_loss: 2.8011 - val_acc: 0.4649\n",
      "Epoch 61/100\n",
      "11/11 [==============================] - ETA: 0s - loss: 0.5169 - acc: 0.906 - ETA: 0s - loss: 0.5040 - acc: 0.859 - ETA: 0s - loss: 0.5295 - acc: 0.833 - ETA: 0s - loss: 0.4654 - acc: 0.851 - ETA: 0s - loss: 0.4782 - acc: 0.837 - ETA: 0s - loss: 0.4282 - acc: 0.859 - ETA: 0s - loss: 0.4162 - acc: 0.857 - ETA: 0s - loss: 0.4346 - acc: 0.847 - ETA: 0s - loss: 0.4288 - acc: 0.861 - ETA: 0s - loss: 0.4432 - acc: 0.856 - 3s 269ms/step - loss: 0.4425 - acc: 0.8586 - val_loss: 2.5651 - val_acc: 0.4825\n",
      "Epoch 62/100\n",
      "11/11 [==============================] - ETA: 0s - loss: 0.6560 - acc: 0.781 - ETA: 0s - loss: 0.6187 - acc: 0.796 - ETA: 0s - loss: 0.5057 - acc: 0.822 - ETA: 0s - loss: 0.4809 - acc: 0.843 - ETA: 0s - loss: 0.4794 - acc: 0.837 - ETA: 0s - loss: 0.4651 - acc: 0.843 - ETA: 0s - loss: 0.4420 - acc: 0.857 - ETA: 0s - loss: 0.4572 - acc: 0.855 - ETA: 0s - loss: 0.4356 - acc: 0.861 - ETA: 0s - loss: 0.4271 - acc: 0.865 - 3s 246ms/step - loss: 0.4086 - acc: 0.8695 - val_loss: 2.5686 - val_acc: 0.5526\n",
      "Epoch 63/100\n",
      "11/11 [==============================] - ETA: 0s - loss: 0.5022 - acc: 0.812 - ETA: 0s - loss: 0.4615 - acc: 0.859 - ETA: 0s - loss: 0.3794 - acc: 0.895 - ETA: 0s - loss: 0.3171 - acc: 0.913 - ETA: 0s - loss: 0.3402 - acc: 0.885 - ETA: 0s - loss: 0.3197 - acc: 0.893 - ETA: 0s - loss: 0.3321 - acc: 0.887 - ETA: 0s - loss: 0.3318 - acc: 0.889 - ETA: 0s - loss: 0.3485 - acc: 0.881 - 4s 322ms/step - loss: 0.3479 - acc: 0.8809 - val_loss: 2.1739 - val_acc: 0.5789\n",
      "Epoch 64/100\n",
      "11/11 [==============================] - ETA: 0s - loss: 0.5553 - acc: 0.812 - ETA: 0s - loss: 0.5681 - acc: 0.781 - ETA: 0s - loss: 0.4559 - acc: 0.833 - ETA: 0s - loss: 0.3940 - acc: 0.867 - ETA: 0s - loss: 0.3768 - acc: 0.875 - ETA: 0s - loss: 0.3650 - acc: 0.885 - ETA: 0s - loss: 0.3941 - acc: 0.879 - ETA: 0s - loss: 0.3830 - acc: 0.882 - ETA: 0s - loss: 0.3629 - acc: 0.885 - ETA: 0s - loss: 0.3735 - acc: 0.878 - 4s 319ms/step - loss: 0.3963 - acc: 0.8728 - val_loss: 2.2596 - val_acc: 0.5000\n",
      "Epoch 65/100\n"
     ]
    },
    {
     "name": "stdout",
     "output_type": "stream",
     "text": [
      "11/11 [==============================] - ETA: 0s - loss: 0.6289 - acc: 0.812 - ETA: 0s - loss: 0.5693 - acc: 0.875 - ETA: 0s - loss: 0.4787 - acc: 0.895 - ETA: 0s - loss: 0.4372 - acc: 0.882 - ETA: 0s - loss: 0.3962 - acc: 0.893 - ETA: 0s - loss: 0.3782 - acc: 0.901 - ETA: 0s - loss: 0.3710 - acc: 0.892 - ETA: 0s - loss: 0.3360 - acc: 0.900 - ETA: 0s - loss: 0.3361 - acc: 0.901 - ETA: 0s - loss: 0.3424 - acc: 0.895 - 3s 309ms/step - loss: 0.3996 - acc: 0.8764 - val_loss: 2.9444 - val_acc: 0.5263\n",
      "Epoch 66/100\n",
      "11/11 [==============================] - ETA: 0s - loss: 0.7183 - acc: 0.843 - ETA: 0s - loss: 0.4628 - acc: 0.890 - ETA: 0s - loss: 0.3835 - acc: 0.906 - ETA: 0s - loss: 0.3788 - acc: 0.898 - ETA: 0s - loss: 0.3315 - acc: 0.912 - ETA: 0s - loss: 0.3013 - acc: 0.919 - ETA: 0s - loss: 0.3287 - acc: 0.908 - ETA: 0s - loss: 0.3619 - acc: 0.892 - ETA: 0s - loss: 0.3466 - acc: 0.897 - ETA: 0s - loss: 0.3245 - acc: 0.908 - 3s 287ms/step - loss: 0.3136 - acc: 0.9134 - val_loss: 2.4896 - val_acc: 0.5351\n",
      "Epoch 67/100\n",
      "11/11 [==============================] - ETA: 0s - loss: 0.2967 - acc: 0.968 - ETA: 0s - loss: 0.3325 - acc: 0.921 - ETA: 0s - loss: 0.3045 - acc: 0.916 - ETA: 0s - loss: 0.3177 - acc: 0.921 - ETA: 0s - loss: 0.3267 - acc: 0.918 - ETA: 0s - loss: 0.3488 - acc: 0.906 - ETA: 0s - loss: 0.3613 - acc: 0.906 - ETA: 0s - loss: 0.3563 - acc: 0.912 - ETA: 0s - loss: 0.3419 - acc: 0.915 - ETA: 0s - loss: 0.3221 - acc: 0.923 - 3s 302ms/step - loss: 0.3223 - acc: 0.9191 - val_loss: 2.5327 - val_acc: 0.5439\n",
      "Epoch 68/100\n",
      "11/11 [==============================] - ETA: 0s - loss: 0.2206 - acc: 0.968 - ETA: 0s - loss: 0.2002 - acc: 0.937 - ETA: 0s - loss: 0.2295 - acc: 0.927 - ETA: 0s - loss: 0.2134 - acc: 0.929 - ETA: 0s - loss: 0.2821 - acc: 0.918 - ETA: 0s - loss: 0.2663 - acc: 0.927 - ETA: 0s - loss: 0.2725 - acc: 0.924 - ETA: 0s - loss: 0.2617 - acc: 0.927 - ETA: 0s - loss: 0.2715 - acc: 0.929 - ETA: 0s - loss: 0.2769 - acc: 0.923 - 3s 290ms/step - loss: 0.2651 - acc: 0.9276 - val_loss: 2.4220 - val_acc: 0.5526\n",
      "Epoch 69/100\n",
      "11/11 [==============================] - ETA: 0s - loss: 0.2063 - acc: 0.937 - ETA: 0s - loss: 0.2122 - acc: 0.906 - ETA: 0s - loss: 0.2169 - acc: 0.918 - ETA: 0s - loss: 0.2172 - acc: 0.915 - ETA: 0s - loss: 0.2572 - acc: 0.898 - ETA: 0s - loss: 0.2484 - acc: 0.904 - ETA: 0s - loss: 0.2475 - acc: 0.904 - ETA: 0s - loss: 0.2436 - acc: 0.908 - ETA: 0s - loss: 0.2408 - acc: 0.914 - 3s 306ms/step - loss: 0.2389 - acc: 0.9162 - val_loss: 2.8533 - val_acc: 0.4912\n",
      "Epoch 70/100\n",
      "11/11 [==============================] - ETA: 0s - loss: 0.2995 - acc: 0.906 - ETA: 0s - loss: 0.3464 - acc: 0.859 - ETA: 0s - loss: 0.2818 - acc: 0.895 - ETA: 0s - loss: 0.3056 - acc: 0.875 - ETA: 0s - loss: 0.4431 - acc: 0.837 - ETA: 0s - loss: 0.4680 - acc: 0.849 - ETA: 0s - loss: 0.4436 - acc: 0.857 - ETA: 0s - loss: 0.4351 - acc: 0.859 - ETA: 0s - loss: 0.4106 - acc: 0.864 - ETA: 0s - loss: 0.3857 - acc: 0.871 - 3s 287ms/step - loss: 0.3616 - acc: 0.8832 - val_loss: 2.5236 - val_acc: 0.5088\n",
      "Epoch 71/100\n",
      "11/11 [==============================] - ETA: 0s - loss: 0.1353 - acc: 1.000 - ETA: 0s - loss: 0.1940 - acc: 0.984 - ETA: 0s - loss: 0.1845 - acc: 0.968 - ETA: 0s - loss: 0.1856 - acc: 0.953 - ETA: 0s - loss: 0.1720 - acc: 0.956 - ETA: 0s - loss: 0.2351 - acc: 0.937 - ETA: 0s - loss: 0.2456 - acc: 0.919 - ETA: 0s - loss: 0.2547 - acc: 0.914 - ETA: 0s - loss: 0.2515 - acc: 0.908 - ETA: 0s - loss: 0.2750 - acc: 0.905 - 3s 305ms/step - loss: 0.2882 - acc: 0.9025 - val_loss: 2.4456 - val_acc: 0.5614\n",
      "Epoch 72/100\n",
      "11/11 [==============================] - ETA: 0s - loss: 0.2407 - acc: 0.906 - ETA: 0s - loss: 0.3040 - acc: 0.859 - ETA: 0s - loss: 0.2673 - acc: 0.906 - ETA: 0s - loss: 0.2851 - acc: 0.895 - ETA: 0s - loss: 0.2708 - acc: 0.897 - ETA: 0s - loss: 0.2453 - acc: 0.914 - ETA: 0s - loss: 0.2634 - acc: 0.913 - ETA: 0s - loss: 0.2693 - acc: 0.912 - ETA: 0s - loss: 0.2901 - acc: 0.908 - ETA: 0s - loss: 0.2683 - acc: 0.917 - 3s 281ms/step - loss: 0.2537 - acc: 0.9224 - val_loss: 2.6935 - val_acc: 0.5351\n",
      "Epoch 73/100\n",
      "11/11 [==============================] - ETA: 0s - loss: 0.2067 - acc: 0.937 - ETA: 0s - loss: 0.2136 - acc: 0.937 - ETA: 0s - loss: 0.1931 - acc: 0.958 - ETA: 0s - loss: 0.1814 - acc: 0.953 - ETA: 0s - loss: 0.1668 - acc: 0.956 - ETA: 0s - loss: 0.1722 - acc: 0.958 - ETA: 0s - loss: 0.1794 - acc: 0.951 - ETA: 0s - loss: 0.1811 - acc: 0.945 - ETA: 0s - loss: 0.1735 - acc: 0.944 - ETA: 0s - loss: 0.1838 - acc: 0.934 - 4s 343ms/step - loss: 0.1994 - acc: 0.9350 - val_loss: 2.8755 - val_acc: 0.5175\n",
      "Epoch 74/100\n",
      "11/11 [==============================] - ETA: 0s - loss: 0.1393 - acc: 0.937 - ETA: 0s - loss: 0.1416 - acc: 0.953 - ETA: 0s - loss: 0.2118 - acc: 0.927 - ETA: 0s - loss: 0.2742 - acc: 0.914 - ETA: 0s - loss: 0.2965 - acc: 0.906 - ETA: 0s - loss: 0.2995 - acc: 0.895 - ETA: 0s - loss: 0.2928 - acc: 0.901 - ETA: 0s - loss: 0.2734 - acc: 0.906 - ETA: 0s - loss: 0.2644 - acc: 0.909 - ETA: 0s - loss: 0.2564 - acc: 0.912 - 3s 290ms/step - loss: 0.2751 - acc: 0.9082 - val_loss: 2.3697 - val_acc: 0.5526\n",
      "Epoch 75/100\n",
      "11/11 [==============================] - ETA: 0s - loss: 0.1051 - acc: 0.968 - ETA: 0s - loss: 0.1690 - acc: 0.917 - ETA: 0s - loss: 0.1571 - acc: 0.930 - ETA: 0s - loss: 0.2091 - acc: 0.931 - ETA: 0s - loss: 0.2446 - acc: 0.917 - ETA: 0s - loss: 0.2870 - acc: 0.906 - ETA: 0s - loss: 0.2775 - acc: 0.910 - ETA: 0s - loss: 0.2827 - acc: 0.903 - ETA: 0s - loss: 0.2753 - acc: 0.903 - 3s 296ms/step - loss: 0.2645 - acc: 0.9093 - val_loss: 2.6682 - val_acc: 0.5526\n",
      "Epoch 76/100\n",
      "11/11 [==============================] - ETA: 0s - loss: 0.3400 - acc: 0.906 - ETA: 0s - loss: 0.2650 - acc: 0.937 - ETA: 0s - loss: 0.2778 - acc: 0.915 - ETA: 0s - loss: 0.2475 - acc: 0.926 - ETA: 0s - loss: 0.2449 - acc: 0.928 - ETA: 0s - loss: 0.3093 - acc: 0.911 - ETA: 0s - loss: 0.3299 - acc: 0.899 - ETA: 0s - loss: 0.3371 - acc: 0.896 - ETA: 0s - loss: 0.3202 - acc: 0.900 - 3s 252ms/step - loss: 0.3136 - acc: 0.9041 - val_loss: 2.7386 - val_acc: 0.5351\n",
      "Epoch 77/100\n",
      "11/11 [==============================] - ETA: 0s - loss: 0.2365 - acc: 0.968 - ETA: 0s - loss: 0.1726 - acc: 0.984 - ETA: 0s - loss: 0.1645 - acc: 0.968 - ETA: 0s - loss: 0.1604 - acc: 0.960 - ETA: 0s - loss: 0.1517 - acc: 0.968 - ETA: 0s - loss: 0.1533 - acc: 0.963 - ETA: 0s - loss: 0.1702 - acc: 0.950 - ETA: 0s - loss: 0.1627 - acc: 0.953 - ETA: 0s - loss: 0.2277 - acc: 0.937 - ETA: 0s - loss: 0.2743 - acc: 0.928 - 3s 269ms/step - loss: 0.2955 - acc: 0.9203 - val_loss: 2.3086 - val_acc: 0.5614\n",
      "Epoch 78/100\n",
      "11/11 [==============================] - ETA: 0s - loss: 0.2220 - acc: 0.937 - ETA: 0s - loss: 0.3462 - acc: 0.928 - ETA: 0s - loss: 0.2893 - acc: 0.938 - ETA: 0s - loss: 0.2769 - acc: 0.938 - ETA: 0s - loss: 0.2718 - acc: 0.932 - ETA: 0s - loss: 0.2553 - acc: 0.937 - ETA: 0s - loss: 0.2390 - acc: 0.945 - ETA: 0s - loss: 0.2392 - acc: 0.944 - ETA: 0s - loss: 0.2364 - acc: 0.947 - 3s 247ms/step - loss: 0.2442 - acc: 0.9464 - val_loss: 2.5350 - val_acc: 0.5526\n",
      "Epoch 79/100\n",
      "11/11 [==============================] - ETA: 0s - loss: 0.0762 - acc: 0.968 - ETA: 0s - loss: 0.1850 - acc: 0.921 - ETA: 0s - loss: 0.1596 - acc: 0.937 - ETA: 0s - loss: 0.1486 - acc: 0.945 - ETA: 0s - loss: 0.1635 - acc: 0.937 - ETA: 0s - loss: 0.1876 - acc: 0.932 - ETA: 0s - loss: 0.1952 - acc: 0.937 - ETA: 0s - loss: 0.1890 - acc: 0.937 - ETA: 0s - loss: 0.1834 - acc: 0.937 - ETA: 0s - loss: 0.1858 - acc: 0.930 - 3s 267ms/step - loss: 0.2086 - acc: 0.9281 - val_loss: 2.2120 - val_acc: 0.5263\n",
      "Epoch 80/100\n",
      "11/11 [==============================] - ETA: 0s - loss: 0.0930 - acc: 0.968 - ETA: 0s - loss: 0.1900 - acc: 0.921 - ETA: 0s - loss: 0.1829 - acc: 0.916 - ETA: 0s - loss: 0.1936 - acc: 0.914 - ETA: 0s - loss: 0.1904 - acc: 0.918 - ETA: 0s - loss: 0.1824 - acc: 0.921 - ETA: 0s - loss: 0.2229 - acc: 0.919 - ETA: 0s - loss: 0.2129 - acc: 0.925 - ETA: 0s - loss: 0.2069 - acc: 0.930 - ETA: 0s - loss: 0.2026 - acc: 0.934 - 3s 250ms/step - loss: 0.2171 - acc: 0.9281 - val_loss: 3.1089 - val_acc: 0.4386\n",
      "Epoch 81/100\n"
     ]
    },
    {
     "name": "stdout",
     "output_type": "stream",
     "text": [
      "11/11 [==============================] - ETA: 0s - loss: 0.5576 - acc: 0.781 - ETA: 0s - loss: 0.4957 - acc: 0.859 - ETA: 0s - loss: 0.5008 - acc: 0.864 - ETA: 0s - loss: 0.4516 - acc: 0.859 - ETA: 0s - loss: 0.4104 - acc: 0.868 - ETA: 0s - loss: 0.4567 - acc: 0.875 - ETA: 0s - loss: 0.4226 - acc: 0.879 - ETA: 0s - loss: 0.3821 - acc: 0.894 - ETA: 0s - loss: 0.3526 - acc: 0.902 - ETA: 0s - loss: 0.3371 - acc: 0.906 - 3s 266ms/step - loss: 0.3229 - acc: 0.9060 - val_loss: 2.5162 - val_acc: 0.5175\n",
      "Epoch 82/100\n",
      "11/11 [==============================] - ETA: 0s - loss: 0.1247 - acc: 0.968 - ETA: 0s - loss: 0.1346 - acc: 0.968 - ETA: 0s - loss: 0.1591 - acc: 0.949 - ETA: 0s - loss: 0.1552 - acc: 0.953 - ETA: 0s - loss: 0.1885 - acc: 0.940 - ETA: 0s - loss: 0.2233 - acc: 0.931 - ETA: 0s - loss: 0.2195 - acc: 0.935 - ETA: 0s - loss: 0.2402 - acc: 0.925 - ETA: 0s - loss: 0.2343 - acc: 0.926 - 3s 245ms/step - loss: 0.2349 - acc: 0.9219 - val_loss: 2.7599 - val_acc: 0.5088\n",
      "Epoch 83/100\n",
      "11/11 [==============================] - ETA: 0s - loss: 0.3590 - acc: 0.875 - ETA: 0s - loss: 0.2247 - acc: 0.921 - ETA: 0s - loss: 0.2317 - acc: 0.916 - ETA: 0s - loss: 0.2097 - acc: 0.928 - ETA: 0s - loss: 0.1928 - acc: 0.940 - ETA: 0s - loss: 0.1871 - acc: 0.944 - ETA: 0s - loss: 0.1859 - acc: 0.943 - ETA: 0s - loss: 0.1803 - acc: 0.942 - ETA: 0s - loss: 0.1772 - acc: 0.945 - 3s 269ms/step - loss: 0.1624 - acc: 0.9504 - val_loss: 3.0021 - val_acc: 0.5526\n",
      "Epoch 84/100\n",
      "11/11 [==============================] - ETA: 0s - loss: 0.1915 - acc: 0.906 - ETA: 0s - loss: 0.2901 - acc: 0.896 - ETA: 0s - loss: 0.2472 - acc: 0.914 - ETA: 0s - loss: 0.2419 - acc: 0.919 - ETA: 0s - loss: 0.2355 - acc: 0.917 - ETA: 0s - loss: 0.2331 - acc: 0.920 - ETA: 0s - loss: 0.2158 - acc: 0.930 - ETA: 0s - loss: 0.1985 - acc: 0.937 - ETA: 0s - loss: 0.1884 - acc: 0.944 - 3s 243ms/step - loss: 0.1827 - acc: 0.9464 - val_loss: 3.6078 - val_acc: 0.5351\n",
      "Epoch 85/100\n",
      "11/11 [==============================] - ETA: 0s - loss: 0.2049 - acc: 0.968 - ETA: 0s - loss: 0.1712 - acc: 0.958 - ETA: 0s - loss: 0.1801 - acc: 0.945 - ETA: 0s - loss: 0.1702 - acc: 0.950 - ETA: 0s - loss: 0.1719 - acc: 0.953 - ETA: 0s - loss: 0.1844 - acc: 0.946 - ETA: 0s - loss: 0.2114 - acc: 0.933 - ETA: 0s - loss: 0.2085 - acc: 0.934 - ETA: 0s - loss: 0.1971 - acc: 0.934 - 3s 271ms/step - loss: 0.1979 - acc: 0.9321 - val_loss: 3.0891 - val_acc: 0.5088\n",
      "Epoch 86/100\n",
      "11/11 [==============================] - ETA: 0s - loss: 0.7575 - acc: 0.843 - ETA: 0s - loss: 0.5884 - acc: 0.843 - ETA: 0s - loss: 0.4379 - acc: 0.885 - ETA: 0s - loss: 0.4348 - acc: 0.890 - ETA: 0s - loss: 0.3659 - acc: 0.912 - ETA: 0s - loss: 0.3325 - acc: 0.916 - ETA: 0s - loss: 0.2941 - acc: 0.928 - ETA: 0s - loss: 0.2654 - acc: 0.937 - ETA: 0s - loss: 0.2472 - acc: 0.941 - ETA: 0s - loss: 0.2488 - acc: 0.940 - 3s 251ms/step - loss: 0.2335 - acc: 0.9459 - val_loss: 2.9912 - val_acc: 0.5877\n",
      "Epoch 87/100\n",
      "11/11 [==============================] - ETA: 0s - loss: 0.0412 - acc: 1.000 - ETA: 0s - loss: 0.0442 - acc: 1.000 - ETA: 0s - loss: 0.0755 - acc: 0.968 - ETA: 0s - loss: 0.0597 - acc: 0.976 - ETA: 0s - loss: 0.0609 - acc: 0.972 - ETA: 0s - loss: 0.0598 - acc: 0.976 - ETA: 0s - loss: 0.0664 - acc: 0.971 - ETA: 0s - loss: 0.0761 - acc: 0.970 - ETA: 0s - loss: 0.0764 - acc: 0.970 - ETA: 0s - loss: 0.0733 - acc: 0.973 - 3s 264ms/step - loss: 0.0753 - acc: 0.9732 - val_loss: 3.0827 - val_acc: 0.5614\n",
      "Epoch 88/100\n",
      "11/11 [==============================] - ETA: 0s - loss: 0.0929 - acc: 0.937 - ETA: 0s - loss: 0.2271 - acc: 0.921 - ETA: 0s - loss: 0.1930 - acc: 0.930 - ETA: 0s - loss: 0.2309 - acc: 0.931 - ETA: 0s - loss: 0.2168 - acc: 0.932 - ETA: 0s - loss: 0.2289 - acc: 0.933 - ETA: 0s - loss: 0.2330 - acc: 0.933 - ETA: 0s - loss: 0.2502 - acc: 0.930 - ETA: 0s - loss: 0.2357 - acc: 0.934 - 3s 252ms/step - loss: 0.2281 - acc: 0.9350 - val_loss: 2.7863 - val_acc: 0.5351\n",
      "Epoch 89/100\n",
      "11/11 [==============================] - ETA: 0s - loss: 0.0881 - acc: 1.000 - ETA: 0s - loss: 0.1398 - acc: 0.968 - ETA: 0s - loss: 0.1289 - acc: 0.968 - ETA: 0s - loss: 0.1375 - acc: 0.960 - ETA: 0s - loss: 0.1553 - acc: 0.950 - ETA: 0s - loss: 0.1882 - acc: 0.947 - ETA: 0s - loss: 0.2014 - acc: 0.942 - ETA: 0s - loss: 0.2110 - acc: 0.937 - ETA: 0s - loss: 0.2068 - acc: 0.937 - ETA: 0s - loss: 0.2019 - acc: 0.940 - 3s 272ms/step - loss: 0.2018 - acc: 0.9407 - val_loss: 3.2336 - val_acc: 0.5526\n",
      "Epoch 90/100\n",
      "11/11 [==============================] - ETA: 0s - loss: 0.2075 - acc: 0.937 - ETA: 0s - loss: 0.2356 - acc: 0.921 - ETA: 0s - loss: 0.1919 - acc: 0.937 - ETA: 0s - loss: 0.1734 - acc: 0.953 - ETA: 0s - loss: 0.1521 - acc: 0.953 - ETA: 0s - loss: 0.1319 - acc: 0.961 - ETA: 0s - loss: 0.1179 - acc: 0.966 - ETA: 0s - loss: 0.1283 - acc: 0.963 - ETA: 0s - loss: 0.1218 - acc: 0.963 - ETA: 0s - loss: 0.1130 - acc: 0.967 - 3s 253ms/step - loss: 0.1243 - acc: 0.9618 - val_loss: 3.2435 - val_acc: 0.5088\n",
      "Epoch 91/100\n",
      "11/11 [==============================] - ETA: 0s - loss: 0.1365 - acc: 0.968 - ETA: 0s - loss: 0.1617 - acc: 0.937 - ETA: 0s - loss: 0.1408 - acc: 0.947 - ETA: 0s - loss: 0.1370 - acc: 0.945 - ETA: 0s - loss: 0.1253 - acc: 0.956 - ETA: 0s - loss: 0.1157 - acc: 0.963 - ETA: 0s - loss: 0.1095 - acc: 0.968 - ETA: 0s - loss: 0.1014 - acc: 0.972 - ETA: 0s - loss: 0.1043 - acc: 0.972 - ETA: 0s - loss: 0.0968 - acc: 0.971 - 4s 346ms/step - loss: 0.1171 - acc: 0.9623 - val_loss: 3.1202 - val_acc: 0.5088\n",
      "Epoch 92/100\n",
      "11/11 [==============================] - ETA: 0s - loss: 0.2435 - acc: 0.875 - ETA: 0s - loss: 0.1684 - acc: 0.921 - ETA: 0s - loss: 0.1367 - acc: 0.947 - ETA: 0s - loss: 0.1223 - acc: 0.945 - ETA: 0s - loss: 0.1085 - acc: 0.950 - ETA: 0s - loss: 0.1172 - acc: 0.947 - ETA: 0s - loss: 0.1097 - acc: 0.955 - ETA: 0s - loss: 0.1030 - acc: 0.957 - ETA: 0s - loss: 0.1086 - acc: 0.951 - ETA: 0s - loss: 0.1369 - acc: 0.947 - 3s 275ms/step - loss: 0.1604 - acc: 0.9435 - val_loss: 3.4438 - val_acc: 0.4298\n",
      "Epoch 93/100\n",
      "11/11 [==============================] - ETA: 0s - loss: 0.1455 - acc: 0.909 - ETA: 0s - loss: 0.1193 - acc: 0.938 - ETA: 0s - loss: 0.2781 - acc: 0.917 - ETA: 0s - loss: 0.2515 - acc: 0.914 - ETA: 0s - loss: 0.2667 - acc: 0.913 - ETA: 0s - loss: 0.2408 - acc: 0.922 - ETA: 0s - loss: 0.2262 - acc: 0.924 - ETA: 0s - loss: 0.2503 - acc: 0.914 - ETA: 0s - loss: 0.2274 - acc: 0.920 - ETA: 0s - loss: 0.2222 - acc: 0.925 - 3s 295ms/step - loss: 0.2146 - acc: 0.9293 - val_loss: 3.0467 - val_acc: 0.5439\n",
      "Epoch 94/100\n",
      "11/11 [==============================] - ETA: 0s - loss: 0.0228 - acc: 1.000 - ETA: 0s - loss: 0.0402 - acc: 0.984 - ETA: 0s - loss: 0.0393 - acc: 0.989 - ETA: 0s - loss: 0.0519 - acc: 0.976 - ETA: 0s - loss: 0.0564 - acc: 0.968 - ETA: 0s - loss: 0.0519 - acc: 0.974 - ETA: 0s - loss: 0.0492 - acc: 0.977 - ETA: 0s - loss: 0.0641 - acc: 0.968 - ETA: 0s - loss: 0.0633 - acc: 0.968 - ETA: 0s - loss: 0.0643 - acc: 0.968 - 4s 330ms/step - loss: 0.0644 - acc: 0.9715 - val_loss: 3.2564 - val_acc: 0.5263\n",
      "Epoch 95/100\n",
      "11/11 [==============================] - ETA: 0s - loss: 0.0429 - acc: 1.000 - ETA: 0s - loss: 0.0397 - acc: 1.000 - ETA: 0s - loss: 0.0365 - acc: 1.000 - ETA: 0s - loss: 0.0479 - acc: 1.000 - ETA: 0s - loss: 0.0449 - acc: 1.000 - ETA: 0s - loss: 0.0555 - acc: 0.989 - ETA: 0s - loss: 0.2131 - acc: 0.968 - ETA: 0s - loss: 0.2268 - acc: 0.949 - ETA: 0s - loss: 0.2195 - acc: 0.944 - ETA: 0s - loss: 0.2053 - acc: 0.947 - 4s 349ms/step - loss: 0.2079 - acc: 0.9435 - val_loss: 3.3658 - val_acc: 0.5614\n",
      "Epoch 96/100\n",
      "11/11 [==============================] - ETA: 0s - loss: 0.3300 - acc: 0.906 - ETA: 0s - loss: 0.2106 - acc: 0.921 - ETA: 0s - loss: 0.1741 - acc: 0.932 - ETA: 0s - loss: 0.1424 - acc: 0.949 - ETA: 0s - loss: 0.1344 - acc: 0.953 - ETA: 0s - loss: 0.1735 - acc: 0.956 - ETA: 0s - loss: 0.1625 - acc: 0.962 - ETA: 0s - loss: 0.1592 - acc: 0.955 - ETA: 0s - loss: 0.1517 - acc: 0.960 - ETA: 0s - loss: 0.1446 - acc: 0.961 - 3s 269ms/step - loss: 0.1511 - acc: 0.9589 - val_loss: 3.0024 - val_acc: 0.5702\n",
      "Epoch 97/100\n"
     ]
    },
    {
     "name": "stdout",
     "output_type": "stream",
     "text": [
      "11/11 [==============================] - ETA: 0s - loss: 0.1153 - acc: 0.968 - ETA: 0s - loss: 0.1169 - acc: 0.959 - ETA: 0s - loss: 0.1013 - acc: 0.969 - ETA: 0s - loss: 0.0932 - acc: 0.969 - ETA: 0s - loss: 0.1050 - acc: 0.969 - ETA: 0s - loss: 0.1086 - acc: 0.969 - ETA: 0s - loss: 0.1020 - acc: 0.973 - ETA: 0s - loss: 0.1222 - acc: 0.972 - ETA: 0s - loss: 0.1125 - acc: 0.975 - 3s 314ms/step - loss: 0.1097 - acc: 0.9748 - val_loss: 2.9604 - val_acc: 0.5439\n",
      "Epoch 98/100\n",
      "11/11 [==============================] - ETA: 0s - loss: 0.0581 - acc: 1.000 - ETA: 0s - loss: 0.0326 - acc: 1.000 - ETA: 0s - loss: 0.0449 - acc: 0.989 - ETA: 0s - loss: 0.0631 - acc: 0.984 - ETA: 0s - loss: 0.0641 - acc: 0.981 - ETA: 0s - loss: 0.0853 - acc: 0.974 - ETA: 0s - loss: 0.1088 - acc: 0.964 - ETA: 0s - loss: 0.1077 - acc: 0.960 - ETA: 0s - loss: 0.0975 - acc: 0.965 - ETA: 0s - loss: 0.0893 - acc: 0.968 - 3s 273ms/step - loss: 0.0865 - acc: 0.9687 - val_loss: 3.3295 - val_acc: 0.5088\n",
      "Epoch 99/100\n",
      "11/11 [==============================] - ETA: 0s - loss: 0.1987 - acc: 0.875 - ETA: 0s - loss: 0.1175 - acc: 0.937 - ETA: 0s - loss: 0.1105 - acc: 0.937 - ETA: 0s - loss: 0.1008 - acc: 0.953 - ETA: 0s - loss: 0.0932 - acc: 0.956 - ETA: 0s - loss: 0.0941 - acc: 0.958 - ETA: 0s - loss: 0.1336 - acc: 0.950 - ETA: 0s - loss: 0.1253 - acc: 0.957 - ETA: 0s - loss: 0.1859 - acc: 0.944 - ETA: 0s - loss: 0.1740 - acc: 0.950 - 3s 273ms/step - loss: 0.1714 - acc: 0.9487 - val_loss: 3.2633 - val_acc: 0.5175\n",
      "Epoch 100/100\n",
      "11/11 [==============================] - ETA: 0s - loss: 0.1387 - acc: 0.906 - ETA: 0s - loss: 0.1926 - acc: 0.921 - ETA: 0s - loss: 0.3470 - acc: 0.895 - ETA: 0s - loss: 0.2937 - acc: 0.914 - ETA: 0s - loss: 0.2510 - acc: 0.931 - ETA: 0s - loss: 0.2131 - acc: 0.942 - ETA: 0s - loss: 0.1932 - acc: 0.946 - ETA: 0s - loss: 0.1963 - acc: 0.937 - ETA: 0s - loss: 0.1880 - acc: 0.941 - ETA: 0s - loss: 0.1780 - acc: 0.943 - 3s 255ms/step - loss: 0.1629 - acc: 0.9487 - val_loss: 3.2498 - val_acc: 0.4825\n"
     ]
    }
   ],
   "source": [
    "history = model.fit_generator(train_generator, \n",
    "                              validation_data = validation_generator,\n",
    "                              epochs = 100,\n",
    "                              callbacks=[history]\n",
    "                             )"
   ]
  },
  {
   "cell_type": "code",
   "execution_count": 67,
   "metadata": {},
   "outputs": [
    {
     "name": "stdout",
     "output_type": "stream",
     "text": [
      "dict_keys(['val_loss', 'val_acc', 'loss', 'acc'])\n"
     ]
    },
    {
     "data": {
      "image/png": "[encoded data removed]",
      "text/plain": [
       "<matplotlib.figure.Figure at 0x1f68052d860>"
      ]
     },
     "metadata": {},
     "output_type": "display_data"
    },
    {
     "data": {
      "image/png": "[encoded data removed]",
      "text/plain": [
       "<matplotlib.figure.Figure at 0x1f6f9b71d68>"
      ]
     },
     "metadata": {},
     "output_type": "display_data"
    }
   ],
   "source": [
    "# list all data in history\n",
    "print(history.history.keys())\n",
    "\n",
    "# summarize history for accuracy\n",
    "plt.plot(history.history['acc'])\n",
    "plt.plot(history.history['val_acc'])\n",
    "plt.title('model accuracy')\n",
    "plt.ylabel('accuracy')\n",
    "plt.xlabel('epoch')\n",
    "plt.legend(['train', 'test'], loc='upper left')\n",
    "# plt.legend(['train'], loc='upper left')\n",
    "plt.show()\n",
    "\n",
    "# summarize history for loss\n",
    "plt.plot(history.history['loss'])\n",
    "plt.plot(history.history['val_loss'])\n",
    "plt.title('model loss')\n",
    "plt.ylabel('loss')\n",
    "plt.xlabel('epoch')\n",
    "plt.legend(['train', 'test'], loc='upper left')\n",
    "# plt.legend(['train'], loc='upper left')\n",
    "plt.show()"
   ]
  },
  {
   "cell_type": "code",
   "execution_count": 68,
   "metadata": {},
   "outputs": [
    {
     "data": {
      "text/plain": [
       "[6.344960452520359,\n",
       " 4.956173263795194,\n",
       " 3.933430514140436,\n",
       " 3.8760387576811497,\n",
       " 3.561008658325463,\n",
       " 3.283022110922295,\n",
       " 3.3009142234311466,\n",
       " 2.928699812693903,\n",
       " 2.3756288952297635,\n",
       " 2.227305781771565,\n",
       " 2.267326890376576,\n",
       " 2.2352215895178724,\n",
       " 2.1892691550896184,\n",
       " 2.1304914881611428,\n",
       " 2.1476575686917667,\n",
       " 1.9836010521615457,\n",
       " 2.0574048318360982,\n",
       " 1.9284915038716723,\n",
       " 1.829647633764479,\n",
       " 1.8844126630247684,\n",
       " 1.8505802022086248,\n",
       " 1.7255953215716178,\n",
       " 1.7579465400405794,\n",
       " 1.596315848897075,\n",
       " 1.7356247469695687,\n",
       " 1.558253226224442,\n",
       " 1.5562386673096327,\n",
       " 1.6617154684680246,\n",
       " 1.4502565930461326,\n",
       " 1.5374151524047406,\n",
       " 1.4641965258191203,\n",
       " 1.2644386974691648,\n",
       " 1.4600550542797959,\n",
       " 1.2274341060404192,\n",
       " 1.2496171178873519,\n",
       " 1.2396488266381605,\n",
       " 1.1968946673019587,\n",
       " 1.1687920253876356,\n",
       " 1.0459373798983835,\n",
       " 1.0566502481873272,\n",
       " 0.9925298621082863,\n",
       " 0.966262644145921,\n",
       " 0.995250962282482,\n",
       " 0.9725373024828949,\n",
       " 0.8692570663335031,\n",
       " 0.8315237603689495,\n",
       " 0.7046689582847016,\n",
       " 0.9301798964104457,\n",
       " 0.7593705730828625,\n",
       " 0.6433667749689337,\n",
       " 0.6037904813624265,\n",
       " 0.6744788648092259,\n",
       " 0.6238622654948318,\n",
       " 0.6422010327291767,\n",
       " 0.4669854484106365,\n",
       " 0.6444234077693426,\n",
       " 0.39112458591572724,\n",
       " 0.4879143156154811,\n",
       " 0.46898802382904187,\n",
       " 0.3643324702803852,\n",
       " 0.4389804730638426,\n",
       " 0.41369733911508705,\n",
       " 0.3502460228420838,\n",
       " 0.3900701020196167,\n",
       " 0.40787338870659207,\n",
       " 0.317931996800049,\n",
       " 0.322287853001154,\n",
       " 0.2671915115843042,\n",
       " 0.23982117338138714,\n",
       " 0.3681939999349633,\n",
       " 0.28987808717273134,\n",
       " 0.25142127711173384,\n",
       " 0.1987191944094429,\n",
       " 0.2700030279089833,\n",
       " 0.26646465045666834,\n",
       " 0.31219258852172316,\n",
       " 0.30029814838491686,\n",
       " 0.2387673678802468,\n",
       " 0.20865185741792647,\n",
       " 0.21308356140092102,\n",
       " 0.3289375244176876,\n",
       " 0.23691322998693812,\n",
       " 0.1631178870710016,\n",
       " 0.18039183536468192,\n",
       " 0.19766374481351753,\n",
       " 0.2380440396785039,\n",
       " 0.07551609903399707,\n",
       " 0.22898251332386196,\n",
       " 0.1997260202092734,\n",
       " 0.12579927637040267,\n",
       " 0.11150919153676396,\n",
       " 0.1605572663029732,\n",
       " 0.21644927674566794,\n",
       " 0.06518791572392335,\n",
       " 0.2091622495511819,\n",
       " 0.15248074234403364,\n",
       " 0.10737229779101255,\n",
       " 0.08844405171401494,\n",
       " 0.17422195419407727,\n",
       " 0.16705502020685295]"
      ]
     },
     "execution_count": 68,
     "metadata": {},
     "output_type": "execute_result"
    }
   ],
   "source": [
    "history.history['loss']"
   ]
  },
  {
   "cell_type": "code",
   "execution_count": null,
   "metadata": {
    "collapsed": true
   },
   "outputs": [],
   "source": []
  }
 ],
 "metadata": {
  "kernelspec": {
   "display_name": "Python 3",
   "language": "python",
   "name": "python3"
  },
  "language_info": {
   "codemirror_mode": {
    "name": "ipython",
    "version": 3
   },
   "file_extension": ".py",
   "mimetype": "text/x-python",
   "name": "python",
   "nbconvert_exporter": "python",
   "pygments_lexer": "ipython3",
   "version": "3.6.2"
  }
 },
 "nbformat": 4,
 "nbformat_minor": 2
}
